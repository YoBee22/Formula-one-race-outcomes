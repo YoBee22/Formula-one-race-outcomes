{
 "cells": [
  {
   "cell_type": "markdown",
   "metadata": {},
   "source": [
    "DS5110 Project : Formula one race predictions\n",
    "Yogita Bisht, Suchitra Hole"
   ]
  },
  {
   "cell_type": "code",
   "execution_count": 63,
   "metadata": {},
   "outputs": [],
   "source": [
    "import pandas as pd\n",
    "import numpy as np\n",
    "import seaborn as sns\n",
    "import joblib\n",
    "from sklearn.model_selection import train_test_split, GridSearchCV\n",
    "from sklearn.preprocessing import StandardScaler, OneHotEncoder\n",
    "from sklearn.compose import ColumnTransformer\n",
    "from sklearn.pipeline import Pipeline\n",
    "from sklearn.linear_model import LogisticRegression\n",
    "from sklearn.ensemble import RandomForestClassifier\n",
    "from sklearn.metrics import accuracy_score, confusion_matrix\n",
    "import datetime as dt\n",
    "import pandas as pd\n",
    "import matplotlib.pyplot as plt\n",
    "import plotly.graph_objects as go\n",
    "import plotly.express as px\n",
    "from sklearn.model_selection import train_test_split\n",
    "from sklearn.preprocessing import LabelEncoder\n",
    "from sklearn.impute import SimpleImputer\n",
    "from sklearn.tree import DecisionTreeClassifier\n",
    "from sklearn.model_selection import ParameterGrid\n",
    "from sklearn.metrics import roc_auc_score\n",
    "from sklearn.metrics import roc_curve, auc\n",
    "from sqlalchemy import create_engine\n",
    "from warnings import simplefilter\n",
    "from sklearn.exceptions import ConvergenceWarning\n",
    "simplefilter(\"ignore\", category=ConvergenceWarning)\n",
    "simplefilter(\"ignore\", category=FutureWarning)\n"
   ]
  },
  {
   "cell_type": "code",
   "execution_count": 64,
   "metadata": {},
   "outputs": [],
   "source": [
    "\n",
    "# Connection to SQLite\n",
    "engine = create_engine(f\"sqlite:///D:/f1/f1.db\")\n",
    "\n",
    "# Querying the database\n",
    "\n",
    "races_query = \"SELECT * FROM races\"\n",
    "circuits_query = \"SELECT * FROM circuits\"\n",
    "constructor_results_query = \"SELECT * FROM constructor_results\"\n",
    "constructor_standings_query = \"SELECT * FROM constructor_standings\"\n",
    "constructors_query = \"SELECT * FROM constructors\"\n",
    "driver_standings_query = \"SELECT * FROM driver_standings\"\n",
    "drivers_query = \"SELECT * FROM drivers\"\n",
    "lap_times_query = \"SELECT * FROM lap_times\"\n",
    "pit_stops_query = \"SELECT * FROM pit_stops\"\n",
    "qualifying_query = \"SELECT * FROM qualifying\"\n",
    "results_query = \"SELECT * FROM results\"\n",
    "seasons_query = \"SELECT * FROM seasons\"\n",
    "status_query = \"SELECT * FROM status\"\n",
    "\n",
    "#Data import Method 1:\n",
    "#converting to pandas dataframes\n",
    "circuits = pd.read_sql_query(circuits_query, engine)\n",
    "constructor_results = pd.read_sql_query(constructor_results_query, engine)\n",
    "constructor_standings = pd.read_sql_query(constructor_standings_query, engine)\n",
    "constructors_df = pd.read_sql_query(constructors_query, engine)\n",
    "drivers_df = pd.read_sql_query(drivers_query, engine)\n",
    "race_df = pd.read_sql_query(races_query, engine)\n",
    "pit_stops = pd.read_sql_query(pit_stops_query, engine)\n",
    "qualifying = pd.read_sql_query(qualifying_query, engine)\n",
    "driver_standings = pd.read_sql_query(driver_standings_query, engine)\n",
    "status = pd.read_sql_query(status_query, engine)\n",
    "seasons = pd.read_sql_query(seasons_query, engine)\n",
    "results_df = pd.read_sql_query(results_query, engine)\n",
    "lap_times = pd.read_sql_query(lap_times_query, engine)\n",
    "\n",
    "\n"
   ]
  },
  {
   "cell_type": "code",
   "execution_count": 65,
   "metadata": {},
   "outputs": [],
   "source": [
    "#Data import Method 2:\n",
    "#csv to pandas dataframe\n",
    "circuits_df = pd.read_csv('circuits.csv')\n",
    "constructor_results_df = pd.read_csv('constructor_results.csv')\n",
    "constructor_standings_df = pd.read_csv('constructor_standings.csv')\n",
    "constructors_df = pd.read_csv('constructors.csv')\n",
    "drivers_df = pd.read_csv('drivers.csv')\n",
    "race_df = pd.read_csv('races.csv')\n",
    "pit_stops_df = pd.read_csv('pit_stops.csv')\n",
    "qualifying_df = pd.read_csv('qualifying.csv')\n",
    "driver_standings_df = pd.read_csv('driver_standings.csv')\n",
    "status_df = pd.read_csv('status.csv')\n",
    "seasons_df = pd.read_csv('seasons.csv')\n",
    "results_df = pd.read_csv('results.csv')\n",
    "lap_times_df = pd.read_csv('lap_times.csv')\n",
    "sprint_results_df = pd.read_csv('sprint_results.csv')"
   ]
  },
  {
   "cell_type": "markdown",
   "metadata": {},
   "source": [
    "DATA ANALYSIS"
   ]
  },
  {
   "cell_type": "code",
   "execution_count": 66,
   "metadata": {},
   "outputs": [
    {
     "name": "stdout",
     "output_type": "stream",
     "text": [
      "       resultId  raceId  driverId  constructorId number  grid position  \\\n",
      "0             1      18         1              1     22     1        1   \n",
      "1             2      18         2              2      3     5        2   \n",
      "2             3      18         3              3      7     7        3   \n",
      "3             4      18         4              4      5    11        4   \n",
      "4             5      18         5              1     23     3        5   \n",
      "...         ...     ...       ...            ...    ...   ...      ...   \n",
      "26514     26520    1132       839            214     31    18       16   \n",
      "26515     26521    1132       815              9     11     0       17   \n",
      "26516     26522    1132       855             15     24    14       18   \n",
      "26517     26523    1132       847            131     63     1       \\N   \n",
      "26518     26524    1132       842            214     10    19       \\N   \n",
      "\n",
      "      positionText  positionOrder  points  laps         time milliseconds  \\\n",
      "0                1              1    10.0    58  1:34:50.616      5690616   \n",
      "1                2              2     8.0    58       +5.478      5696094   \n",
      "2                3              3     6.0    58       +8.163      5698779   \n",
      "3                4              4     5.0    58      +17.181      5707797   \n",
      "4                5              5     4.0    58      +18.014      5708630   \n",
      "...            ...            ...     ...   ...          ...          ...   \n",
      "26514           16             16     0.0    50           \\N           \\N   \n",
      "26515           17             17     0.0    50           \\N           \\N   \n",
      "26516           18             18     0.0    50           \\N           \\N   \n",
      "26517            R             19     0.0    33           \\N           \\N   \n",
      "26518            W             20     0.0     0           \\N           \\N   \n",
      "\n",
      "      fastestLap rank fastestLapTime fastestLapSpeed  statusId  \n",
      "0             39    2       1:27.452         218.300         1  \n",
      "1             41    3       1:27.739         217.586         1  \n",
      "2             41    5       1:28.090         216.719         1  \n",
      "3             58    7       1:28.603         215.464         1  \n",
      "4             43    1       1:27.418         218.385         1  \n",
      "...          ...  ...            ...             ...       ...  \n",
      "26514         46   16       1:30.875         233.371        12  \n",
      "26515         50    6       1:29.707         236.409        12  \n",
      "26516         43   17       1:31.014         233.014        12  \n",
      "26517          3   19       1:31.298         232.289        34  \n",
      "26518         \\N    0             \\N              \\N         6  \n",
      "\n",
      "[26519 rows x 18 columns]\n"
     ]
    }
   ],
   "source": [
    "#Example: display all columns results from results.csv\n",
    "pd.get_option(\"display.max_columns\",None)\n",
    "print(results_df)\n"
   ]
  },
  {
   "cell_type": "code",
   "execution_count": 67,
   "metadata": {},
   "outputs": [
    {
     "name": "stdout",
     "output_type": "stream",
     "text": [
      "Driver result of a race\n",
      "   resultId  raceId  driverId  constructorId number  grid position  \\\n",
      "0         1      18         1              1     22     1        1   \n",
      "1         2      18         2              2      3     5        2   \n",
      "2         3      18         3              3      7     7        3   \n",
      "3         4      18         4              4      5    11        4   \n",
      "4         5      18         5              1     23     3        5   \n",
      "\n",
      "  positionText  positionOrder  points  laps         time milliseconds  \\\n",
      "0            1              1    10.0    58  1:34:50.616      5690616   \n",
      "1            2              2     8.0    58       +5.478      5696094   \n",
      "2            3              3     6.0    58       +8.163      5698779   \n",
      "3            4              4     5.0    58      +17.181      5707797   \n",
      "4            5              5     4.0    58      +18.014      5708630   \n",
      "\n",
      "  fastestLap rank fastestLapTime fastestLapSpeed  statusId  \n",
      "0         39    2       1:27.452         218.300         1  \n",
      "1         41    3       1:27.739         217.586         1  \n",
      "2         41    5       1:28.090         216.719         1  \n",
      "3         58    7       1:28.603         215.464         1  \n",
      "4         43    1       1:27.418         218.385         1  \n"
     ]
    }
   ],
   "source": [
    "# Starting grid, final position of every driver, constructor and status of each race\n",
    "print(\"Driver result of a race\")\n",
    "print(results_df.head())\n"
   ]
  },
  {
   "cell_type": "code",
   "execution_count": 68,
   "metadata": {},
   "outputs": [
    {
     "name": "stdout",
     "output_type": "stream",
     "text": [
      "       constructorId constructorRef        name nationality  \\\n",
      "0                  1        mclaren     McLaren     British   \n",
      "1                  1        mclaren     McLaren     British   \n",
      "2                  1        mclaren     McLaren     British   \n",
      "3                  1        mclaren     McLaren     British   \n",
      "4                  1        mclaren     McLaren     British   \n",
      "...              ...            ...         ...         ...   \n",
      "26515            215             rb  RB F1 Team     Italian   \n",
      "26516            215             rb  RB F1 Team     Italian   \n",
      "26517            215             rb  RB F1 Team     Italian   \n",
      "26518            215             rb  RB F1 Team     Italian   \n",
      "26519            215             rb  RB F1 Team     Italian   \n",
      "\n",
      "                                                    url  resultId  raceId  \\\n",
      "0                  http://en.wikipedia.org/wiki/McLaren       1.0    18.0   \n",
      "1                  http://en.wikipedia.org/wiki/McLaren       5.0    18.0   \n",
      "2                  http://en.wikipedia.org/wiki/McLaren      25.0    19.0   \n",
      "3                  http://en.wikipedia.org/wiki/McLaren      27.0    19.0   \n",
      "4                  http://en.wikipedia.org/wiki/McLaren      49.0    20.0   \n",
      "...                                                 ...       ...     ...   \n",
      "26515  http://en.wikipedia.org/wiki/RB_Formula_One_Team   26483.0  1130.0   \n",
      "26516  http://en.wikipedia.org/wiki/RB_Formula_One_Team   26493.0  1131.0   \n",
      "26517  http://en.wikipedia.org/wiki/RB_Formula_One_Team   26498.0  1131.0   \n",
      "26518  http://en.wikipedia.org/wiki/RB_Formula_One_Team   26514.0  1132.0   \n",
      "26519  http://en.wikipedia.org/wiki/RB_Formula_One_Team   26517.0  1132.0   \n",
      "\n",
      "       driverId number  grid  ... positionOrder points  laps         time  \\\n",
      "0           1.0     22   1.0  ...           1.0   10.0  58.0  1:34:50.616   \n",
      "1           5.0     23   3.0  ...           5.0    4.0  58.0      +18.014   \n",
      "2           5.0     23   8.0  ...           3.0    6.0  56.0      +38.450   \n",
      "3           1.0     22   9.0  ...           5.0    4.0  56.0      +46.548   \n",
      "4           5.0     23   5.0  ...           5.0    4.0  57.0      +26.789   \n",
      "...         ...    ...   ...  ...           ...    ...   ...          ...   \n",
      "26515     852.0     22  17.0  ...          19.0    0.0  65.0           \\N   \n",
      "26516     817.0      3  11.0  ...           9.0    2.0  71.0    +1:01.169   \n",
      "26517     852.0     22  14.0  ...          14.0    0.0  70.0           \\N   \n",
      "26518     852.0     22  13.0  ...          10.0    1.0  52.0    +1:19.303   \n",
      "26519     817.0      3  15.0  ...          13.0    0.0  51.0           \\N   \n",
      "\n",
      "       milliseconds fastestLap rank fastestLapTime fastestLapSpeed statusId  \n",
      "0           5690616         39    2       1:27.452         218.300      1.0  \n",
      "1           5708630         43    1       1:27.418         218.385      1.0  \n",
      "2           5517005         19    7       1:35.922         208.031      1.0  \n",
      "3           5525103         53    3       1:35.462         209.033      1.0  \n",
      "4           5493759         49    1       1:33.193         209.062      1.0  \n",
      "...             ...        ...  ...            ...             ...      ...  \n",
      "26515            \\N         56   16       1:19.447         211.023     11.0  \n",
      "26516       5123967         49   18       1:10.426         220.725      1.0  \n",
      "26517            \\N         54   15       1:10.318         221.064     11.0  \n",
      "26518       5026362         43   14       1:30.229         235.041      1.0  \n",
      "26519            \\N         47   15       1:30.735         233.731     11.0  \n",
      "\n",
      "[26520 rows x 22 columns]\n"
     ]
    }
   ],
   "source": [
    "#Example: perform left join on constructors and results\n",
    "team = constructors_df.merge(results_df,on='constructorId',how = 'left')\n",
    "print(team)"
   ]
  },
  {
   "cell_type": "code",
   "execution_count": 69,
   "metadata": {},
   "outputs": [
    {
     "data": {
      "text/html": [
       "<div>\n",
       "<style scoped>\n",
       "    .dataframe tbody tr th:only-of-type {\n",
       "        vertical-align: middle;\n",
       "    }\n",
       "\n",
       "    .dataframe tbody tr th {\n",
       "        vertical-align: top;\n",
       "    }\n",
       "\n",
       "    .dataframe thead th {\n",
       "        text-align: right;\n",
       "    }\n",
       "</style>\n",
       "<table border=\"1\" class=\"dataframe\">\n",
       "  <thead>\n",
       "    <tr style=\"text-align: right;\">\n",
       "      <th></th>\n",
       "      <th>name</th>\n",
       "      <th>races</th>\n",
       "    </tr>\n",
       "  </thead>\n",
       "  <tbody>\n",
       "    <tr>\n",
       "      <th>0</th>\n",
       "      <td>Ferrari</td>\n",
       "      <td>1088</td>\n",
       "    </tr>\n",
       "    <tr>\n",
       "      <th>1</th>\n",
       "      <td>McLaren</td>\n",
       "      <td>917</td>\n",
       "    </tr>\n",
       "    <tr>\n",
       "      <th>2</th>\n",
       "      <td>Williams</td>\n",
       "      <td>831</td>\n",
       "    </tr>\n",
       "    <tr>\n",
       "      <th>3</th>\n",
       "      <td>Tyrrell</td>\n",
       "      <td>433</td>\n",
       "    </tr>\n",
       "    <tr>\n",
       "      <th>4</th>\n",
       "      <td>Sauber</td>\n",
       "      <td>407</td>\n",
       "    </tr>\n",
       "  </tbody>\n",
       "</table>\n",
       "</div>"
      ],
      "text/plain": [
       "       name  races\n",
       "0   Ferrari   1088\n",
       "1   McLaren    917\n",
       "2  Williams    831\n",
       "3   Tyrrell    433\n",
       "4    Sauber    407"
      ]
     },
     "execution_count": 69,
     "metadata": {},
     "output_type": "execute_result"
    }
   ],
   "source": [
    "#column extraction from above df teams\n",
    "best_teams = team[['name','points','raceId']]\n",
    "#grouping based on team names and counting unique races\n",
    "best_teams = best_teams.groupby('name')['raceId'].nunique().sort_values(ascending=False).reset_index(name = 'races')\n",
    "best_teams = best_teams[best_teams['races'] >= 100]\n",
    "best_teams.head(5)\n"
   ]
  },
  {
   "cell_type": "markdown",
   "metadata": {},
   "source": [
    "VISUALIZATION"
   ]
  },
  {
   "cell_type": "code",
   "execution_count": 70,
   "metadata": {},
   "outputs": [
    {
     "name": "stderr",
     "output_type": "stream",
     "text": [
      "C:\\Users\\SUCHITRA\\AppData\\Local\\Temp\\ipykernel_3428\\1577243282.py:5: DeprecationWarning:\n",
      "\n",
      "DataFrameGroupBy.apply operated on the grouping columns. This behavior is deprecated, and in a future version of pandas the grouping columns will be excluded from the operation. Either pass `include_groups=False` to exclude the groupings or explicitly select the grouping columns after groupby to silence this warning.\n",
      "\n"
     ]
    },
    {
     "data": {
      "application/vnd.plotly.v1+json": {
       "config": {
        "plotlyServerURL": "https://plot.ly"
       },
       "data": [
        {
         "marker": {
          "line": {
           "color": "blue",
           "width": 2
          }
         },
         "textfont": {
          "size": 20
         },
         "type": "bar",
         "x": [
          "Mercedes",
          "Red Bull",
          "Ferrari",
          "McLaren",
          "Force India",
          "Renault",
          "Williams",
          "Benetton",
          "BRM",
          "Team Lotus",
          "Brabham",
          "Toyota",
          "BAR",
          "Toro Rosso",
          "Alfa Romeo",
          "Tyrrell",
          "Haas F1 Team",
          "Sauber",
          "Ligier",
          "Jordan",
          "March",
          "Arrows",
          "Surtees",
          "Fittipaldi",
          "Larrousse",
          "Ensign",
          "Minardi",
          "ATS",
          "Osella"
         ],
         "y": [
          24.598819672131146,
          19.56020942408377,
          9.900983455882354,
          7.292802617230098,
          5.179245283018868,
          4.409429280397022,
          4.365824308062575,
          3.3134615384615387,
          2.5841346153846154,
          2.518987341772152,
          2.0487012987012987,
          1.9892857142857143,
          1.923728813559322,
          1.8656716417910448,
          1.6712962962962963,
          1.6420323325635104,
          1.5,
          1.3685503685503686,
          1.1757575757575758,
          1.164,
          0.7551020408163265,
          0.4797297297297297,
          0.453781512605042,
          0.3697478991596639,
          0.19298245614035087,
          0.14285714285714285,
          0.11014492753623188,
          0.0603448275862069,
          0.029239766081871343
         ]
        }
       ],
       "layout": {
        "template": {
         "data": {
          "bar": [
           {
            "error_x": {
             "color": "#2a3f5f"
            },
            "error_y": {
             "color": "#2a3f5f"
            },
            "marker": {
             "line": {
              "color": "#E5ECF6",
              "width": 0.5
             },
             "pattern": {
              "fillmode": "overlay",
              "size": 10,
              "solidity": 0.2
             }
            },
            "type": "bar"
           }
          ],
          "barpolar": [
           {
            "marker": {
             "line": {
              "color": "#E5ECF6",
              "width": 0.5
             },
             "pattern": {
              "fillmode": "overlay",
              "size": 10,
              "solidity": 0.2
             }
            },
            "type": "barpolar"
           }
          ],
          "carpet": [
           {
            "aaxis": {
             "endlinecolor": "#2a3f5f",
             "gridcolor": "white",
             "linecolor": "white",
             "minorgridcolor": "white",
             "startlinecolor": "#2a3f5f"
            },
            "baxis": {
             "endlinecolor": "#2a3f5f",
             "gridcolor": "white",
             "linecolor": "white",
             "minorgridcolor": "white",
             "startlinecolor": "#2a3f5f"
            },
            "type": "carpet"
           }
          ],
          "choropleth": [
           {
            "colorbar": {
             "outlinewidth": 0,
             "ticks": ""
            },
            "type": "choropleth"
           }
          ],
          "contour": [
           {
            "colorbar": {
             "outlinewidth": 0,
             "ticks": ""
            },
            "colorscale": [
             [
              0,
              "#0d0887"
             ],
             [
              0.1111111111111111,
              "#46039f"
             ],
             [
              0.2222222222222222,
              "#7201a8"
             ],
             [
              0.3333333333333333,
              "#9c179e"
             ],
             [
              0.4444444444444444,
              "#bd3786"
             ],
             [
              0.5555555555555556,
              "#d8576b"
             ],
             [
              0.6666666666666666,
              "#ed7953"
             ],
             [
              0.7777777777777778,
              "#fb9f3a"
             ],
             [
              0.8888888888888888,
              "#fdca26"
             ],
             [
              1,
              "#f0f921"
             ]
            ],
            "type": "contour"
           }
          ],
          "contourcarpet": [
           {
            "colorbar": {
             "outlinewidth": 0,
             "ticks": ""
            },
            "type": "contourcarpet"
           }
          ],
          "heatmap": [
           {
            "colorbar": {
             "outlinewidth": 0,
             "ticks": ""
            },
            "colorscale": [
             [
              0,
              "#0d0887"
             ],
             [
              0.1111111111111111,
              "#46039f"
             ],
             [
              0.2222222222222222,
              "#7201a8"
             ],
             [
              0.3333333333333333,
              "#9c179e"
             ],
             [
              0.4444444444444444,
              "#bd3786"
             ],
             [
              0.5555555555555556,
              "#d8576b"
             ],
             [
              0.6666666666666666,
              "#ed7953"
             ],
             [
              0.7777777777777778,
              "#fb9f3a"
             ],
             [
              0.8888888888888888,
              "#fdca26"
             ],
             [
              1,
              "#f0f921"
             ]
            ],
            "type": "heatmap"
           }
          ],
          "heatmapgl": [
           {
            "colorbar": {
             "outlinewidth": 0,
             "ticks": ""
            },
            "colorscale": [
             [
              0,
              "#0d0887"
             ],
             [
              0.1111111111111111,
              "#46039f"
             ],
             [
              0.2222222222222222,
              "#7201a8"
             ],
             [
              0.3333333333333333,
              "#9c179e"
             ],
             [
              0.4444444444444444,
              "#bd3786"
             ],
             [
              0.5555555555555556,
              "#d8576b"
             ],
             [
              0.6666666666666666,
              "#ed7953"
             ],
             [
              0.7777777777777778,
              "#fb9f3a"
             ],
             [
              0.8888888888888888,
              "#fdca26"
             ],
             [
              1,
              "#f0f921"
             ]
            ],
            "type": "heatmapgl"
           }
          ],
          "histogram": [
           {
            "marker": {
             "pattern": {
              "fillmode": "overlay",
              "size": 10,
              "solidity": 0.2
             }
            },
            "type": "histogram"
           }
          ],
          "histogram2d": [
           {
            "colorbar": {
             "outlinewidth": 0,
             "ticks": ""
            },
            "colorscale": [
             [
              0,
              "#0d0887"
             ],
             [
              0.1111111111111111,
              "#46039f"
             ],
             [
              0.2222222222222222,
              "#7201a8"
             ],
             [
              0.3333333333333333,
              "#9c179e"
             ],
             [
              0.4444444444444444,
              "#bd3786"
             ],
             [
              0.5555555555555556,
              "#d8576b"
             ],
             [
              0.6666666666666666,
              "#ed7953"
             ],
             [
              0.7777777777777778,
              "#fb9f3a"
             ],
             [
              0.8888888888888888,
              "#fdca26"
             ],
             [
              1,
              "#f0f921"
             ]
            ],
            "type": "histogram2d"
           }
          ],
          "histogram2dcontour": [
           {
            "colorbar": {
             "outlinewidth": 0,
             "ticks": ""
            },
            "colorscale": [
             [
              0,
              "#0d0887"
             ],
             [
              0.1111111111111111,
              "#46039f"
             ],
             [
              0.2222222222222222,
              "#7201a8"
             ],
             [
              0.3333333333333333,
              "#9c179e"
             ],
             [
              0.4444444444444444,
              "#bd3786"
             ],
             [
              0.5555555555555556,
              "#d8576b"
             ],
             [
              0.6666666666666666,
              "#ed7953"
             ],
             [
              0.7777777777777778,
              "#fb9f3a"
             ],
             [
              0.8888888888888888,
              "#fdca26"
             ],
             [
              1,
              "#f0f921"
             ]
            ],
            "type": "histogram2dcontour"
           }
          ],
          "mesh3d": [
           {
            "colorbar": {
             "outlinewidth": 0,
             "ticks": ""
            },
            "type": "mesh3d"
           }
          ],
          "parcoords": [
           {
            "line": {
             "colorbar": {
              "outlinewidth": 0,
              "ticks": ""
             }
            },
            "type": "parcoords"
           }
          ],
          "pie": [
           {
            "automargin": true,
            "type": "pie"
           }
          ],
          "scatter": [
           {
            "fillpattern": {
             "fillmode": "overlay",
             "size": 10,
             "solidity": 0.2
            },
            "type": "scatter"
           }
          ],
          "scatter3d": [
           {
            "line": {
             "colorbar": {
              "outlinewidth": 0,
              "ticks": ""
             }
            },
            "marker": {
             "colorbar": {
              "outlinewidth": 0,
              "ticks": ""
             }
            },
            "type": "scatter3d"
           }
          ],
          "scattercarpet": [
           {
            "marker": {
             "colorbar": {
              "outlinewidth": 0,
              "ticks": ""
             }
            },
            "type": "scattercarpet"
           }
          ],
          "scattergeo": [
           {
            "marker": {
             "colorbar": {
              "outlinewidth": 0,
              "ticks": ""
             }
            },
            "type": "scattergeo"
           }
          ],
          "scattergl": [
           {
            "marker": {
             "colorbar": {
              "outlinewidth": 0,
              "ticks": ""
             }
            },
            "type": "scattergl"
           }
          ],
          "scattermapbox": [
           {
            "marker": {
             "colorbar": {
              "outlinewidth": 0,
              "ticks": ""
             }
            },
            "type": "scattermapbox"
           }
          ],
          "scatterpolar": [
           {
            "marker": {
             "colorbar": {
              "outlinewidth": 0,
              "ticks": ""
             }
            },
            "type": "scatterpolar"
           }
          ],
          "scatterpolargl": [
           {
            "marker": {
             "colorbar": {
              "outlinewidth": 0,
              "ticks": ""
             }
            },
            "type": "scatterpolargl"
           }
          ],
          "scatterternary": [
           {
            "marker": {
             "colorbar": {
              "outlinewidth": 0,
              "ticks": ""
             }
            },
            "type": "scatterternary"
           }
          ],
          "surface": [
           {
            "colorbar": {
             "outlinewidth": 0,
             "ticks": ""
            },
            "colorscale": [
             [
              0,
              "#0d0887"
             ],
             [
              0.1111111111111111,
              "#46039f"
             ],
             [
              0.2222222222222222,
              "#7201a8"
             ],
             [
              0.3333333333333333,
              "#9c179e"
             ],
             [
              0.4444444444444444,
              "#bd3786"
             ],
             [
              0.5555555555555556,
              "#d8576b"
             ],
             [
              0.6666666666666666,
              "#ed7953"
             ],
             [
              0.7777777777777778,
              "#fb9f3a"
             ],
             [
              0.8888888888888888,
              "#fdca26"
             ],
             [
              1,
              "#f0f921"
             ]
            ],
            "type": "surface"
           }
          ],
          "table": [
           {
            "cells": {
             "fill": {
              "color": "#EBF0F8"
             },
             "line": {
              "color": "white"
             }
            },
            "header": {
             "fill": {
              "color": "#C8D4E3"
             },
             "line": {
              "color": "white"
             }
            },
            "type": "table"
           }
          ]
         },
         "layout": {
          "annotationdefaults": {
           "arrowcolor": "#2a3f5f",
           "arrowhead": 0,
           "arrowwidth": 1
          },
          "autotypenumbers": "strict",
          "coloraxis": {
           "colorbar": {
            "outlinewidth": 0,
            "ticks": ""
           }
          },
          "colorscale": {
           "diverging": [
            [
             0,
             "#8e0152"
            ],
            [
             0.1,
             "#c51b7d"
            ],
            [
             0.2,
             "#de77ae"
            ],
            [
             0.3,
             "#f1b6da"
            ],
            [
             0.4,
             "#fde0ef"
            ],
            [
             0.5,
             "#f7f7f7"
            ],
            [
             0.6,
             "#e6f5d0"
            ],
            [
             0.7,
             "#b8e186"
            ],
            [
             0.8,
             "#7fbc41"
            ],
            [
             0.9,
             "#4d9221"
            ],
            [
             1,
             "#276419"
            ]
           ],
           "sequential": [
            [
             0,
             "#0d0887"
            ],
            [
             0.1111111111111111,
             "#46039f"
            ],
            [
             0.2222222222222222,
             "#7201a8"
            ],
            [
             0.3333333333333333,
             "#9c179e"
            ],
            [
             0.4444444444444444,
             "#bd3786"
            ],
            [
             0.5555555555555556,
             "#d8576b"
            ],
            [
             0.6666666666666666,
             "#ed7953"
            ],
            [
             0.7777777777777778,
             "#fb9f3a"
            ],
            [
             0.8888888888888888,
             "#fdca26"
            ],
            [
             1,
             "#f0f921"
            ]
           ],
           "sequentialminus": [
            [
             0,
             "#0d0887"
            ],
            [
             0.1111111111111111,
             "#46039f"
            ],
            [
             0.2222222222222222,
             "#7201a8"
            ],
            [
             0.3333333333333333,
             "#9c179e"
            ],
            [
             0.4444444444444444,
             "#bd3786"
            ],
            [
             0.5555555555555556,
             "#d8576b"
            ],
            [
             0.6666666666666666,
             "#ed7953"
            ],
            [
             0.7777777777777778,
             "#fb9f3a"
            ],
            [
             0.8888888888888888,
             "#fdca26"
            ],
            [
             1,
             "#f0f921"
            ]
           ]
          },
          "colorway": [
           "#636efa",
           "#EF553B",
           "#00cc96",
           "#ab63fa",
           "#FFA15A",
           "#19d3f3",
           "#FF6692",
           "#B6E880",
           "#FF97FF",
           "#FECB52"
          ],
          "font": {
           "color": "#2a3f5f"
          },
          "geo": {
           "bgcolor": "white",
           "lakecolor": "white",
           "landcolor": "#E5ECF6",
           "showlakes": true,
           "showland": true,
           "subunitcolor": "white"
          },
          "hoverlabel": {
           "align": "left"
          },
          "hovermode": "closest",
          "mapbox": {
           "style": "light"
          },
          "paper_bgcolor": "white",
          "plot_bgcolor": "#E5ECF6",
          "polar": {
           "angularaxis": {
            "gridcolor": "white",
            "linecolor": "white",
            "ticks": ""
           },
           "bgcolor": "#E5ECF6",
           "radialaxis": {
            "gridcolor": "white",
            "linecolor": "white",
            "ticks": ""
           }
          },
          "scene": {
           "xaxis": {
            "backgroundcolor": "#E5ECF6",
            "gridcolor": "white",
            "gridwidth": 2,
            "linecolor": "white",
            "showbackground": true,
            "ticks": "",
            "zerolinecolor": "white"
           },
           "yaxis": {
            "backgroundcolor": "#E5ECF6",
            "gridcolor": "white",
            "gridwidth": 2,
            "linecolor": "white",
            "showbackground": true,
            "ticks": "",
            "zerolinecolor": "white"
           },
           "zaxis": {
            "backgroundcolor": "#E5ECF6",
            "gridcolor": "white",
            "gridwidth": 2,
            "linecolor": "white",
            "showbackground": true,
            "ticks": "",
            "zerolinecolor": "white"
           }
          },
          "shapedefaults": {
           "line": {
            "color": "#2a3f5f"
           }
          },
          "ternary": {
           "aaxis": {
            "gridcolor": "white",
            "linecolor": "white",
            "ticks": ""
           },
           "baxis": {
            "gridcolor": "white",
            "linecolor": "white",
            "ticks": ""
           },
           "bgcolor": "#E5ECF6",
           "caxis": {
            "gridcolor": "white",
            "linecolor": "white",
            "ticks": ""
           }
          },
          "title": {
           "x": 0.05
          },
          "xaxis": {
           "automargin": true,
           "gridcolor": "white",
           "linecolor": "white",
           "ticks": "",
           "title": {
            "standoff": 15
           },
           "zerolinecolor": "white",
           "zerolinewidth": 2
          },
          "yaxis": {
           "automargin": true,
           "gridcolor": "white",
           "linecolor": "white",
           "ticks": "",
           "title": {
            "standoff": 15
           },
           "zerolinecolor": "white",
           "zerolinewidth": 2
          }
         }
        },
        "title": {
         "text": "Constructor's Points per Race"
        },
        "xaxis": {
         "showgrid": false
        },
        "yaxis": {
         "showgrid": false
        }
       }
      }
     },
     "metadata": {},
     "output_type": "display_data"
    }
   ],
   "source": [
    "#Visualization 1: AVERAGE CONSTRUCTORS POINTS PER RACE\n",
    "\n",
    "#calculations\n",
    "func = lambda x: x.points.sum()/x.raceId.nunique()\n",
    "data = team[team['name'].isin(best_teams.name)].groupby('name').apply(func).sort_values(ascending=False).reset_index(name = 'points_per_race')\n",
    "data.head(10)\n",
    "\n",
    "#plotting\n",
    "fig = go.Figure(\n",
    "    data=[go.Bar(x = data.name, y=data['points_per_race'])],\n",
    "    layout_title_text=\"Constructor's Points per Race\"\n",
    "    \n",
    ")\n",
    "fig.update_xaxes(showgrid=False)\n",
    "fig.update_yaxes(showgrid=False)\n",
    "fig.update_traces(textfont_size=20,\n",
    "                  marker=dict(line=dict(color='blue', width=2)))\n",
    "fig.show()"
   ]
  },
  {
   "cell_type": "code",
   "execution_count": 71,
   "metadata": {},
   "outputs": [
    {
     "data": {
      "application/vnd.plotly.v1+json": {
       "config": {
        "plotlyServerURL": "https://plot.ly"
       },
       "data": [
        {
         "labels": [
          "British",
          "American",
          "Italian",
          "French",
          "German",
          "Brazilian",
          "Argentine",
          "Swiss",
          "Belgian",
          "South African"
         ],
         "marker": {
          "line": {
           "color": "#000000",
           "width": 2
          }
         },
         "textfont": {
          "size": 20
         },
         "type": "pie",
         "values": [
          166,
          158,
          99,
          73,
          50,
          32,
          24,
          23,
          23,
          23,
          20,
          18,
          18,
          15,
          15,
          14,
          10,
          10,
          9,
          6,
          5,
          5,
          4,
          4,
          4,
          4,
          4,
          3,
          3,
          3,
          2,
          2,
          1,
          1,
          1,
          1,
          1,
          1,
          1,
          1,
          1,
          1
         ]
        }
       ],
       "layout": {
        "template": {
         "data": {
          "bar": [
           {
            "error_x": {
             "color": "#2a3f5f"
            },
            "error_y": {
             "color": "#2a3f5f"
            },
            "marker": {
             "line": {
              "color": "#E5ECF6",
              "width": 0.5
             },
             "pattern": {
              "fillmode": "overlay",
              "size": 10,
              "solidity": 0.2
             }
            },
            "type": "bar"
           }
          ],
          "barpolar": [
           {
            "marker": {
             "line": {
              "color": "#E5ECF6",
              "width": 0.5
             },
             "pattern": {
              "fillmode": "overlay",
              "size": 10,
              "solidity": 0.2
             }
            },
            "type": "barpolar"
           }
          ],
          "carpet": [
           {
            "aaxis": {
             "endlinecolor": "#2a3f5f",
             "gridcolor": "white",
             "linecolor": "white",
             "minorgridcolor": "white",
             "startlinecolor": "#2a3f5f"
            },
            "baxis": {
             "endlinecolor": "#2a3f5f",
             "gridcolor": "white",
             "linecolor": "white",
             "minorgridcolor": "white",
             "startlinecolor": "#2a3f5f"
            },
            "type": "carpet"
           }
          ],
          "choropleth": [
           {
            "colorbar": {
             "outlinewidth": 0,
             "ticks": ""
            },
            "type": "choropleth"
           }
          ],
          "contour": [
           {
            "colorbar": {
             "outlinewidth": 0,
             "ticks": ""
            },
            "colorscale": [
             [
              0,
              "#0d0887"
             ],
             [
              0.1111111111111111,
              "#46039f"
             ],
             [
              0.2222222222222222,
              "#7201a8"
             ],
             [
              0.3333333333333333,
              "#9c179e"
             ],
             [
              0.4444444444444444,
              "#bd3786"
             ],
             [
              0.5555555555555556,
              "#d8576b"
             ],
             [
              0.6666666666666666,
              "#ed7953"
             ],
             [
              0.7777777777777778,
              "#fb9f3a"
             ],
             [
              0.8888888888888888,
              "#fdca26"
             ],
             [
              1,
              "#f0f921"
             ]
            ],
            "type": "contour"
           }
          ],
          "contourcarpet": [
           {
            "colorbar": {
             "outlinewidth": 0,
             "ticks": ""
            },
            "type": "contourcarpet"
           }
          ],
          "heatmap": [
           {
            "colorbar": {
             "outlinewidth": 0,
             "ticks": ""
            },
            "colorscale": [
             [
              0,
              "#0d0887"
             ],
             [
              0.1111111111111111,
              "#46039f"
             ],
             [
              0.2222222222222222,
              "#7201a8"
             ],
             [
              0.3333333333333333,
              "#9c179e"
             ],
             [
              0.4444444444444444,
              "#bd3786"
             ],
             [
              0.5555555555555556,
              "#d8576b"
             ],
             [
              0.6666666666666666,
              "#ed7953"
             ],
             [
              0.7777777777777778,
              "#fb9f3a"
             ],
             [
              0.8888888888888888,
              "#fdca26"
             ],
             [
              1,
              "#f0f921"
             ]
            ],
            "type": "heatmap"
           }
          ],
          "heatmapgl": [
           {
            "colorbar": {
             "outlinewidth": 0,
             "ticks": ""
            },
            "colorscale": [
             [
              0,
              "#0d0887"
             ],
             [
              0.1111111111111111,
              "#46039f"
             ],
             [
              0.2222222222222222,
              "#7201a8"
             ],
             [
              0.3333333333333333,
              "#9c179e"
             ],
             [
              0.4444444444444444,
              "#bd3786"
             ],
             [
              0.5555555555555556,
              "#d8576b"
             ],
             [
              0.6666666666666666,
              "#ed7953"
             ],
             [
              0.7777777777777778,
              "#fb9f3a"
             ],
             [
              0.8888888888888888,
              "#fdca26"
             ],
             [
              1,
              "#f0f921"
             ]
            ],
            "type": "heatmapgl"
           }
          ],
          "histogram": [
           {
            "marker": {
             "pattern": {
              "fillmode": "overlay",
              "size": 10,
              "solidity": 0.2
             }
            },
            "type": "histogram"
           }
          ],
          "histogram2d": [
           {
            "colorbar": {
             "outlinewidth": 0,
             "ticks": ""
            },
            "colorscale": [
             [
              0,
              "#0d0887"
             ],
             [
              0.1111111111111111,
              "#46039f"
             ],
             [
              0.2222222222222222,
              "#7201a8"
             ],
             [
              0.3333333333333333,
              "#9c179e"
             ],
             [
              0.4444444444444444,
              "#bd3786"
             ],
             [
              0.5555555555555556,
              "#d8576b"
             ],
             [
              0.6666666666666666,
              "#ed7953"
             ],
             [
              0.7777777777777778,
              "#fb9f3a"
             ],
             [
              0.8888888888888888,
              "#fdca26"
             ],
             [
              1,
              "#f0f921"
             ]
            ],
            "type": "histogram2d"
           }
          ],
          "histogram2dcontour": [
           {
            "colorbar": {
             "outlinewidth": 0,
             "ticks": ""
            },
            "colorscale": [
             [
              0,
              "#0d0887"
             ],
             [
              0.1111111111111111,
              "#46039f"
             ],
             [
              0.2222222222222222,
              "#7201a8"
             ],
             [
              0.3333333333333333,
              "#9c179e"
             ],
             [
              0.4444444444444444,
              "#bd3786"
             ],
             [
              0.5555555555555556,
              "#d8576b"
             ],
             [
              0.6666666666666666,
              "#ed7953"
             ],
             [
              0.7777777777777778,
              "#fb9f3a"
             ],
             [
              0.8888888888888888,
              "#fdca26"
             ],
             [
              1,
              "#f0f921"
             ]
            ],
            "type": "histogram2dcontour"
           }
          ],
          "mesh3d": [
           {
            "colorbar": {
             "outlinewidth": 0,
             "ticks": ""
            },
            "type": "mesh3d"
           }
          ],
          "parcoords": [
           {
            "line": {
             "colorbar": {
              "outlinewidth": 0,
              "ticks": ""
             }
            },
            "type": "parcoords"
           }
          ],
          "pie": [
           {
            "automargin": true,
            "type": "pie"
           }
          ],
          "scatter": [
           {
            "fillpattern": {
             "fillmode": "overlay",
             "size": 10,
             "solidity": 0.2
            },
            "type": "scatter"
           }
          ],
          "scatter3d": [
           {
            "line": {
             "colorbar": {
              "outlinewidth": 0,
              "ticks": ""
             }
            },
            "marker": {
             "colorbar": {
              "outlinewidth": 0,
              "ticks": ""
             }
            },
            "type": "scatter3d"
           }
          ],
          "scattercarpet": [
           {
            "marker": {
             "colorbar": {
              "outlinewidth": 0,
              "ticks": ""
             }
            },
            "type": "scattercarpet"
           }
          ],
          "scattergeo": [
           {
            "marker": {
             "colorbar": {
              "outlinewidth": 0,
              "ticks": ""
             }
            },
            "type": "scattergeo"
           }
          ],
          "scattergl": [
           {
            "marker": {
             "colorbar": {
              "outlinewidth": 0,
              "ticks": ""
             }
            },
            "type": "scattergl"
           }
          ],
          "scattermapbox": [
           {
            "marker": {
             "colorbar": {
              "outlinewidth": 0,
              "ticks": ""
             }
            },
            "type": "scattermapbox"
           }
          ],
          "scatterpolar": [
           {
            "marker": {
             "colorbar": {
              "outlinewidth": 0,
              "ticks": ""
             }
            },
            "type": "scatterpolar"
           }
          ],
          "scatterpolargl": [
           {
            "marker": {
             "colorbar": {
              "outlinewidth": 0,
              "ticks": ""
             }
            },
            "type": "scatterpolargl"
           }
          ],
          "scatterternary": [
           {
            "marker": {
             "colorbar": {
              "outlinewidth": 0,
              "ticks": ""
             }
            },
            "type": "scatterternary"
           }
          ],
          "surface": [
           {
            "colorbar": {
             "outlinewidth": 0,
             "ticks": ""
            },
            "colorscale": [
             [
              0,
              "#0d0887"
             ],
             [
              0.1111111111111111,
              "#46039f"
             ],
             [
              0.2222222222222222,
              "#7201a8"
             ],
             [
              0.3333333333333333,
              "#9c179e"
             ],
             [
              0.4444444444444444,
              "#bd3786"
             ],
             [
              0.5555555555555556,
              "#d8576b"
             ],
             [
              0.6666666666666666,
              "#ed7953"
             ],
             [
              0.7777777777777778,
              "#fb9f3a"
             ],
             [
              0.8888888888888888,
              "#fdca26"
             ],
             [
              1,
              "#f0f921"
             ]
            ],
            "type": "surface"
           }
          ],
          "table": [
           {
            "cells": {
             "fill": {
              "color": "#EBF0F8"
             },
             "line": {
              "color": "white"
             }
            },
            "header": {
             "fill": {
              "color": "#C8D4E3"
             },
             "line": {
              "color": "white"
             }
            },
            "type": "table"
           }
          ]
         },
         "layout": {
          "annotationdefaults": {
           "arrowcolor": "#2a3f5f",
           "arrowhead": 0,
           "arrowwidth": 1
          },
          "autotypenumbers": "strict",
          "coloraxis": {
           "colorbar": {
            "outlinewidth": 0,
            "ticks": ""
           }
          },
          "colorscale": {
           "diverging": [
            [
             0,
             "#8e0152"
            ],
            [
             0.1,
             "#c51b7d"
            ],
            [
             0.2,
             "#de77ae"
            ],
            [
             0.3,
             "#f1b6da"
            ],
            [
             0.4,
             "#fde0ef"
            ],
            [
             0.5,
             "#f7f7f7"
            ],
            [
             0.6,
             "#e6f5d0"
            ],
            [
             0.7,
             "#b8e186"
            ],
            [
             0.8,
             "#7fbc41"
            ],
            [
             0.9,
             "#4d9221"
            ],
            [
             1,
             "#276419"
            ]
           ],
           "sequential": [
            [
             0,
             "#0d0887"
            ],
            [
             0.1111111111111111,
             "#46039f"
            ],
            [
             0.2222222222222222,
             "#7201a8"
            ],
            [
             0.3333333333333333,
             "#9c179e"
            ],
            [
             0.4444444444444444,
             "#bd3786"
            ],
            [
             0.5555555555555556,
             "#d8576b"
            ],
            [
             0.6666666666666666,
             "#ed7953"
            ],
            [
             0.7777777777777778,
             "#fb9f3a"
            ],
            [
             0.8888888888888888,
             "#fdca26"
            ],
            [
             1,
             "#f0f921"
            ]
           ],
           "sequentialminus": [
            [
             0,
             "#0d0887"
            ],
            [
             0.1111111111111111,
             "#46039f"
            ],
            [
             0.2222222222222222,
             "#7201a8"
            ],
            [
             0.3333333333333333,
             "#9c179e"
            ],
            [
             0.4444444444444444,
             "#bd3786"
            ],
            [
             0.5555555555555556,
             "#d8576b"
            ],
            [
             0.6666666666666666,
             "#ed7953"
            ],
            [
             0.7777777777777778,
             "#fb9f3a"
            ],
            [
             0.8888888888888888,
             "#fdca26"
            ],
            [
             1,
             "#f0f921"
            ]
           ]
          },
          "colorway": [
           "#636efa",
           "#EF553B",
           "#00cc96",
           "#ab63fa",
           "#FFA15A",
           "#19d3f3",
           "#FF6692",
           "#B6E880",
           "#FF97FF",
           "#FECB52"
          ],
          "font": {
           "color": "#2a3f5f"
          },
          "geo": {
           "bgcolor": "white",
           "lakecolor": "white",
           "landcolor": "#E5ECF6",
           "showlakes": true,
           "showland": true,
           "subunitcolor": "white"
          },
          "hoverlabel": {
           "align": "left"
          },
          "hovermode": "closest",
          "mapbox": {
           "style": "light"
          },
          "paper_bgcolor": "white",
          "plot_bgcolor": "#E5ECF6",
          "polar": {
           "angularaxis": {
            "gridcolor": "white",
            "linecolor": "white",
            "ticks": ""
           },
           "bgcolor": "#E5ECF6",
           "radialaxis": {
            "gridcolor": "white",
            "linecolor": "white",
            "ticks": ""
           }
          },
          "scene": {
           "xaxis": {
            "backgroundcolor": "#E5ECF6",
            "gridcolor": "white",
            "gridwidth": 2,
            "linecolor": "white",
            "showbackground": true,
            "ticks": "",
            "zerolinecolor": "white"
           },
           "yaxis": {
            "backgroundcolor": "#E5ECF6",
            "gridcolor": "white",
            "gridwidth": 2,
            "linecolor": "white",
            "showbackground": true,
            "ticks": "",
            "zerolinecolor": "white"
           },
           "zaxis": {
            "backgroundcolor": "#E5ECF6",
            "gridcolor": "white",
            "gridwidth": 2,
            "linecolor": "white",
            "showbackground": true,
            "ticks": "",
            "zerolinecolor": "white"
           }
          },
          "shapedefaults": {
           "line": {
            "color": "#2a3f5f"
           }
          },
          "ternary": {
           "aaxis": {
            "gridcolor": "white",
            "linecolor": "white",
            "ticks": ""
           },
           "baxis": {
            "gridcolor": "white",
            "linecolor": "white",
            "ticks": ""
           },
           "bgcolor": "#E5ECF6",
           "caxis": {
            "gridcolor": "white",
            "linecolor": "white",
            "ticks": ""
           }
          },
          "title": {
           "x": 0.05
          },
          "xaxis": {
           "automargin": true,
           "gridcolor": "white",
           "linecolor": "white",
           "ticks": "",
           "title": {
            "standoff": 15
           },
           "zerolinecolor": "white",
           "zerolinewidth": 2
          },
          "yaxis": {
           "automargin": true,
           "gridcolor": "white",
           "linecolor": "white",
           "ticks": "",
           "title": {
            "standoff": 15
           },
           "zerolinecolor": "white",
           "zerolinewidth": 2
          }
         }
        },
        "title": {
         "text": "Historical Driver Nationality Distribution"
        }
       }
      }
     },
     "metadata": {},
     "output_type": "display_data"
    }
   ],
   "source": [
    "#Visualization 2: DRIVER NATIONALITIES\n",
    "driver_nationality = drivers_df.groupby('nationality')['nationality'].count().sort_values(ascending = False).reset_index(name = 'number of drivers')\n",
    "fig = go.Figure(data=[go.Pie(labels=driver_nationality.nationality.head(10), values=driver_nationality['number of drivers'])])\n",
    "fig.update_traces(textfont_size=20,\n",
    "                  marker=dict(line=dict(color='#000000', width=2)))\n",
    "fig.update_layout(\n",
    "    title=\"Historical Driver Nationality Distribution\")\n",
    "fig.show()"
   ]
  },
  {
   "cell_type": "code",
   "execution_count": 72,
   "metadata": {},
   "outputs": [
    {
     "data": {
      "text/html": [
       "<div>\n",
       "<style scoped>\n",
       "    .dataframe tbody tr th:only-of-type {\n",
       "        vertical-align: middle;\n",
       "    }\n",
       "\n",
       "    .dataframe tbody tr th {\n",
       "        vertical-align: top;\n",
       "    }\n",
       "\n",
       "    .dataframe thead th {\n",
       "        text-align: right;\n",
       "    }\n",
       "</style>\n",
       "<table border=\"1\" class=\"dataframe\">\n",
       "  <thead>\n",
       "    <tr style=\"text-align: right;\">\n",
       "      <th></th>\n",
       "      <th>name</th>\n",
       "      <th>year</th>\n",
       "      <th>Wins</th>\n",
       "    </tr>\n",
       "  </thead>\n",
       "  <tbody>\n",
       "    <tr>\n",
       "      <th>0</th>\n",
       "      <td>Verstappen</td>\n",
       "      <td>2023</td>\n",
       "      <td>19</td>\n",
       "    </tr>\n",
       "    <tr>\n",
       "      <th>1</th>\n",
       "      <td>Verstappen</td>\n",
       "      <td>2022</td>\n",
       "      <td>15</td>\n",
       "    </tr>\n",
       "    <tr>\n",
       "      <th>2</th>\n",
       "      <td>Vettel</td>\n",
       "      <td>2013</td>\n",
       "      <td>13</td>\n",
       "    </tr>\n",
       "    <tr>\n",
       "      <th>3</th>\n",
       "      <td>Schumacher</td>\n",
       "      <td>2004</td>\n",
       "      <td>13</td>\n",
       "    </tr>\n",
       "    <tr>\n",
       "      <th>4</th>\n",
       "      <td>Hamilton</td>\n",
       "      <td>2020</td>\n",
       "      <td>11</td>\n",
       "    </tr>\n",
       "    <tr>\n",
       "      <th>5</th>\n",
       "      <td>Hamilton</td>\n",
       "      <td>2019</td>\n",
       "      <td>11</td>\n",
       "    </tr>\n",
       "    <tr>\n",
       "      <th>6</th>\n",
       "      <td>Hamilton</td>\n",
       "      <td>2018</td>\n",
       "      <td>11</td>\n",
       "    </tr>\n",
       "    <tr>\n",
       "      <th>7</th>\n",
       "      <td>Hamilton</td>\n",
       "      <td>2014</td>\n",
       "      <td>11</td>\n",
       "    </tr>\n",
       "    <tr>\n",
       "      <th>8</th>\n",
       "      <td>Schumacher</td>\n",
       "      <td>2002</td>\n",
       "      <td>11</td>\n",
       "    </tr>\n",
       "    <tr>\n",
       "      <th>9</th>\n",
       "      <td>Vettel</td>\n",
       "      <td>2011</td>\n",
       "      <td>11</td>\n",
       "    </tr>\n",
       "    <tr>\n",
       "      <th>10</th>\n",
       "      <td>Hamilton</td>\n",
       "      <td>2015</td>\n",
       "      <td>10</td>\n",
       "    </tr>\n",
       "  </tbody>\n",
       "</table>\n",
       "</div>"
      ],
      "text/plain": [
       "          name  year  Wins\n",
       "0   Verstappen  2023    19\n",
       "1   Verstappen  2022    15\n",
       "2       Vettel  2013    13\n",
       "3   Schumacher  2004    13\n",
       "4     Hamilton  2020    11\n",
       "5     Hamilton  2019    11\n",
       "6     Hamilton  2018    11\n",
       "7     Hamilton  2014    11\n",
       "8   Schumacher  2002    11\n",
       "9       Vettel  2011    11\n",
       "10    Hamilton  2015    10"
      ]
     },
     "execution_count": 72,
     "metadata": {},
     "output_type": "execute_result"
    }
   ],
   "source": [
    "#Visualization 3: MOST WINS BY DRIVER IN A SEASON\n",
    "\n",
    "#calculation\n",
    "driver_position = drivers_df.merge(driver_standings_df,left_on='driverId',right_on='driverId',how = 'left')\n",
    "driver_position = driver_position.merge(race_df,on = 'raceId',how = 'left')\n",
    "positions = driver_position[driver_position['position'] == 1].groupby(\n",
    "    ['surname','year'])['wins'].max().sort_values(ascending=False).reset_index(name = 'Wins')\n",
    "positions.head(20)\n",
    "positions.year=pd.to_datetime(positions['year'].astype(int), format='%Y')\n",
    "positions.year = positions.year.dt.year\n",
    "positions.rename(columns={'surname':'name'},inplace=True)\n",
    "positions.Wins = positions.Wins.astype('int64')\n",
    "positions.head(11)\n",
    "\n"
   ]
  },
  {
   "cell_type": "code",
   "execution_count": 73,
   "metadata": {},
   "outputs": [
    {
     "data": {
      "application/vnd.plotly.v1+json": {
       "config": {
        "plotlyServerURL": "https://plot.ly"
       },
       "data": [
        {
         "hovertemplate": "name=Verstappen<br>year=%{x}<br>Wins=%{marker.size}<extra></extra>",
         "legendgroup": "Verstappen",
         "marker": {
          "color": "#636efa",
          "line": {
           "color": "#000000",
           "width": 2
          },
          "size": [
           19,
           15,
           10,
           7
          ],
          "sizemode": "area",
          "sizeref": 0.0475,
          "symbol": "circle"
         },
         "mode": "markers",
         "name": "Verstappen",
         "orientation": "v",
         "showlegend": true,
         "textfont": {
          "size": 20
         },
         "type": "scatter",
         "x": [
          2023,
          2022,
          2021,
          2024
         ],
         "xaxis": "x",
         "y": [
          19,
          15,
          10,
          7
         ],
         "yaxis": "y"
        },
        {
         "hovertemplate": "name=Vettel<br>year=%{x}<br>Wins=%{marker.size}<extra></extra>",
         "legendgroup": "Vettel",
         "marker": {
          "color": "#EF553B",
          "line": {
           "color": "#000000",
           "width": 2
          },
          "size": [
           13,
           11
          ],
          "sizemode": "area",
          "sizeref": 0.0475,
          "symbol": "circle"
         },
         "mode": "markers",
         "name": "Vettel",
         "orientation": "v",
         "showlegend": true,
         "textfont": {
          "size": 20
         },
         "type": "scatter",
         "x": [
          2013,
          2011
         ],
         "xaxis": "x",
         "y": [
          13,
          11
         ],
         "yaxis": "y"
        },
        {
         "hovertemplate": "name=Schumacher<br>year=%{x}<br>Wins=%{marker.size}<extra></extra>",
         "legendgroup": "Schumacher",
         "marker": {
          "color": "#00cc96",
          "line": {
           "color": "#000000",
           "width": 2
          },
          "size": [
           13,
           11,
           9,
           9,
           9,
           8,
           7
          ],
          "sizemode": "area",
          "sizeref": 0.0475,
          "symbol": "circle"
         },
         "mode": "markers",
         "name": "Schumacher",
         "orientation": "v",
         "showlegend": true,
         "textfont": {
          "size": 20
         },
         "type": "scatter",
         "x": [
          2004,
          2002,
          2001,
          2000,
          1995,
          1994,
          2006
         ],
         "xaxis": "x",
         "y": [
          13,
          11,
          9,
          9,
          9,
          8,
          7
         ],
         "yaxis": "y"
        },
        {
         "hovertemplate": "name=Hamilton<br>year=%{x}<br>Wins=%{marker.size}<extra></extra>",
         "legendgroup": "Hamilton",
         "marker": {
          "color": "#ab63fa",
          "line": {
           "color": "#000000",
           "width": 2
          },
          "size": [
           11,
           11,
           11,
           11,
           10,
           9
          ],
          "sizemode": "area",
          "sizeref": 0.0475,
          "symbol": "circle"
         },
         "mode": "markers",
         "name": "Hamilton",
         "orientation": "v",
         "showlegend": true,
         "textfont": {
          "size": 20
         },
         "type": "scatter",
         "x": [
          2020,
          2019,
          2018,
          2014,
          2015,
          2017
         ],
         "xaxis": "x",
         "y": [
          11,
          11,
          11,
          11,
          10,
          9
         ],
         "yaxis": "y"
        },
        {
         "hovertemplate": "name=Mansell<br>year=%{x}<br>Wins=%{marker.size}<extra></extra>",
         "legendgroup": "Mansell",
         "marker": {
          "color": "#FFA15A",
          "line": {
           "color": "#000000",
           "width": 2
          },
          "size": [
           9
          ],
          "sizemode": "area",
          "sizeref": 0.0475,
          "symbol": "circle"
         },
         "mode": "markers",
         "name": "Mansell",
         "orientation": "v",
         "showlegend": true,
         "textfont": {
          "size": 20
         },
         "type": "scatter",
         "x": [
          1992
         ],
         "xaxis": "x",
         "y": [
          9
         ],
         "yaxis": "y"
        },
        {
         "hovertemplate": "name=Rosberg<br>year=%{x}<br>Wins=%{marker.size}<extra></extra>",
         "legendgroup": "Rosberg",
         "marker": {
          "color": "#19d3f3",
          "line": {
           "color": "#000000",
           "width": 2
          },
          "size": [
           9
          ],
          "sizemode": "area",
          "sizeref": 0.0475,
          "symbol": "circle"
         },
         "mode": "markers",
         "name": "Rosberg",
         "orientation": "v",
         "showlegend": true,
         "textfont": {
          "size": 20
         },
         "type": "scatter",
         "x": [
          2016
         ],
         "xaxis": "x",
         "y": [
          9
         ],
         "yaxis": "y"
        },
        {
         "hovertemplate": "name=Häkkinen<br>year=%{x}<br>Wins=%{marker.size}<extra></extra>",
         "legendgroup": "Häkkinen",
         "marker": {
          "color": "#FF6692",
          "line": {
           "color": "#000000",
           "width": 2
          },
          "size": [
           8
          ],
          "sizemode": "area",
          "sizeref": 0.0475,
          "symbol": "circle"
         },
         "mode": "markers",
         "name": "Häkkinen",
         "orientation": "v",
         "showlegend": true,
         "textfont": {
          "size": 20
         },
         "type": "scatter",
         "x": [
          1998
         ],
         "xaxis": "x",
         "y": [
          8
         ],
         "yaxis": "y"
        },
        {
         "hovertemplate": "name=Senna<br>year=%{x}<br>Wins=%{marker.size}<extra></extra>",
         "legendgroup": "Senna",
         "marker": {
          "color": "#B6E880",
          "line": {
           "color": "#000000",
           "width": 2
          },
          "size": [
           8,
           7
          ],
          "sizemode": "area",
          "sizeref": 0.0475,
          "symbol": "circle"
         },
         "mode": "markers",
         "name": "Senna",
         "orientation": "v",
         "showlegend": true,
         "textfont": {
          "size": 20
         },
         "type": "scatter",
         "x": [
          1988,
          1991
         ],
         "xaxis": "x",
         "y": [
          8,
          7
         ],
         "yaxis": "y"
        },
        {
         "hovertemplate": "name=Hill<br>year=%{x}<br>Wins=%{marker.size}<extra></extra>",
         "legendgroup": "Hill",
         "marker": {
          "color": "#FF97FF",
          "line": {
           "color": "#000000",
           "width": 2
          },
          "size": [
           8
          ],
          "sizemode": "area",
          "sizeref": 0.0475,
          "symbol": "circle"
         },
         "mode": "markers",
         "name": "Hill",
         "orientation": "v",
         "showlegend": true,
         "textfont": {
          "size": 20
         },
         "type": "scatter",
         "x": [
          1996
         ],
         "xaxis": "x",
         "y": [
          8
         ],
         "yaxis": "y"
        },
        {
         "hovertemplate": "name=Alonso<br>year=%{x}<br>Wins=%{marker.size}<extra></extra>",
         "legendgroup": "Alonso",
         "marker": {
          "color": "#FECB52",
          "line": {
           "color": "#000000",
           "width": 2
          },
          "size": [
           7,
           7
          ],
          "sizemode": "area",
          "sizeref": 0.0475,
          "symbol": "circle"
         },
         "mode": "markers",
         "name": "Alonso",
         "orientation": "v",
         "showlegend": true,
         "textfont": {
          "size": 20
         },
         "type": "scatter",
         "x": [
          2005,
          2006
         ],
         "xaxis": "x",
         "y": [
          7,
          7
         ],
         "yaxis": "y"
        },
        {
         "hovertemplate": "name=Clark<br>year=%{x}<br>Wins=%{marker.size}<extra></extra>",
         "legendgroup": "Clark",
         "marker": {
          "color": "#636efa",
          "line": {
           "color": "#000000",
           "width": 2
          },
          "size": [
           7
          ],
          "sizemode": "area",
          "sizeref": 0.0475,
          "symbol": "circle"
         },
         "mode": "markers",
         "name": "Clark",
         "orientation": "v",
         "showlegend": true,
         "textfont": {
          "size": 20
         },
         "type": "scatter",
         "x": [
          1963
         ],
         "xaxis": "x",
         "y": [
          7
         ],
         "yaxis": "y"
        },
        {
         "hovertemplate": "name=Villeneuve<br>year=%{x}<br>Wins=%{marker.size}<extra></extra>",
         "legendgroup": "Villeneuve",
         "marker": {
          "color": "#EF553B",
          "line": {
           "color": "#000000",
           "width": 2
          },
          "size": [
           7
          ],
          "sizemode": "area",
          "sizeref": 0.0475,
          "symbol": "circle"
         },
         "mode": "markers",
         "name": "Villeneuve",
         "orientation": "v",
         "showlegend": true,
         "textfont": {
          "size": 20
         },
         "type": "scatter",
         "x": [
          1997
         ],
         "xaxis": "x",
         "y": [
          7
         ],
         "yaxis": "y"
        },
        {
         "hovertemplate": "name=Prost<br>year=%{x}<br>Wins=%{marker.size}<extra></extra>",
         "legendgroup": "Prost",
         "marker": {
          "color": "#00cc96",
          "line": {
           "color": "#000000",
           "width": 2
          },
          "size": [
           7
          ],
          "sizemode": "area",
          "sizeref": 0.0475,
          "symbol": "circle"
         },
         "mode": "markers",
         "name": "Prost",
         "orientation": "v",
         "showlegend": true,
         "textfont": {
          "size": 20
         },
         "type": "scatter",
         "x": [
          1993
         ],
         "xaxis": "x",
         "y": [
          7
         ],
         "yaxis": "y"
        }
       ],
       "layout": {
        "legend": {
         "itemsizing": "constant",
         "title": {
          "text": "name"
         },
         "tracegroupgap": 0
        },
        "template": {
         "data": {
          "bar": [
           {
            "error_x": {
             "color": "#2a3f5f"
            },
            "error_y": {
             "color": "#2a3f5f"
            },
            "marker": {
             "line": {
              "color": "#E5ECF6",
              "width": 0.5
             },
             "pattern": {
              "fillmode": "overlay",
              "size": 10,
              "solidity": 0.2
             }
            },
            "type": "bar"
           }
          ],
          "barpolar": [
           {
            "marker": {
             "line": {
              "color": "#E5ECF6",
              "width": 0.5
             },
             "pattern": {
              "fillmode": "overlay",
              "size": 10,
              "solidity": 0.2
             }
            },
            "type": "barpolar"
           }
          ],
          "carpet": [
           {
            "aaxis": {
             "endlinecolor": "#2a3f5f",
             "gridcolor": "white",
             "linecolor": "white",
             "minorgridcolor": "white",
             "startlinecolor": "#2a3f5f"
            },
            "baxis": {
             "endlinecolor": "#2a3f5f",
             "gridcolor": "white",
             "linecolor": "white",
             "minorgridcolor": "white",
             "startlinecolor": "#2a3f5f"
            },
            "type": "carpet"
           }
          ],
          "choropleth": [
           {
            "colorbar": {
             "outlinewidth": 0,
             "ticks": ""
            },
            "type": "choropleth"
           }
          ],
          "contour": [
           {
            "colorbar": {
             "outlinewidth": 0,
             "ticks": ""
            },
            "colorscale": [
             [
              0,
              "#0d0887"
             ],
             [
              0.1111111111111111,
              "#46039f"
             ],
             [
              0.2222222222222222,
              "#7201a8"
             ],
             [
              0.3333333333333333,
              "#9c179e"
             ],
             [
              0.4444444444444444,
              "#bd3786"
             ],
             [
              0.5555555555555556,
              "#d8576b"
             ],
             [
              0.6666666666666666,
              "#ed7953"
             ],
             [
              0.7777777777777778,
              "#fb9f3a"
             ],
             [
              0.8888888888888888,
              "#fdca26"
             ],
             [
              1,
              "#f0f921"
             ]
            ],
            "type": "contour"
           }
          ],
          "contourcarpet": [
           {
            "colorbar": {
             "outlinewidth": 0,
             "ticks": ""
            },
            "type": "contourcarpet"
           }
          ],
          "heatmap": [
           {
            "colorbar": {
             "outlinewidth": 0,
             "ticks": ""
            },
            "colorscale": [
             [
              0,
              "#0d0887"
             ],
             [
              0.1111111111111111,
              "#46039f"
             ],
             [
              0.2222222222222222,
              "#7201a8"
             ],
             [
              0.3333333333333333,
              "#9c179e"
             ],
             [
              0.4444444444444444,
              "#bd3786"
             ],
             [
              0.5555555555555556,
              "#d8576b"
             ],
             [
              0.6666666666666666,
              "#ed7953"
             ],
             [
              0.7777777777777778,
              "#fb9f3a"
             ],
             [
              0.8888888888888888,
              "#fdca26"
             ],
             [
              1,
              "#f0f921"
             ]
            ],
            "type": "heatmap"
           }
          ],
          "heatmapgl": [
           {
            "colorbar": {
             "outlinewidth": 0,
             "ticks": ""
            },
            "colorscale": [
             [
              0,
              "#0d0887"
             ],
             [
              0.1111111111111111,
              "#46039f"
             ],
             [
              0.2222222222222222,
              "#7201a8"
             ],
             [
              0.3333333333333333,
              "#9c179e"
             ],
             [
              0.4444444444444444,
              "#bd3786"
             ],
             [
              0.5555555555555556,
              "#d8576b"
             ],
             [
              0.6666666666666666,
              "#ed7953"
             ],
             [
              0.7777777777777778,
              "#fb9f3a"
             ],
             [
              0.8888888888888888,
              "#fdca26"
             ],
             [
              1,
              "#f0f921"
             ]
            ],
            "type": "heatmapgl"
           }
          ],
          "histogram": [
           {
            "marker": {
             "pattern": {
              "fillmode": "overlay",
              "size": 10,
              "solidity": 0.2
             }
            },
            "type": "histogram"
           }
          ],
          "histogram2d": [
           {
            "colorbar": {
             "outlinewidth": 0,
             "ticks": ""
            },
            "colorscale": [
             [
              0,
              "#0d0887"
             ],
             [
              0.1111111111111111,
              "#46039f"
             ],
             [
              0.2222222222222222,
              "#7201a8"
             ],
             [
              0.3333333333333333,
              "#9c179e"
             ],
             [
              0.4444444444444444,
              "#bd3786"
             ],
             [
              0.5555555555555556,
              "#d8576b"
             ],
             [
              0.6666666666666666,
              "#ed7953"
             ],
             [
              0.7777777777777778,
              "#fb9f3a"
             ],
             [
              0.8888888888888888,
              "#fdca26"
             ],
             [
              1,
              "#f0f921"
             ]
            ],
            "type": "histogram2d"
           }
          ],
          "histogram2dcontour": [
           {
            "colorbar": {
             "outlinewidth": 0,
             "ticks": ""
            },
            "colorscale": [
             [
              0,
              "#0d0887"
             ],
             [
              0.1111111111111111,
              "#46039f"
             ],
             [
              0.2222222222222222,
              "#7201a8"
             ],
             [
              0.3333333333333333,
              "#9c179e"
             ],
             [
              0.4444444444444444,
              "#bd3786"
             ],
             [
              0.5555555555555556,
              "#d8576b"
             ],
             [
              0.6666666666666666,
              "#ed7953"
             ],
             [
              0.7777777777777778,
              "#fb9f3a"
             ],
             [
              0.8888888888888888,
              "#fdca26"
             ],
             [
              1,
              "#f0f921"
             ]
            ],
            "type": "histogram2dcontour"
           }
          ],
          "mesh3d": [
           {
            "colorbar": {
             "outlinewidth": 0,
             "ticks": ""
            },
            "type": "mesh3d"
           }
          ],
          "parcoords": [
           {
            "line": {
             "colorbar": {
              "outlinewidth": 0,
              "ticks": ""
             }
            },
            "type": "parcoords"
           }
          ],
          "pie": [
           {
            "automargin": true,
            "type": "pie"
           }
          ],
          "scatter": [
           {
            "fillpattern": {
             "fillmode": "overlay",
             "size": 10,
             "solidity": 0.2
            },
            "type": "scatter"
           }
          ],
          "scatter3d": [
           {
            "line": {
             "colorbar": {
              "outlinewidth": 0,
              "ticks": ""
             }
            },
            "marker": {
             "colorbar": {
              "outlinewidth": 0,
              "ticks": ""
             }
            },
            "type": "scatter3d"
           }
          ],
          "scattercarpet": [
           {
            "marker": {
             "colorbar": {
              "outlinewidth": 0,
              "ticks": ""
             }
            },
            "type": "scattercarpet"
           }
          ],
          "scattergeo": [
           {
            "marker": {
             "colorbar": {
              "outlinewidth": 0,
              "ticks": ""
             }
            },
            "type": "scattergeo"
           }
          ],
          "scattergl": [
           {
            "marker": {
             "colorbar": {
              "outlinewidth": 0,
              "ticks": ""
             }
            },
            "type": "scattergl"
           }
          ],
          "scattermapbox": [
           {
            "marker": {
             "colorbar": {
              "outlinewidth": 0,
              "ticks": ""
             }
            },
            "type": "scattermapbox"
           }
          ],
          "scatterpolar": [
           {
            "marker": {
             "colorbar": {
              "outlinewidth": 0,
              "ticks": ""
             }
            },
            "type": "scatterpolar"
           }
          ],
          "scatterpolargl": [
           {
            "marker": {
             "colorbar": {
              "outlinewidth": 0,
              "ticks": ""
             }
            },
            "type": "scatterpolargl"
           }
          ],
          "scatterternary": [
           {
            "marker": {
             "colorbar": {
              "outlinewidth": 0,
              "ticks": ""
             }
            },
            "type": "scatterternary"
           }
          ],
          "surface": [
           {
            "colorbar": {
             "outlinewidth": 0,
             "ticks": ""
            },
            "colorscale": [
             [
              0,
              "#0d0887"
             ],
             [
              0.1111111111111111,
              "#46039f"
             ],
             [
              0.2222222222222222,
              "#7201a8"
             ],
             [
              0.3333333333333333,
              "#9c179e"
             ],
             [
              0.4444444444444444,
              "#bd3786"
             ],
             [
              0.5555555555555556,
              "#d8576b"
             ],
             [
              0.6666666666666666,
              "#ed7953"
             ],
             [
              0.7777777777777778,
              "#fb9f3a"
             ],
             [
              0.8888888888888888,
              "#fdca26"
             ],
             [
              1,
              "#f0f921"
             ]
            ],
            "type": "surface"
           }
          ],
          "table": [
           {
            "cells": {
             "fill": {
              "color": "#EBF0F8"
             },
             "line": {
              "color": "white"
             }
            },
            "header": {
             "fill": {
              "color": "#C8D4E3"
             },
             "line": {
              "color": "white"
             }
            },
            "type": "table"
           }
          ]
         },
         "layout": {
          "annotationdefaults": {
           "arrowcolor": "#2a3f5f",
           "arrowhead": 0,
           "arrowwidth": 1
          },
          "autotypenumbers": "strict",
          "coloraxis": {
           "colorbar": {
            "outlinewidth": 0,
            "ticks": ""
           }
          },
          "colorscale": {
           "diverging": [
            [
             0,
             "#8e0152"
            ],
            [
             0.1,
             "#c51b7d"
            ],
            [
             0.2,
             "#de77ae"
            ],
            [
             0.3,
             "#f1b6da"
            ],
            [
             0.4,
             "#fde0ef"
            ],
            [
             0.5,
             "#f7f7f7"
            ],
            [
             0.6,
             "#e6f5d0"
            ],
            [
             0.7,
             "#b8e186"
            ],
            [
             0.8,
             "#7fbc41"
            ],
            [
             0.9,
             "#4d9221"
            ],
            [
             1,
             "#276419"
            ]
           ],
           "sequential": [
            [
             0,
             "#0d0887"
            ],
            [
             0.1111111111111111,
             "#46039f"
            ],
            [
             0.2222222222222222,
             "#7201a8"
            ],
            [
             0.3333333333333333,
             "#9c179e"
            ],
            [
             0.4444444444444444,
             "#bd3786"
            ],
            [
             0.5555555555555556,
             "#d8576b"
            ],
            [
             0.6666666666666666,
             "#ed7953"
            ],
            [
             0.7777777777777778,
             "#fb9f3a"
            ],
            [
             0.8888888888888888,
             "#fdca26"
            ],
            [
             1,
             "#f0f921"
            ]
           ],
           "sequentialminus": [
            [
             0,
             "#0d0887"
            ],
            [
             0.1111111111111111,
             "#46039f"
            ],
            [
             0.2222222222222222,
             "#7201a8"
            ],
            [
             0.3333333333333333,
             "#9c179e"
            ],
            [
             0.4444444444444444,
             "#bd3786"
            ],
            [
             0.5555555555555556,
             "#d8576b"
            ],
            [
             0.6666666666666666,
             "#ed7953"
            ],
            [
             0.7777777777777778,
             "#fb9f3a"
            ],
            [
             0.8888888888888888,
             "#fdca26"
            ],
            [
             1,
             "#f0f921"
            ]
           ]
          },
          "colorway": [
           "#636efa",
           "#EF553B",
           "#00cc96",
           "#ab63fa",
           "#FFA15A",
           "#19d3f3",
           "#FF6692",
           "#B6E880",
           "#FF97FF",
           "#FECB52"
          ],
          "font": {
           "color": "#2a3f5f"
          },
          "geo": {
           "bgcolor": "white",
           "lakecolor": "white",
           "landcolor": "#E5ECF6",
           "showlakes": true,
           "showland": true,
           "subunitcolor": "white"
          },
          "hoverlabel": {
           "align": "left"
          },
          "hovermode": "closest",
          "mapbox": {
           "style": "light"
          },
          "paper_bgcolor": "white",
          "plot_bgcolor": "#E5ECF6",
          "polar": {
           "angularaxis": {
            "gridcolor": "white",
            "linecolor": "white",
            "ticks": ""
           },
           "bgcolor": "#E5ECF6",
           "radialaxis": {
            "gridcolor": "white",
            "linecolor": "white",
            "ticks": ""
           }
          },
          "scene": {
           "xaxis": {
            "backgroundcolor": "#E5ECF6",
            "gridcolor": "white",
            "gridwidth": 2,
            "linecolor": "white",
            "showbackground": true,
            "ticks": "",
            "zerolinecolor": "white"
           },
           "yaxis": {
            "backgroundcolor": "#E5ECF6",
            "gridcolor": "white",
            "gridwidth": 2,
            "linecolor": "white",
            "showbackground": true,
            "ticks": "",
            "zerolinecolor": "white"
           },
           "zaxis": {
            "backgroundcolor": "#E5ECF6",
            "gridcolor": "white",
            "gridwidth": 2,
            "linecolor": "white",
            "showbackground": true,
            "ticks": "",
            "zerolinecolor": "white"
           }
          },
          "shapedefaults": {
           "line": {
            "color": "#2a3f5f"
           }
          },
          "ternary": {
           "aaxis": {
            "gridcolor": "white",
            "linecolor": "white",
            "ticks": ""
           },
           "baxis": {
            "gridcolor": "white",
            "linecolor": "white",
            "ticks": ""
           },
           "bgcolor": "#E5ECF6",
           "caxis": {
            "gridcolor": "white",
            "linecolor": "white",
            "ticks": ""
           }
          },
          "title": {
           "x": 0.05
          },
          "xaxis": {
           "automargin": true,
           "gridcolor": "white",
           "linecolor": "white",
           "ticks": "",
           "title": {
            "standoff": 15
           },
           "zerolinecolor": "white",
           "zerolinewidth": 2
          },
          "yaxis": {
           "automargin": true,
           "gridcolor": "white",
           "linecolor": "white",
           "ticks": "",
           "title": {
            "standoff": 15
           },
           "zerolinecolor": "white",
           "zerolinewidth": 2
          }
         }
        },
        "title": {
         "text": "Most wins by a driver in a single season"
        },
        "xaxis": {
         "anchor": "y",
         "domain": [
          0,
          1
         ],
         "showgrid": false,
         "title": {
          "text": "year"
         }
        },
        "yaxis": {
         "anchor": "x",
         "domain": [
          0,
          1
         ],
         "title": {
          "text": "Wins"
         }
        }
       }
      }
     },
     "metadata": {},
     "output_type": "display_data"
    }
   ],
   "source": [
    "#plotting\n",
    "fig = px.scatter(positions.head(30), x=\"year\", y=\"Wins\", color=\"name\",\n",
    "                 title=\"Most wins by a driver in a single season\",size = 'Wins')\n",
    "fig.update_traces(textfont_size=20,\n",
    "                  marker=dict(line=dict(color='#000000', width=2)))\n",
    "fig.update_xaxes(showgrid=False)\n",
    "fig.show()"
   ]
  },
  {
   "cell_type": "markdown",
   "metadata": {},
   "source": [
    "In the above visualization,Max Verstappen has had the highest wins(19) in year 2023.(HOVER OVER THE GRAPH)"
   ]
  },
  {
   "cell_type": "code",
   "execution_count": 74,
   "metadata": {},
   "outputs": [
    {
     "data": {
      "image/png": "[encoded data removed]",
      "text/plain": [
       "<Figure size 1200x400 with 1 Axes>"
      ]
     },
     "metadata": {},
     "output_type": "display_data"
    }
   ],
   "source": [
    "#Visualization 4: NUMBER OF FORMULA 1 RACES PER YEAR\n",
    "# Group data by 'year' and count the number of races\n",
    "res_df = results_df[['raceId', 'driverId', 'constructorId', 'grid', 'positionOrder']].copy()\n",
    "race_df = race_df[race_df[\"year\"] >= 1982]\n",
    "df = pd.merge(race_df, res_df, on='raceId')\n",
    "races_per_year = df.groupby('year')['raceId'].nunique()\n",
    "\n",
    "# Create a bar plot\n",
    "plt.figure(figsize=(12, 4))  # You can adjust the size as per your preference\n",
    "races_per_year.plot(kind='bar', color='skyblue')\n",
    "\n",
    "plt.title('Number of Formula 1 Races per Year')\n",
    "plt.xlabel('Year')\n",
    "plt.xticks(fontsize = 8)\n",
    "plt.ylabel('Number of Races')\n",
    "plt.xticks(rotation=45)  # Rotates the x-axis labels for better readability\n",
    "plt.grid(axis='y')\n",
    "\n",
    "# Display the plot\n",
    "plt.show()"
   ]
  },
  {
   "cell_type": "code",
   "execution_count": 75,
   "metadata": {},
   "outputs": [
    {
     "data": {
      "image/png": "[encoded data removed]",
      "text/plain": [
       "<Figure size 500x500 with 1 Axes>"
      ]
     },
     "metadata": {},
     "output_type": "display_data"
    }
   ],
   "source": [
    "#Visualization 5: TOP 15 F1 TEAMS(CONSTRUCTORS)BY THE NUMBER OF RACES THEY HAVE PARTICIPATED SINCE 1982\n",
    "# Group data by 'constructorId' and count unique races\n",
    "races_per_team = df.groupby('constructorId')['raceId'].nunique()\n",
    "\n",
    "# Create a dictionary to map 'constructorId' to 'name'\n",
    "constructor_name_dict = pd.Series(constructors_df.name.values, index=constructors_df.constructorId).to_dict()\n",
    "\n",
    "# Replace 'constructorId' with corresponding 'name' in races_per_team\n",
    "races_per_team.index = races_per_team.index.map(constructor_name_dict)\n",
    "\n",
    "# Sort the data from most races to least races and select top 15\n",
    "races_per_team_sorted = races_per_team.sort_values(ascending=False).head(15)\n",
    "\n",
    "# Create a bar plot\n",
    "plt.figure(figsize=(5,5))  # Adjust the figure size to your preference\n",
    "colors = plt.cm.Spectral(np.linspace(0, 1, len(races_per_team_sorted))) # Using Spectral colormap\n",
    "races_per_team_sorted.plot(kind='barh', color=colors)\n",
    "\n",
    "plt.title('Top 15 Formula 1 Teams by Number of Races since 1982')\n",
    "plt.ylabel('Team Name')\n",
    "plt.xlabel('Number of Races')\n",
    "plt.grid(axis='x')\n",
    "\n",
    "# Reverse the order of the y-axis so the team with most races is on top\n",
    "plt.gca().invert_yaxis()\n",
    "\n",
    "# Display the plot\n",
    "plt.show()"
   ]
  },
  {
   "cell_type": "code",
   "execution_count": 76,
   "metadata": {},
   "outputs": [
    {
     "data": {
      "image/png": "[encoded data removed]",
      "text/plain": [
       "<Figure size 500x500 with 1 Axes>"
      ]
     },
     "metadata": {},
     "output_type": "display_data"
    }
   ],
   "source": [
    "#Visualization 6: TOP 15 F1 TEAMS(DRIVERS)BY THE NUMBER OF RACES THEY HAVE PARTICIPATED SINCE 1982\n",
    "# Group data by 'driverId' and count unique races\n",
    "races_per_team = df.groupby('driverId')['raceId'].nunique()\n",
    "\n",
    "# Create a dictionary to map 'driverId' to 'name'\n",
    "driver_name_dict = pd.Series(drivers_df.surname.values, index=drivers_df.driverId).to_dict()\n",
    "\n",
    "# Replace 'driverId' with corresponding 'name' in races_per_team\n",
    "races_per_team.index = races_per_team.index.map(driver_name_dict)\n",
    "\n",
    "# Sort the data from most races to least races and select top 15\n",
    "races_per_team_sorted = races_per_team.sort_values(ascending=False).head(15)\n",
    "\n",
    "# Create a bar plot\n",
    "plt.figure(figsize=(5, 5))  # Adjust the figure size to your preference\n",
    "colors = plt.cm.Spectral(np.linspace(0, 1, len(races_per_team_sorted))) # Using Spectral colormap\n",
    "races_per_team_sorted.plot(kind='barh', color=colors)\n",
    "\n",
    "plt.title('Top 15 Formula 1 Drivers by Number of Races since 1982')\n",
    "plt.ylabel('Team Name')\n",
    "plt.xlabel('Number of Races')\n",
    "plt.grid(axis='x')\n",
    "\n",
    "# Reverse the order of the y-axis so the team with most races is on top\n",
    "plt.gca().invert_yaxis()\n",
    "\n",
    "# Display the plot\n",
    "plt.show()\n"
   ]
  },
  {
   "cell_type": "markdown",
   "metadata": {},
   "source": [
    "Data collection for training model\n",
    "Extracting raceId, year, round, circuitId from races dataframe to train model"
   ]
  },
  {
   "cell_type": "code",
   "execution_count": 77,
   "metadata": {},
   "outputs": [
    {
     "name": "stdout",
     "output_type": "stream",
     "text": [
      "      raceId  year  round  circuitId\n",
      "0          1  2009      1          1\n",
      "1          2  2009      2          2\n",
      "2          3  2009      3         17\n",
      "3          4  2009      4          3\n",
      "4          5  2009      5          4\n",
      "...      ...   ...    ...        ...\n",
      "1120    1140  2024     20         32\n",
      "1121    1141  2024     21         18\n",
      "1122    1142  2024     22         80\n",
      "1123    1143  2024     23         78\n",
      "1124    1144  2024     24         24\n",
      "\n",
      "[768 rows x 4 columns]\n"
     ]
    }
   ],
   "source": [
    "race_df = race_df[[\"raceId\", \"year\", \"round\", \"circuitId\"]].copy()\n",
    "print(race_df)\n"
   ]
  },
  {
   "cell_type": "markdown",
   "metadata": {},
   "source": [
    "Data Preprocessing"
   ]
  },
  {
   "cell_type": "code",
   "execution_count": 78,
   "metadata": {},
   "outputs": [
    {
     "name": "stdout",
     "output_type": "stream",
     "text": [
      "      raceId  year  round  circuitId\n",
      "466      467  1982      1         30\n",
      "467      468  1982      2         36\n",
      "468      469  1982      3         43\n",
      "469      470  1982      4         21\n",
      "470      471  1982      5         40\n",
      "...      ...   ...    ...        ...\n",
      "1120    1140  2024     20         32\n",
      "1121    1141  2024     21         18\n",
      "1122    1142  2024     22         80\n",
      "1123    1143  2024     23         78\n",
      "1124    1144  2024     24         24\n",
      "\n",
      "[768 rows x 4 columns]\n"
     ]
    }
   ],
   "source": [
    "#sorting data by year and using data after year 1982 to have relevant data to newer f1 period\n",
    "race_df = race_df.sort_values(by=['year', 'round'])\n",
    "race_df = race_df[race_df[\"year\"] >= 1982]\n",
    "print(race_df)\n"
   ]
  },
  {
   "cell_type": "markdown",
   "metadata": {},
   "source": [
    "Extracting raceId, driverId, constructorId, grid (starting postion), positionOrder (finishing position) from results dataframe to train model"
   ]
  },
  {
   "cell_type": "code",
   "execution_count": 79,
   "metadata": {},
   "outputs": [
    {
     "name": "stdout",
     "output_type": "stream",
     "text": [
      "       raceId  driverId  constructorId  grid  positionOrder\n",
      "0          18         1              1     1              1\n",
      "1          18         2              2     5              2\n",
      "2          18         3              3     7              3\n",
      "3          18         4              4    11              4\n",
      "4          18         5              1     3              5\n",
      "...       ...       ...            ...   ...            ...\n",
      "26514    1132       839            214    18             16\n",
      "26515    1132       815              9     0             17\n",
      "26516    1132       855             15    14             18\n",
      "26517    1132       847            131     1             19\n",
      "26518    1132       842            214    19             20\n",
      "\n",
      "[26519 rows x 5 columns]\n"
     ]
    }
   ],
   "source": [
    "res_df = results_df[['raceId', 'driverId', 'constructorId', 'grid', 'positionOrder']].copy()\n",
    "print(res_df)\n"
   ]
  },
  {
   "cell_type": "code",
   "execution_count": 80,
   "metadata": {},
   "outputs": [
    {
     "name": "stdout",
     "output_type": "stream",
     "text": [
      "Number of duplicate rows: 0\n",
      "      raceId  year  round  circuitId\n",
      "466      467  1982      1         30\n",
      "467      468  1982      2         36\n",
      "468      469  1982      3         43\n",
      "469      470  1982      4         21\n",
      "470      471  1982      5         40\n",
      "...      ...   ...    ...        ...\n",
      "1120    1140  2024     20         32\n",
      "1121    1141  2024     21         18\n",
      "1122    1142  2024     22         80\n",
      "1123    1143  2024     23         78\n",
      "1124    1144  2024     24         24\n",
      "\n",
      "[768 rows x 4 columns]\n"
     ]
    }
   ],
   "source": [
    "#check duplicates in race data\n",
    "duplicates = race_df.duplicated()\n",
    "num_duplicates = duplicates.sum()\n",
    "print(f\"Number of duplicate rows: {num_duplicates}\")\n",
    "print(race_df)"
   ]
  },
  {
   "cell_type": "markdown",
   "metadata": {},
   "source": [
    "Merge race and results data: to have information about the year, the round, and the circuit for a specific race. We checked in above cell that we have no duplicate raceId, so we can proceed with merging the two datasets."
   ]
  },
  {
   "cell_type": "code",
   "execution_count": 81,
   "metadata": {},
   "outputs": [
    {
     "name": "stdout",
     "output_type": "stream",
     "text": [
      "       raceId  year  round  circuitId  driverId  constructorId  grid  \\\n",
      "0         467  1982      1         30       117              4     5   \n",
      "1         467  1982      1         30       199              3     8   \n",
      "2         467  1982      1         30       163              4     1   \n",
      "3         467  1982      1         30       182              1    13   \n",
      "4         467  1982      1         30       177              3     7   \n",
      "...       ...   ...    ...        ...       ...            ...   ...   \n",
      "17755    1132  2024     12          9       839            214    18   \n",
      "17756    1132  2024     12          9       815              9     0   \n",
      "17757    1132  2024     12          9       855             15    14   \n",
      "17758    1132  2024     12          9       847            131     1   \n",
      "17759    1132  2024     12          9       842            214    19   \n",
      "\n",
      "       positionOrder  \n",
      "0                  1  \n",
      "1                  2  \n",
      "2                  3  \n",
      "3                  4  \n",
      "4                  5  \n",
      "...              ...  \n",
      "17755             16  \n",
      "17756             17  \n",
      "17757             18  \n",
      "17758             19  \n",
      "17759             20  \n",
      "\n",
      "[17760 rows x 8 columns]\n"
     ]
    }
   ],
   "source": [
    "#merged columns: raceId, driverId, constructorId, grid, positionOrder, round, year\n",
    "df = pd.merge(race_df, res_df, on='raceId')\n",
    "print(df)\n"
   ]
  },
  {
   "cell_type": "code",
   "execution_count": 82,
   "metadata": {},
   "outputs": [
    {
     "data": {
      "text/plain": [
       "raceId           0\n",
       "year             0\n",
       "round            0\n",
       "circuitId        0\n",
       "driverId         0\n",
       "constructorId    0\n",
       "grid             0\n",
       "positionOrder    0\n",
       "dtype: int64"
      ]
     },
     "execution_count": 82,
     "metadata": {},
     "output_type": "execute_result"
    }
   ],
   "source": [
    "#check if missing values present in any columns\n",
    "df.dtypes\n",
    "df.isna().sum()"
   ]
  },
  {
   "cell_type": "code",
   "execution_count": null,
   "metadata": {},
   "outputs": [],
   "source": []
  },
  {
   "cell_type": "markdown",
   "metadata": {},
   "source": [
    "Feature Engineering: creating and adding a new feature \"Top 3 Finish\" to specify whether a driver has finished in the top 3 for every race."
   ]
  },
  {
   "cell_type": "code",
   "execution_count": 83,
   "metadata": {},
   "outputs": [
    {
     "name": "stdout",
     "output_type": "stream",
     "text": [
      "       raceId  year  round  circuitId  driverId  constructorId  grid  \\\n",
      "0         467  1982      1         30       117              4     5   \n",
      "1         467  1982      1         30       199              3     8   \n",
      "2         467  1982      1         30       163              4     1   \n",
      "3         467  1982      1         30       182              1    13   \n",
      "4         467  1982      1         30       177              3     7   \n",
      "...       ...   ...    ...        ...       ...            ...   ...   \n",
      "17755    1132  2024     12          9       839            214    18   \n",
      "17756    1132  2024     12          9       815              9     0   \n",
      "17757    1132  2024     12          9       855             15    14   \n",
      "17758    1132  2024     12          9       847            131     1   \n",
      "17759    1132  2024     12          9       842            214    19   \n",
      "\n",
      "       positionOrder  Top 3 Finish  \n",
      "0                  1             1  \n",
      "1                  2             1  \n",
      "2                  3             1  \n",
      "3                  4             0  \n",
      "4                  5             0  \n",
      "...              ...           ...  \n",
      "17755             16             0  \n",
      "17756             17             0  \n",
      "17757             18             0  \n",
      "17758             19             0  \n",
      "17759             20             0  \n",
      "\n",
      "[17760 rows x 9 columns]\n",
      "Number of unique drivers: 756\n"
     ]
    }
   ],
   "source": [
    "# Creating a column for Top 3 Finish\n",
    "df['Top 3 Finish'] = df['positionOrder'].le(3).astype(int)\n",
    "\n",
    "# Display the first few rows to confirm the new column\n",
    "print(df)\n",
    "\n",
    "# To confirm we have the correct data\n",
    "numberRace = df[\"raceId\"].nunique()\n",
    "print(f\"Number of unique drivers: {numberRace}\")"
   ]
  },
  {
   "cell_type": "markdown",
   "metadata": {},
   "source": [
    "IMPORTANT: Following are past performance calculations to predict future race results"
   ]
  },
  {
   "cell_type": "markdown",
   "metadata": {},
   "source": [
    "Calculating: 1. Top 3 Driver finishes % last year\n",
    "2. Top 3 Driver finishes % current year till previous race\n",
    "3. Top 3 Constructors finishes % last year\n",
    "4. Top 3 Constructors finishes % current year till previous race\n",
    "\n",
    "Merging: Following 2 columns will be added to our data frame:\n",
    "1.Driver Top 3 Finish Percentage (Last Year)\n",
    "2.Constructor Top 3 Finish Percentage (Last Year) \n",
    "\n"
   ]
  },
  {
   "cell_type": "code",
   "execution_count": 84,
   "metadata": {},
   "outputs": [
    {
     "name": "stdout",
     "output_type": "stream",
     "text": [
      "Driver annual stats\n",
      "      year  driverId  Total_Races  Top_3_Finishes\n",
      "0     1982        90            1               0\n",
      "1     1982        95           13               1\n",
      "2     1982       105           16               2\n",
      "3     1982       110           16               1\n",
      "4     1982       117           16               4\n",
      "...    ...       ...          ...             ...\n",
      "1216  2024       852           12               0\n",
      "1217  2024       855           12               0\n",
      "1218  2024       857           12               2\n",
      "1219  2024       858           11               0\n",
      "1220  2024       860            1               0\n",
      "\n",
      "[1221 rows x 4 columns]\n",
      "New dataframe\n",
      "       raceId  year  round  circuitId  driverId  constructorId  grid  \\\n",
      "465       452  1983      1         36       137             34     4   \n",
      "466       452  1983      1         36       182              1     9   \n",
      "467       452  1983      1         36       172              3    18   \n",
      "468       452  1983      1         36       175              6     3   \n",
      "469       452  1983      1         36       176             21    20   \n",
      "...       ...   ...    ...        ...       ...            ...   ...   \n",
      "17755    1132  2024     12          9       839            214    18   \n",
      "17756    1132  2024     12          9       815              9     0   \n",
      "17757    1132  2024     12          9       855             15    14   \n",
      "17758    1132  2024     12          9       847            131     1   \n",
      "17759    1132  2024     12          9       842            214    19   \n",
      "\n",
      "       positionOrder  Top 3 Finish  Driver Top 3 Finish Percentage (Last Year)  \n",
      "465                1             1                                   13.333333  \n",
      "466                2             1                                   21.428571  \n",
      "467                3             1                                    6.666667  \n",
      "468                4             0                                   37.500000  \n",
      "469                5             0                                    0.000000  \n",
      "...              ...           ...                                         ...  \n",
      "17755             16             0                                    4.545455  \n",
      "17756             17             0                                   40.909091  \n",
      "17757             18             0                                    0.000000  \n",
      "17758             19             0                                    9.090909  \n",
      "17759             20             0                                    4.545455  \n",
      "\n",
      "[17295 rows x 10 columns]\n"
     ]
    }
   ],
   "source": [
    "# Calculating the total number of races and top 3 finishes for each driver in each year\n",
    "driver_yearly_stats = df.groupby(['year', 'driverId']).agg(\n",
    "    Total_Races=('raceId', 'nunique'),\n",
    "    Top_3_Finishes=('Top 3 Finish', 'sum')\n",
    ").reset_index()\n",
    "\n",
    "print(\"Driver annual stats\")\n",
    "print(driver_yearly_stats)\n",
    "#example reading: row 4:driver with driverId 117 had been in top 3 postitions 4 times over the year 1982 and took part in 16 races.\n",
    "\n",
    "#percentage calculation for top 3 finishes for each driver in each year\n",
    "#formula: (top 3 finishes / total races)*100\n",
    "driver_yearly_stats['Driver Top 3 Finish Percentage (This Year)'] = (driver_yearly_stats['Top_3_Finishes'] / driver_yearly_stats['Total_Races']) * 100\n",
    "\n",
    "# While calculating percentage for last year, we need to shift the 'year' feature by 1. \n",
    "# Shifting the driver percentages to the next year for last year's data\n",
    "driver_last_year_stats = driver_yearly_stats.copy()\n",
    "driver_last_year_stats['year'] += 1\n",
    "driver_last_year_stats = driver_last_year_stats.rename(columns={'Driver Top 3 Finish Percentage (This Year)': 'Driver Top 3 Finish Percentage (Last Year)'})\n",
    "\n",
    "#appending the new column to data frame\n",
    "df = pd.merge(df, driver_last_year_stats[['year', 'driverId', 'Driver Top 3 Finish Percentage (Last Year)']], on=['year', 'driverId'], how='left')\n",
    "\n",
    "# Checking the merged data\n",
    "print(\"New dataframe\")\n",
    "print(df[df[\"year\"]>=1983])\n",
    "#setting filter to 1983 as top 3 finishes column"
   ]
  },
  {
   "cell_type": "code",
   "execution_count": 85,
   "metadata": {},
   "outputs": [
    {
     "name": "stdout",
     "output_type": "stream",
     "text": [
      "       raceId  year  round  circuitId  driverId  constructorId  grid  \\\n",
      "0         467  1982      1         30       117              4     5   \n",
      "1         467  1982      1         30       199              3     8   \n",
      "2         467  1982      1         30       163              4     1   \n",
      "3         467  1982      1         30       182              1    13   \n",
      "4         467  1982      1         30       177              3     7   \n",
      "...       ...   ...    ...        ...       ...            ...   ...   \n",
      "17755    1132  2024     12          9       839            214    18   \n",
      "17756    1132  2024     12          9       815              9     0   \n",
      "17757    1132  2024     12          9       855             15    14   \n",
      "17758    1132  2024     12          9       847            131     1   \n",
      "17759    1132  2024     12          9       842            214    19   \n",
      "\n",
      "       positionOrder  Top 3 Finish  Driver Top 3 Finish Percentage (Last Year)  \n",
      "0                  1             1                                         NaN  \n",
      "1                  2             1                                         NaN  \n",
      "2                  3             1                                         NaN  \n",
      "3                  4             0                                         NaN  \n",
      "4                  5             0                                         NaN  \n",
      "...              ...           ...                                         ...  \n",
      "17755             16             0                                    4.545455  \n",
      "17756             17             0                                   40.909091  \n",
      "17757             18             0                                    0.000000  \n",
      "17758             19             0                                    9.090909  \n",
      "17759             20             0                                    4.545455  \n",
      "\n",
      "[17760 rows x 10 columns]\n"
     ]
    }
   ],
   "source": [
    "print(df[df[\"year\"]>=1982])\n",
    "#Drivers Top 3 Finish Percentage (Last Year) column has NaNs since we are taking values from 1983"
   ]
  },
  {
   "cell_type": "code",
   "execution_count": 86,
   "metadata": {},
   "outputs": [
    {
     "name": "stdout",
     "output_type": "stream",
     "text": [
      "Constructor annual stats\n",
      "      year  constructorId  round  Sum_Top_3_Finishes_Last_Year\n",
      "0     1982              1      1                           0.0\n",
      "1     1982              1      2                           0.0\n",
      "2     1982              1      3                           0.0\n",
      "3     1982              1      5                           0.0\n",
      "4     1982              1      6                           0.0\n",
      "...    ...            ...    ...                           ...\n",
      "9098  2024            215      8                           0.0\n",
      "9099  2024            215      9                           0.0\n",
      "9100  2024            215     10                           0.0\n",
      "9101  2024            215     11                           0.0\n",
      "9102  2024            215     12                           0.0\n",
      "\n",
      "[9103 rows x 4 columns]\n",
      "New dataframe\n",
      "       raceId  year  round  circuitId  driverId  constructorId  grid  \\\n",
      "465       452  1983      1         36       137             34     4   \n",
      "466       452  1983      1         36       182              1     9   \n",
      "467       452  1983      1         36       172              3    18   \n",
      "468       452  1983      1         36       175              6     3   \n",
      "469       452  1983      1         36       176             21    20   \n",
      "...       ...   ...    ...        ...       ...            ...   ...   \n",
      "17755    1132  2024     12          9       839            214    18   \n",
      "17756    1132  2024     12          9       815              9     0   \n",
      "17757    1132  2024     12          9       855             15    14   \n",
      "17758    1132  2024     12          9       847            131     1   \n",
      "17759    1132  2024     12          9       842            214    19   \n",
      "\n",
      "       positionOrder  Top 3 Finish  \\\n",
      "465                1             1   \n",
      "466                2             1   \n",
      "467                3             1   \n",
      "468                4             0   \n",
      "469                5             0   \n",
      "...              ...           ...   \n",
      "17755             16             0   \n",
      "17756             17             0   \n",
      "17757             18             0   \n",
      "17758             19             0   \n",
      "17759             20             0   \n",
      "\n",
      "       Driver Top 3 Finish Percentage (Last Year)  \\\n",
      "465                                     13.333333   \n",
      "466                                     21.428571   \n",
      "467                                      6.666667   \n",
      "468                                     37.500000   \n",
      "469                                      0.000000   \n",
      "...                                           ...   \n",
      "17755                                    4.545455   \n",
      "17756                                   40.909091   \n",
      "17757                                    0.000000   \n",
      "17758                                    9.090909   \n",
      "17759                                    4.545455   \n",
      "\n",
      "       Constructor Top 3 Finish Percentage (Last Year)  \n",
      "465                                          16.666667  \n",
      "466                                          27.380952  \n",
      "467                                          23.333333  \n",
      "468                                          31.250000  \n",
      "469                                           0.000000  \n",
      "...                                                ...  \n",
      "17755                                         4.545455  \n",
      "17756                                        68.181818  \n",
      "17757                                         0.000000  \n",
      "17758                                        18.181818  \n",
      "17759                                         4.545455  \n",
      "\n",
      "[17295 rows x 11 columns]\n"
     ]
    }
   ],
   "source": [
    "# We need to calculate mean of constructors stats as 1 team has 2 drivers. Calculating for last year\n",
    "constructor_last_year_stats = df.groupby(['year', 'constructorId', 'round']).agg(\n",
    "    Sum_Top_3_Finishes_Last_Year=('Driver Top 3 Finish Percentage (Last Year)', 'sum')\n",
    ").reset_index()\n",
    "\n",
    "print(\"Constructor annual stats\")\n",
    "print(constructor_last_year_stats)\n",
    "\n",
    "# Calculating the percentage of top 3 finishes for each constructor last year\n",
    "constructor_last_year_stats['Constructor Top 3 Finish Percentage (Last Year)'] = constructor_last_year_stats[\"Sum_Top_3_Finishes_Last_Year\"]/2\n",
    "\n",
    "df = pd.merge(df, constructor_last_year_stats[['year', 'constructorId', 'round', 'Constructor Top 3 Finish Percentage (Last Year)']], on=['year', 'constructorId', 'round'], how='left')\n",
    "\n",
    "# Checking the merged data\n",
    "print(\"New dataframe\")\n",
    "print(df[df[\"year\"]>=1983])"
   ]
  },
  {
   "cell_type": "markdown",
   "metadata": {},
   "source": [
    "Driver: Percentage of finishing in top 3 for current year till last race"
   ]
  },
  {
   "cell_type": "code",
   "execution_count": 87,
   "metadata": {},
   "outputs": [],
   "source": [
    "# Function to calculate the top 3 finish percentage before the current round in current year for drivers\n",
    "def calculate_driver_top_3_percentage_before_round(row, df):\n",
    "    # Filter for races in the same year, for the same driver, but in earlier rounds\n",
    "    previous_races = df[(df['year'] == row['year']) & (df['driverId'] == row['driverId']) & (df['round'] < row['round'])]\n",
    "    if len(previous_races) == 0:\n",
    "      return pd.NA\n",
    "\n",
    "    total_races = previous_races['raceId'].nunique()\n",
    "    top_3_finishes = previous_races['Top 3 Finish'].sum()\n",
    "\n",
    "    # Calculate the percentage\n",
    "    return (top_3_finishes / total_races) * 100 if total_races > 0 else pd.NA\n",
    "\n",
    "# Apply the function to each row in the DataFrame\n",
    "df['Driver Top 3 Finish Percentage (This Year till last race)'] = df.apply(lambda row: calculate_driver_top_3_percentage_before_round(row, df), axis=1)"
   ]
  },
  {
   "cell_type": "markdown",
   "metadata": {},
   "source": [
    "Constructor(Team): Percentage of finishing in top 3 for current year till last race"
   ]
  },
  {
   "cell_type": "code",
   "execution_count": 88,
   "metadata": {},
   "outputs": [
    {
     "name": "stdout",
     "output_type": "stream",
     "text": [
      "Constructor annual stats\n",
      "      year  constructorId  round Sum_Top_3_Finishes_This_Year\n",
      "0     1982              1      1                            0\n",
      "1     1982              1      2                          0.0\n",
      "2     1982              1      3                         50.0\n",
      "3     1982              1      5                    66.666667\n",
      "4     1982              1      6                         75.0\n",
      "...    ...            ...    ...                          ...\n",
      "9098  2024            215      8                          0.0\n",
      "9099  2024            215      9                          0.0\n",
      "9100  2024            215     10                          0.0\n",
      "9101  2024            215     11                          0.0\n",
      "9102  2024            215     12                          0.0\n",
      "\n",
      "[9103 rows x 4 columns]\n",
      "New dataframe\n",
      "       raceId  year  round  circuitId  driverId  constructorId  grid  \\\n",
      "465       452  1983      1         36       137             34     4   \n",
      "466       452  1983      1         36       182              1     9   \n",
      "467       452  1983      1         36       172              3    18   \n",
      "468       452  1983      1         36       175              6     3   \n",
      "469       452  1983      1         36       176             21    20   \n",
      "...       ...   ...    ...        ...       ...            ...   ...   \n",
      "17755    1132  2024     12          9       839            214    18   \n",
      "17756    1132  2024     12          9       815              9     0   \n",
      "17757    1132  2024     12          9       855             15    14   \n",
      "17758    1132  2024     12          9       847            131     1   \n",
      "17759    1132  2024     12          9       842            214    19   \n",
      "\n",
      "       positionOrder  Top 3 Finish  \\\n",
      "465                1             1   \n",
      "466                2             1   \n",
      "467                3             1   \n",
      "468                4             0   \n",
      "469                5             0   \n",
      "...              ...           ...   \n",
      "17755             16             0   \n",
      "17756             17             0   \n",
      "17757             18             0   \n",
      "17758             19             0   \n",
      "17759             20             0   \n",
      "\n",
      "       Driver Top 3 Finish Percentage (Last Year)  \\\n",
      "465                                     13.333333   \n",
      "466                                     21.428571   \n",
      "467                                      6.666667   \n",
      "468                                     37.500000   \n",
      "469                                      0.000000   \n",
      "...                                           ...   \n",
      "17755                                    4.545455   \n",
      "17756                                   40.909091   \n",
      "17757                                    0.000000   \n",
      "17758                                    9.090909   \n",
      "17759                                    4.545455   \n",
      "\n",
      "       Constructor Top 3 Finish Percentage (Last Year)  \\\n",
      "465                                          16.666667   \n",
      "466                                          27.380952   \n",
      "467                                          23.333333   \n",
      "468                                          31.250000   \n",
      "469                                           0.000000   \n",
      "...                                                ...   \n",
      "17755                                         4.545455   \n",
      "17756                                        68.181818   \n",
      "17757                                         0.000000   \n",
      "17758                                        18.181818   \n",
      "17759                                         4.545455   \n",
      "\n",
      "      Driver Top 3 Finish Percentage (This Year till last race)  \\\n",
      "465                                                 <NA>          \n",
      "466                                                 <NA>          \n",
      "467                                                 <NA>          \n",
      "468                                                 <NA>          \n",
      "469                                                 <NA>          \n",
      "...                                                  ...          \n",
      "17755                                                0.0          \n",
      "17756                                          36.363636          \n",
      "17757                                                0.0          \n",
      "17758                                          18.181818          \n",
      "17759                                                0.0          \n",
      "\n",
      "      Constructor Top 3 Finish Percentage (This Year till last race)  \n",
      "465                                                  0.0              \n",
      "466                                                  0.0              \n",
      "467                                                  0.0              \n",
      "468                                                  0.0              \n",
      "469                                                  0.0              \n",
      "...                                                  ...              \n",
      "17755                                                0.0              \n",
      "17756                                          54.545455              \n",
      "17757                                                0.0              \n",
      "17758                                          13.636364              \n",
      "17759                                                0.0              \n",
      "\n",
      "[17295 rows x 13 columns]\n"
     ]
    }
   ],
   "source": [
    "# Calculating mean of top 3 finishes percentages for the two drivers in each constructor this year\n",
    "constructor_this_year_stats = df.groupby(['year', 'constructorId', 'round']).agg(\n",
    "    Sum_Top_3_Finishes_This_Year=('Driver Top 3 Finish Percentage (This Year till last race)', 'sum')\n",
    ").reset_index()\n",
    "\n",
    "print(\"Constructor annual stats\")\n",
    "print(constructor_this_year_stats)\n",
    "\n",
    "# Calculating the percentage of top 3 finishes for each constructor this year\n",
    "constructor_this_year_stats['Constructor Top 3 Finish Percentage (This Year till last race)'] = constructor_this_year_stats[\"Sum_Top_3_Finishes_This_Year\"]/2\n",
    "\n",
    "df = pd.merge(df, constructor_this_year_stats[['year', 'constructorId', 'round', 'Constructor Top 3 Finish Percentage (This Year till last race)']], on=['year', 'constructorId', 'round'], how='left')\n",
    "\n",
    "# Checking the merged data\n",
    "print(\"New dataframe\")\n",
    "print(df[df[\"year\"]>=1983])"
   ]
  },
  {
   "cell_type": "markdown",
   "metadata": {},
   "source": [
    "Past Performance Features: Average Finishing position"
   ]
  },
  {
   "cell_type": "markdown",
   "metadata": {},
   "source": [
    "Driver: Average finishing position for past year\n",
    "\n"
   ]
  },
  {
   "cell_type": "code",
   "execution_count": 89,
   "metadata": {},
   "outputs": [
    {
     "name": "stdout",
     "output_type": "stream",
     "text": [
      "Driver annual stats\n",
      "      year  driverId  Total_Races  Avg_position\n",
      "0     1982        90            1     30.000000\n",
      "1     1982        95           13     13.692308\n",
      "2     1982       105           16      9.000000\n",
      "3     1982       110           16     14.437500\n",
      "4     1982       117           16     10.000000\n",
      "...    ...       ...          ...           ...\n",
      "1216  2024       852           12     12.250000\n",
      "1217  2024       855           12     15.333333\n",
      "1218  2024       857           12      5.750000\n",
      "1219  2024       858           11     17.272727\n",
      "1220  2024       860            1      7.000000\n",
      "\n",
      "[1221 rows x 4 columns]\n",
      "New dataframe\n",
      "       raceId  year  round  circuitId  driverId  constructorId  grid  \\\n",
      "465       452  1983      1         36       137             34     4   \n",
      "466       452  1983      1         36       182              1     9   \n",
      "467       452  1983      1         36       172              3    18   \n",
      "468       452  1983      1         36       175              6     3   \n",
      "469       452  1983      1         36       176             21    20   \n",
      "...       ...   ...    ...        ...       ...            ...   ...   \n",
      "17755    1132  2024     12          9       839            214    18   \n",
      "17756    1132  2024     12          9       815              9     0   \n",
      "17757    1132  2024     12          9       855             15    14   \n",
      "17758    1132  2024     12          9       847            131     1   \n",
      "17759    1132  2024     12          9       842            214    19   \n",
      "\n",
      "       positionOrder  Top 3 Finish  \\\n",
      "465                1             1   \n",
      "466                2             1   \n",
      "467                3             1   \n",
      "468                4             0   \n",
      "469                5             0   \n",
      "...              ...           ...   \n",
      "17755             16             0   \n",
      "17756             17             0   \n",
      "17757             18             0   \n",
      "17758             19             0   \n",
      "17759             20             0   \n",
      "\n",
      "       Driver Top 3 Finish Percentage (Last Year)  \\\n",
      "465                                     13.333333   \n",
      "466                                     21.428571   \n",
      "467                                      6.666667   \n",
      "468                                     37.500000   \n",
      "469                                      0.000000   \n",
      "...                                           ...   \n",
      "17755                                    4.545455   \n",
      "17756                                   40.909091   \n",
      "17757                                    0.000000   \n",
      "17758                                    9.090909   \n",
      "17759                                    4.545455   \n",
      "\n",
      "       Constructor Top 3 Finish Percentage (Last Year)  \\\n",
      "465                                          16.666667   \n",
      "466                                          27.380952   \n",
      "467                                          23.333333   \n",
      "468                                          31.250000   \n",
      "469                                           0.000000   \n",
      "...                                                ...   \n",
      "17755                                         4.545455   \n",
      "17756                                        68.181818   \n",
      "17757                                         0.000000   \n",
      "17758                                        18.181818   \n",
      "17759                                         4.545455   \n",
      "\n",
      "      Driver Top 3 Finish Percentage (This Year till last race)  \\\n",
      "465                                                 <NA>          \n",
      "466                                                 <NA>          \n",
      "467                                                 <NA>          \n",
      "468                                                 <NA>          \n",
      "469                                                 <NA>          \n",
      "...                                                  ...          \n",
      "17755                                                0.0          \n",
      "17756                                          36.363636          \n",
      "17757                                                0.0          \n",
      "17758                                          18.181818          \n",
      "17759                                                0.0          \n",
      "\n",
      "      Constructor Top 3 Finish Percentage (This Year till last race)  \\\n",
      "465                                                  0.0               \n",
      "466                                                  0.0               \n",
      "467                                                  0.0               \n",
      "468                                                  0.0               \n",
      "469                                                  0.0               \n",
      "...                                                  ...               \n",
      "17755                                                0.0               \n",
      "17756                                          54.545455               \n",
      "17757                                                0.0               \n",
      "17758                                          13.636364               \n",
      "17759                                                0.0               \n",
      "\n",
      "       Driver Avg position (Last Year)  \n",
      "465                          14.066667  \n",
      "466                           9.357143  \n",
      "467                          16.466667  \n",
      "468                           9.125000  \n",
      "469                          10.166667  \n",
      "...                                ...  \n",
      "17755                        11.863636  \n",
      "17756                         5.863636  \n",
      "17757                        14.045455  \n",
      "17758                         8.090909  \n",
      "17759                        10.681818  \n",
      "\n",
      "[17295 rows x 14 columns]\n"
     ]
    }
   ],
   "source": [
    "# Calculating the total number of races and top 3 finishing position for each driver in each year\n",
    "driver_yearly_stats = df.groupby(['year', 'driverId']).agg(\n",
    "    Total_Races=('raceId', 'nunique'),\n",
    "    Avg_position=('positionOrder', 'mean')\n",
    ").reset_index()\n",
    "\n",
    "print(\"Driver annual stats\")\n",
    "print(driver_yearly_stats)\n",
    "\n",
    "# Calculating the percentage of top 3 finishes for each driver in each year\n",
    "driver_yearly_stats['Driver Avg position (This Year)'] = driver_yearly_stats['Avg_position']\n",
    "\n",
    "# Shifting the driver percentages to the next year for last year's data\n",
    "driver_last_year_stats = driver_yearly_stats.copy()\n",
    "driver_last_year_stats['year'] += 1\n",
    "driver_last_year_stats = driver_last_year_stats.rename(columns={'Driver Avg position (This Year)': 'Driver Avg position (Last Year)'})\n",
    "\n",
    "df = pd.merge(df, driver_last_year_stats[['year', 'driverId', 'Driver Avg position (Last Year)']], on=['year', 'driverId'], how='left')\n",
    "\n",
    "# Checking the merged data\n",
    "print(\"New dataframe\")\n",
    "print(df[df[\"year\"]>=1983])"
   ]
  },
  {
   "cell_type": "markdown",
   "metadata": {},
   "source": [
    "Constructor(Team): Average finishing position for past year\n",
    "Here by constructor average finishing position we mean the average finishing position of both drivers in the team.\n",
    "\n"
   ]
  },
  {
   "cell_type": "code",
   "execution_count": 90,
   "metadata": {},
   "outputs": [
    {
     "name": "stdout",
     "output_type": "stream",
     "text": [
      "Constructor annual stats\n",
      "      year  constructorId  round  sum_position_last_year\n",
      "0     1982              1      1                0.000000\n",
      "1     1982              1      2                0.000000\n",
      "2     1982              1      3                0.000000\n",
      "3     1982              1      5                0.000000\n",
      "4     1982              1      6                0.000000\n",
      "...    ...            ...    ...                     ...\n",
      "9098  2024            215      8               25.896104\n",
      "9099  2024            215      9               25.896104\n",
      "9100  2024            215     10               25.896104\n",
      "9101  2024            215     11               25.896104\n",
      "9102  2024            215     12               25.896104\n",
      "\n",
      "[9103 rows x 4 columns]\n",
      "New dataframe\n",
      "       raceId  year  round  circuitId  driverId  constructorId  grid  \\\n",
      "465       452  1983      1         36       137             34     4   \n",
      "466       452  1983      1         36       182              1     9   \n",
      "467       452  1983      1         36       172              3    18   \n",
      "468       452  1983      1         36       175              6     3   \n",
      "469       452  1983      1         36       176             21    20   \n",
      "...       ...   ...    ...        ...       ...            ...   ...   \n",
      "17755    1132  2024     12          9       839            214    18   \n",
      "17756    1132  2024     12          9       815              9     0   \n",
      "17757    1132  2024     12          9       855             15    14   \n",
      "17758    1132  2024     12          9       847            131     1   \n",
      "17759    1132  2024     12          9       842            214    19   \n",
      "\n",
      "       positionOrder  Top 3 Finish  \\\n",
      "465                1             1   \n",
      "466                2             1   \n",
      "467                3             1   \n",
      "468                4             0   \n",
      "469                5             0   \n",
      "...              ...           ...   \n",
      "17755             16             0   \n",
      "17756             17             0   \n",
      "17757             18             0   \n",
      "17758             19             0   \n",
      "17759             20             0   \n",
      "\n",
      "       Driver Top 3 Finish Percentage (Last Year)  \\\n",
      "465                                     13.333333   \n",
      "466                                     21.428571   \n",
      "467                                      6.666667   \n",
      "468                                     37.500000   \n",
      "469                                      0.000000   \n",
      "...                                           ...   \n",
      "17755                                    4.545455   \n",
      "17756                                   40.909091   \n",
      "17757                                    0.000000   \n",
      "17758                                    9.090909   \n",
      "17759                                    4.545455   \n",
      "\n",
      "       Constructor Top 3 Finish Percentage (Last Year)  \\\n",
      "465                                          16.666667   \n",
      "466                                          27.380952   \n",
      "467                                          23.333333   \n",
      "468                                          31.250000   \n",
      "469                                           0.000000   \n",
      "...                                                ...   \n",
      "17755                                         4.545455   \n",
      "17756                                        68.181818   \n",
      "17757                                         0.000000   \n",
      "17758                                        18.181818   \n",
      "17759                                         4.545455   \n",
      "\n",
      "      Driver Top 3 Finish Percentage (This Year till last race)  \\\n",
      "465                                                 <NA>          \n",
      "466                                                 <NA>          \n",
      "467                                                 <NA>          \n",
      "468                                                 <NA>          \n",
      "469                                                 <NA>          \n",
      "...                                                  ...          \n",
      "17755                                                0.0          \n",
      "17756                                          36.363636          \n",
      "17757                                                0.0          \n",
      "17758                                          18.181818          \n",
      "17759                                                0.0          \n",
      "\n",
      "      Constructor Top 3 Finish Percentage (This Year till last race)  \\\n",
      "465                                                  0.0               \n",
      "466                                                  0.0               \n",
      "467                                                  0.0               \n",
      "468                                                  0.0               \n",
      "469                                                  0.0               \n",
      "...                                                  ...               \n",
      "17755                                                0.0               \n",
      "17756                                          54.545455               \n",
      "17757                                                0.0               \n",
      "17758                                          13.636364               \n",
      "17759                                                0.0               \n",
      "\n",
      "       Driver Avg position (Last Year)  Constructor Avg position (Last Year)  \n",
      "465                          14.066667                             14.366667  \n",
      "466                           9.357143                              8.845238  \n",
      "467                          16.466667                             11.233333  \n",
      "468                           9.125000                             11.593750  \n",
      "469                          10.166667                             14.654762  \n",
      "...                                ...                                   ...  \n",
      "17755                        11.863636                             11.272727  \n",
      "17756                         5.863636                              3.568182  \n",
      "17757                        14.045455                             14.000000  \n",
      "17758                         8.090909                              7.136364  \n",
      "17759                        10.681818                             11.272727  \n",
      "\n",
      "[17295 rows x 15 columns]\n"
     ]
    }
   ],
   "source": [
    "# Calculating mean of top 3 finishes percentages for the two drivers in each constructor last year\n",
    "constructor_last_year_stats = df.groupby(['year', 'constructorId', 'round']).agg(\n",
    "    sum_position_last_year=('Driver Avg position (Last Year)', 'sum')\n",
    ").reset_index()\n",
    "\n",
    "print(\"Constructor annual stats\")\n",
    "print(constructor_last_year_stats)\n",
    "\n",
    "# Calculating the percentage of top 3 finishes for each constructor last year\n",
    "constructor_last_year_stats['Constructor Avg position (Last Year)'] = constructor_last_year_stats[\"sum_position_last_year\"]/2\n",
    "\n",
    "df = pd.merge(df, constructor_last_year_stats[['year', 'constructorId', 'round', 'Constructor Avg position (Last Year)']], on=['year', 'constructorId', 'round'], how='left')\n",
    "\n",
    "# Checking the merged data\n",
    "print(\"New dataframe\")\n",
    "print(df[df[\"year\"]>=1983])"
   ]
  },
  {
   "cell_type": "markdown",
   "metadata": {},
   "source": [
    "Average finishing position of driver for current year till last race"
   ]
  },
  {
   "cell_type": "code",
   "execution_count": 91,
   "metadata": {},
   "outputs": [],
   "source": [
    "def calculate_driver_avg_position_before_round(row, df):\n",
    "    # Filter for races in the same year, for the same driver, but in earlier rounds\n",
    "    previous_races = df[(df['year'] == row['year']) & (df['driverId'] == row['driverId']) & (df['round'] < row['round'])]\n",
    "    if len(previous_races) == 0:\n",
    "      return pd.NA\n",
    "    # Calculate the total races and sum of positions\n",
    "    total_races = previous_races['raceId'].nunique()\n",
    "    positionSum = previous_races['positionOrder'].sum()\n",
    "\n",
    "    # Calculate average position\n",
    "    return (positionSum / total_races) if total_races > 0 else pd.NA\n",
    "\n",
    "# Apply the function to each row in the DataFrame\n",
    "df['Driver Average Position (This Year till last race)'] = df.apply(lambda row: calculate_driver_avg_position_before_round(row, df), axis=1)"
   ]
  },
  {
   "cell_type": "markdown",
   "metadata": {},
   "source": [
    "Average finishing position of constructor for current year till last race"
   ]
  },
  {
   "cell_type": "code",
   "execution_count": 92,
   "metadata": {},
   "outputs": [
    {
     "name": "stdout",
     "output_type": "stream",
     "text": [
      "Constructor annual stats\n",
      "      year  constructorId  round sum_Position_Constructor\n",
      "0     1982              1      1                        0\n",
      "1     1982              1      2                     10.0\n",
      "2     1982              1      3                     14.5\n",
      "3     1982              1      5                     12.0\n",
      "4     1982              1      6                    11.75\n",
      "...    ...            ...    ...                      ...\n",
      "9098  2024            215      8                26.857143\n",
      "9099  2024            215      9                     26.0\n",
      "9100  2024            215     10                25.555556\n",
      "9101  2024            215     11                     26.4\n",
      "9102  2024            215     12                26.090909\n",
      "\n",
      "[9103 rows x 4 columns]\n",
      "New dataframe\n",
      "       raceId  year  round  circuitId  driverId  constructorId  grid  \\\n",
      "465       452  1983      1         36       137             34     4   \n",
      "466       452  1983      1         36       182              1     9   \n",
      "467       452  1983      1         36       172              3    18   \n",
      "468       452  1983      1         36       175              6     3   \n",
      "469       452  1983      1         36       176             21    20   \n",
      "...       ...   ...    ...        ...       ...            ...   ...   \n",
      "17755    1132  2024     12          9       839            214    18   \n",
      "17756    1132  2024     12          9       815              9     0   \n",
      "17757    1132  2024     12          9       855             15    14   \n",
      "17758    1132  2024     12          9       847            131     1   \n",
      "17759    1132  2024     12          9       842            214    19   \n",
      "\n",
      "       positionOrder  Top 3 Finish  \\\n",
      "465                1             1   \n",
      "466                2             1   \n",
      "467                3             1   \n",
      "468                4             0   \n",
      "469                5             0   \n",
      "...              ...           ...   \n",
      "17755             16             0   \n",
      "17756             17             0   \n",
      "17757             18             0   \n",
      "17758             19             0   \n",
      "17759             20             0   \n",
      "\n",
      "       Driver Top 3 Finish Percentage (Last Year)  \\\n",
      "465                                     13.333333   \n",
      "466                                     21.428571   \n",
      "467                                      6.666667   \n",
      "468                                     37.500000   \n",
      "469                                      0.000000   \n",
      "...                                           ...   \n",
      "17755                                    4.545455   \n",
      "17756                                   40.909091   \n",
      "17757                                    0.000000   \n",
      "17758                                    9.090909   \n",
      "17759                                    4.545455   \n",
      "\n",
      "       Constructor Top 3 Finish Percentage (Last Year)  \\\n",
      "465                                          16.666667   \n",
      "466                                          27.380952   \n",
      "467                                          23.333333   \n",
      "468                                          31.250000   \n",
      "469                                           0.000000   \n",
      "...                                                ...   \n",
      "17755                                         4.545455   \n",
      "17756                                        68.181818   \n",
      "17757                                         0.000000   \n",
      "17758                                        18.181818   \n",
      "17759                                         4.545455   \n",
      "\n",
      "      Driver Top 3 Finish Percentage (This Year till last race)  \\\n",
      "465                                                 <NA>          \n",
      "466                                                 <NA>          \n",
      "467                                                 <NA>          \n",
      "468                                                 <NA>          \n",
      "469                                                 <NA>          \n",
      "...                                                  ...          \n",
      "17755                                                0.0          \n",
      "17756                                          36.363636          \n",
      "17757                                                0.0          \n",
      "17758                                          18.181818          \n",
      "17759                                                0.0          \n",
      "\n",
      "      Constructor Top 3 Finish Percentage (This Year till last race)  \\\n",
      "465                                                  0.0               \n",
      "466                                                  0.0               \n",
      "467                                                  0.0               \n",
      "468                                                  0.0               \n",
      "469                                                  0.0               \n",
      "...                                                  ...               \n",
      "17755                                                0.0               \n",
      "17756                                          54.545455               \n",
      "17757                                                0.0               \n",
      "17758                                          13.636364               \n",
      "17759                                                0.0               \n",
      "\n",
      "       Driver Avg position (Last Year)  Constructor Avg position (Last Year)  \\\n",
      "465                          14.066667                             14.366667   \n",
      "466                           9.357143                              8.845238   \n",
      "467                          16.466667                             11.233333   \n",
      "468                           9.125000                             11.593750   \n",
      "469                          10.166667                             14.654762   \n",
      "...                                ...                                   ...   \n",
      "17755                        11.863636                             11.272727   \n",
      "17756                         5.863636                              3.568182   \n",
      "17757                        14.045455                             14.000000   \n",
      "17758                         8.090909                              7.136364   \n",
      "17759                        10.681818                             11.272727   \n",
      "\n",
      "      Driver Average Position (This Year till last race)  \\\n",
      "465                                                 <NA>   \n",
      "466                                                 <NA>   \n",
      "467                                                 <NA>   \n",
      "468                                                 <NA>   \n",
      "469                                                 <NA>   \n",
      "...                                                  ...   \n",
      "17755                                          13.181818   \n",
      "17756                                                7.0   \n",
      "17757                                          15.090909   \n",
      "17758                                           6.272727   \n",
      "17759                                          13.272727   \n",
      "\n",
      "      Constructor Average Position (This Year till last race)  \n",
      "465                                                  0.0       \n",
      "466                                                  0.0       \n",
      "467                                                  0.0       \n",
      "468                                                  0.0       \n",
      "469                                                  0.0       \n",
      "...                                                  ...       \n",
      "17755                                          13.227273       \n",
      "17756                                           5.272727       \n",
      "17757                                          15.545455       \n",
      "17758                                           6.863636       \n",
      "17759                                          13.227273       \n",
      "\n",
      "[17295 rows x 17 columns]\n"
     ]
    }
   ],
   "source": [
    "# Calculating mean of top 3 finishes percentages for the two drivers in each constructor this year\n",
    "constructor_this_year_stats = df.groupby(['year', 'constructorId', 'round']).agg(\n",
    "    sum_Position_Constructor = ('Driver Average Position (This Year till last race)', 'sum')\n",
    ").reset_index()\n",
    "\n",
    "print(\"Constructor annual stats\")\n",
    "print(constructor_this_year_stats)\n",
    "\n",
    "# Calculating the percentage of top 3 finishes for each constructor this year\n",
    "constructor_this_year_stats['Constructor Average Position (This Year till last race)'] = constructor_this_year_stats[\"sum_Position_Constructor\"]/2\n",
    "\n",
    "df = pd.merge(df, constructor_this_year_stats[['year', 'constructorId', 'round', 'Constructor Average Position (This Year till last race)']], on=['year', 'constructorId', 'round'], how='left')\n",
    "\n",
    "# Checking the merged data\n",
    "print(\"New dataframe\")\n",
    "print(df[df[\"year\"]>=1983])"
   ]
  },
  {
   "cell_type": "code",
   "execution_count": 93,
   "metadata": {},
   "outputs": [
    {
     "name": "stdout",
     "output_type": "stream",
     "text": [
      "       raceId  year  round  circuitId  driverId  constructorId  grid  \\\n",
      "17730    1131  2024     11         70       844              6     6   \n",
      "17731    1131  2024     11         70       839            214    10   \n",
      "17732    1131  2024     11         70       840            117    17   \n",
      "17733    1131  2024     11         70       852            215    14   \n",
      "17734    1131  2024     11         70       848              3    16   \n",
      "17735    1131  2024     11         70       822             15    18   \n",
      "17736    1131  2024     11         70       855             15    20   \n",
      "17737    1131  2024     11         70         4            117    15   \n",
      "17738    1131  2024     11         70       858              3    19   \n",
      "17739    1131  2024     11         70       846              1     2   \n",
      "17740    1132  2024     12          9         1            131     2   \n",
      "17741    1132  2024     12          9       830              9     4   \n",
      "17742    1132  2024     12          9       846              1     3   \n",
      "17743    1132  2024     12          9       857              1     5   \n",
      "17744    1132  2024     12          9       832              6     7   \n",
      "17745    1132  2024     12          9       807            210     6   \n",
      "17746    1132  2024     12          9       840            117     8   \n",
      "17747    1132  2024     12          9         4            117    10   \n",
      "17748    1132  2024     12          9       848              3     9   \n",
      "17749    1132  2024     12          9       852            215    13   \n",
      "17750    1132  2024     12          9       858              3    12   \n",
      "17751    1132  2024     12          9       825            210    17   \n",
      "17752    1132  2024     12          9       817            215    15   \n",
      "17753    1132  2024     12          9       844              6    11   \n",
      "17754    1132  2024     12          9       822             15    16   \n",
      "17755    1132  2024     12          9       839            214    18   \n",
      "17756    1132  2024     12          9       815              9     0   \n",
      "17757    1132  2024     12          9       855             15    14   \n",
      "17758    1132  2024     12          9       847            131     1   \n",
      "17759    1132  2024     12          9       842            214    19   \n",
      "\n",
      "       positionOrder  Top 3 Finish  \\\n",
      "17730             11             0   \n",
      "17731             12             0   \n",
      "17732             13             0   \n",
      "17733             14             0   \n",
      "17734             15             0   \n",
      "17735             16             0   \n",
      "17736             17             0   \n",
      "17737             18             0   \n",
      "17738             19             0   \n",
      "17739             20             0   \n",
      "17740              1             1   \n",
      "17741              2             1   \n",
      "17742              3             1   \n",
      "17743              4             0   \n",
      "17744              5             0   \n",
      "17745              6             0   \n",
      "17746              7             0   \n",
      "17747              8             0   \n",
      "17748              9             0   \n",
      "17749             10             0   \n",
      "17750             11             0   \n",
      "17751             12             0   \n",
      "17752             13             0   \n",
      "17753             14             0   \n",
      "17754             15             0   \n",
      "17755             16             0   \n",
      "17756             17             0   \n",
      "17757             18             0   \n",
      "17758             19             0   \n",
      "17759             20             0   \n",
      "\n",
      "       Driver Top 3 Finish Percentage (Last Year)  \\\n",
      "17730                                   27.272727   \n",
      "17731                                    4.545455   \n",
      "17732                                    0.000000   \n",
      "17733                                    0.000000   \n",
      "17734                                    0.000000   \n",
      "17735                                    0.000000   \n",
      "17736                                    0.000000   \n",
      "17737                                   36.363636   \n",
      "17738                                    0.000000   \n",
      "17739                                   31.818182   \n",
      "17740                                   27.272727   \n",
      "17741                                   95.454545   \n",
      "17742                                   31.818182   \n",
      "17743                                    9.090909   \n",
      "17744                                   13.636364   \n",
      "17745                                    0.000000   \n",
      "17746                                    0.000000   \n",
      "17747                                   36.363636   \n",
      "17748                                    0.000000   \n",
      "17749                                    0.000000   \n",
      "17750                                    0.000000   \n",
      "17751                                    0.000000   \n",
      "17752                                    0.000000   \n",
      "17753                                   27.272727   \n",
      "17754                                    0.000000   \n",
      "17755                                    4.545455   \n",
      "17756                                   40.909091   \n",
      "17757                                    0.000000   \n",
      "17758                                    9.090909   \n",
      "17759                                    4.545455   \n",
      "\n",
      "       Constructor Top 3 Finish Percentage (Last Year)  \\\n",
      "17730                                        20.454545   \n",
      "17731                                         4.545455   \n",
      "17732                                        18.181818   \n",
      "17733                                         0.000000   \n",
      "17734                                         0.000000   \n",
      "17735                                         0.000000   \n",
      "17736                                         0.000000   \n",
      "17737                                        18.181818   \n",
      "17738                                         0.000000   \n",
      "17739                                        20.454545   \n",
      "17740                                        18.181818   \n",
      "17741                                        68.181818   \n",
      "17742                                        20.454545   \n",
      "17743                                        20.454545   \n",
      "17744                                        20.454545   \n",
      "17745                                         0.000000   \n",
      "17746                                        18.181818   \n",
      "17747                                        18.181818   \n",
      "17748                                         0.000000   \n",
      "17749                                         0.000000   \n",
      "17750                                         0.000000   \n",
      "17751                                         0.000000   \n",
      "17752                                         0.000000   \n",
      "17753                                        20.454545   \n",
      "17754                                         0.000000   \n",
      "17755                                         4.545455   \n",
      "17756                                        68.181818   \n",
      "17757                                         0.000000   \n",
      "17758                                        18.181818   \n",
      "17759                                         4.545455   \n",
      "\n",
      "      Driver Top 3 Finish Percentage (This Year till last race)  \\\n",
      "17730                                               50.0          \n",
      "17731                                                0.0          \n",
      "17732                                                0.0          \n",
      "17733                                                0.0          \n",
      "17734                                                0.0          \n",
      "17735                                                0.0          \n",
      "17736                                                0.0          \n",
      "17737                                                0.0          \n",
      "17738                                                0.0          \n",
      "17739                                               60.0          \n",
      "17740                                           9.090909          \n",
      "17741                                          72.727273          \n",
      "17742                                          54.545455          \n",
      "17743                                          18.181818          \n",
      "17744                                               50.0          \n",
      "17745                                                0.0          \n",
      "17746                                                0.0          \n",
      "17747                                                0.0          \n",
      "17748                                                0.0          \n",
      "17749                                                0.0          \n",
      "17750                                                0.0          \n",
      "17751                                                0.0          \n",
      "17752                                                0.0          \n",
      "17753                                          45.454545          \n",
      "17754                                                0.0          \n",
      "17755                                                0.0          \n",
      "17756                                          36.363636          \n",
      "17757                                                0.0          \n",
      "17758                                          18.181818          \n",
      "17759                                                0.0          \n",
      "\n",
      "      Constructor Top 3 Finish Percentage (This Year till last race)  \\\n",
      "17730                                          47.222222               \n",
      "17731                                                0.0               \n",
      "17732                                                0.0               \n",
      "17733                                                0.0               \n",
      "17734                                                0.0               \n",
      "17735                                                0.0               \n",
      "17736                                                0.0               \n",
      "17737                                                0.0               \n",
      "17738                                                0.0               \n",
      "17739                                               35.0               \n",
      "17740                                          13.636364               \n",
      "17741                                          54.545455               \n",
      "17742                                          36.363636               \n",
      "17743                                          36.363636               \n",
      "17744                                          47.727273               \n",
      "17745                                                0.0               \n",
      "17746                                                0.0               \n",
      "17747                                                0.0               \n",
      "17748                                                0.0               \n",
      "17749                                                0.0               \n",
      "17750                                                0.0               \n",
      "17751                                                0.0               \n",
      "17752                                                0.0               \n",
      "17753                                          47.727273               \n",
      "17754                                                0.0               \n",
      "17755                                                0.0               \n",
      "17756                                          54.545455               \n",
      "17757                                                0.0               \n",
      "17758                                          13.636364               \n",
      "17759                                                0.0               \n",
      "\n",
      "       Driver Avg position (Last Year)  Constructor Avg position (Last Year)  \\\n",
      "17730                         8.227273                              7.863636   \n",
      "17731                        11.863636                             11.272727   \n",
      "17732                        11.181818                              8.909091   \n",
      "17733                        13.181818                             12.948052   \n",
      "17734                        12.409091                             14.113636   \n",
      "17735                        13.954545                             14.000000   \n",
      "17736                        14.045455                             14.000000   \n",
      "17737                         6.636364                              8.909091   \n",
      "17738                        15.818182                             14.113636   \n",
      "17739                         8.000000                              9.454545   \n",
      "17740                         6.181818                              7.136364   \n",
      "17741                         1.272727                              3.568182   \n",
      "17742                         8.000000                              9.454545   \n",
      "17743                        10.909091                              9.454545   \n",
      "17744                         7.500000                              7.863636   \n",
      "17745                        14.545455                             15.068182   \n",
      "17746                        11.181818                              8.909091   \n",
      "17747                         6.636364                              8.909091   \n",
      "17748                        12.409091                             14.113636   \n",
      "17749                        13.181818                             12.948052   \n",
      "17750                        15.818182                             14.113636   \n",
      "17751                        15.590909                             15.068182   \n",
      "17752                        12.714286                             12.948052   \n",
      "17753                         8.227273                              7.863636   \n",
      "17754                        13.954545                             14.000000   \n",
      "17755                        11.863636                             11.272727   \n",
      "17756                         5.863636                              3.568182   \n",
      "17757                        14.045455                             14.000000   \n",
      "17758                         8.090909                              7.136364   \n",
      "17759                        10.681818                             11.272727   \n",
      "\n",
      "      Driver Average Position (This Year till last race)  \\\n",
      "17730                                                4.8   \n",
      "17731                                               13.3   \n",
      "17732                                               12.3   \n",
      "17733                                               12.3   \n",
      "17734                                               15.1   \n",
      "17735                                               16.0   \n",
      "17736                                               14.9   \n",
      "17737                                                9.2   \n",
      "17738                                          17.777778   \n",
      "17739                                                3.5   \n",
      "17740                                           7.454545   \n",
      "17741                                           3.545455   \n",
      "17742                                                5.0   \n",
      "17743                                           5.909091   \n",
      "17744                                                5.0   \n",
      "17745                                          11.363636   \n",
      "17746                                          12.363636   \n",
      "17747                                               10.0   \n",
      "17748                                          15.090909   \n",
      "17749                                          12.454545   \n",
      "17750                                               17.9   \n",
      "17751                                          13.727273   \n",
      "17752                                          13.636364   \n",
      "17753                                           5.363636   \n",
      "17754                                               16.0   \n",
      "17755                                          13.181818   \n",
      "17756                                                7.0   \n",
      "17757                                          15.090909   \n",
      "17758                                           6.272727   \n",
      "17759                                          13.272727   \n",
      "\n",
      "      Constructor Average Position (This Year till last race)  \n",
      "17730                                           5.011111       \n",
      "17731                                              13.45       \n",
      "17732                                              10.75       \n",
      "17733                                               13.2       \n",
      "17734                                          16.438889       \n",
      "17735                                              15.45       \n",
      "17736                                              15.45       \n",
      "17737                                              10.75       \n",
      "17738                                          16.438889       \n",
      "17739                                                4.9       \n",
      "17740                                           6.863636       \n",
      "17741                                           5.272727       \n",
      "17742                                           5.454545       \n",
      "17743                                           5.454545       \n",
      "17744                                           5.181818       \n",
      "17745                                          12.545455       \n",
      "17746                                          11.181818       \n",
      "17747                                          11.181818       \n",
      "17748                                          16.495455       \n",
      "17749                                          13.045455       \n",
      "17750                                          16.495455       \n",
      "17751                                          12.545455       \n",
      "17752                                          13.045455       \n",
      "17753                                           5.181818       \n",
      "17754                                          15.545455       \n",
      "17755                                          13.227273       \n",
      "17756                                           5.272727       \n",
      "17757                                          15.545455       \n",
      "17758                                           6.863636       \n",
      "17759                                          13.227273       \n"
     ]
    }
   ],
   "source": [
    "print(df[(df[\"year\"] == 2024)& (df[\"round\"] > 3) ].tail(30))\n"
   ]
  },
  {
   "cell_type": "code",
   "execution_count": 94,
   "metadata": {},
   "outputs": [
    {
     "name": "stdout",
     "output_type": "stream",
     "text": [
      "raceId                                                               0\n",
      "year                                                                 0\n",
      "round                                                                0\n",
      "circuitId                                                            0\n",
      "driverId                                                             0\n",
      "constructorId                                                        0\n",
      "grid                                                                 0\n",
      "positionOrder                                                        0\n",
      "Top 3 Finish                                                         0\n",
      "Driver Top 3 Finish Percentage (Last Year)                        3704\n",
      "Constructor Top 3 Finish Percentage (Last Year)                      0\n",
      "Driver Top 3 Finish Percentage (This Year till last race)         1221\n",
      "Constructor Top 3 Finish Percentage (This Year till last race)       0\n",
      "Driver Avg position (Last Year)                                   3704\n",
      "Constructor Avg position (Last Year)                                 0\n",
      "Driver Average Position (This Year till last race)                1221\n",
      "Constructor Average Position (This Year till last race)              0\n",
      "dtype: int64\n"
     ]
    }
   ],
   "source": [
    "nan_counts = df.isna().sum()\n",
    "print(nan_counts)"
   ]
  },
  {
   "cell_type": "markdown",
   "metadata": {},
   "source": [
    "1.The NA in top 3 Finish Percentage Last Year represents that the driver did not participate in F1 last year. \n",
    "2.The NA in Driver Top 3 Finish Percentage (This Year till last race) represents that it is the first round of the year (so no previous data) or this is the first round that this driver is participating in that year."
   ]
  },
  {
   "cell_type": "code",
   "execution_count": 95,
   "metadata": {},
   "outputs": [
    {
     "name": "stdout",
     "output_type": "stream",
     "text": [
      "       raceId  year  round  circuitId  driverId  constructorId  grid  \\\n",
      "0         467  1982      1         30       117              4     5   \n",
      "1         467  1982      1         30       199              3     8   \n",
      "2         467  1982      1         30       163              4     1   \n",
      "3         467  1982      1         30       182              1    13   \n",
      "4         467  1982      1         30       177              3     7   \n",
      "...       ...   ...    ...        ...       ...            ...   ...   \n",
      "17755    1132  2024     12          9       839            214    18   \n",
      "17756    1132  2024     12          9       815              9     0   \n",
      "17757    1132  2024     12          9       855             15    14   \n",
      "17758    1132  2024     12          9       847            131     1   \n",
      "17759    1132  2024     12          9       842            214    19   \n",
      "\n",
      "       positionOrder  Top 3 Finish  \\\n",
      "0                  1             1   \n",
      "1                  2             1   \n",
      "2                  3             1   \n",
      "3                  4             0   \n",
      "4                  5             0   \n",
      "...              ...           ...   \n",
      "17755             16             0   \n",
      "17756             17             0   \n",
      "17757             18             0   \n",
      "17758             19             0   \n",
      "17759             20             0   \n",
      "\n",
      "       Driver Top 3 Finish Percentage (Last Year)  \\\n",
      "0                                             NaN   \n",
      "1                                             NaN   \n",
      "2                                             NaN   \n",
      "3                                             NaN   \n",
      "4                                             NaN   \n",
      "...                                           ...   \n",
      "17755                                    4.545455   \n",
      "17756                                   40.909091   \n",
      "17757                                    0.000000   \n",
      "17758                                    9.090909   \n",
      "17759                                    4.545455   \n",
      "\n",
      "       Constructor Top 3 Finish Percentage (Last Year)  \\\n",
      "0                                             0.000000   \n",
      "1                                             0.000000   \n",
      "2                                             0.000000   \n",
      "3                                             0.000000   \n",
      "4                                             0.000000   \n",
      "...                                                ...   \n",
      "17755                                         4.545455   \n",
      "17756                                        68.181818   \n",
      "17757                                         0.000000   \n",
      "17758                                        18.181818   \n",
      "17759                                         4.545455   \n",
      "\n",
      "      Driver Top 3 Finish Percentage (This Year till last race)  \\\n",
      "0                                                   <NA>          \n",
      "1                                                   <NA>          \n",
      "2                                                   <NA>          \n",
      "3                                                   <NA>          \n",
      "4                                                   <NA>          \n",
      "...                                                  ...          \n",
      "17755                                                0.0          \n",
      "17756                                          36.363636          \n",
      "17757                                                0.0          \n",
      "17758                                          18.181818          \n",
      "17759                                                0.0          \n",
      "\n",
      "      Constructor Top 3 Finish Percentage (This Year till last race)  \\\n",
      "0                                                    0.0               \n",
      "1                                                    0.0               \n",
      "2                                                    0.0               \n",
      "3                                                    0.0               \n",
      "4                                                    0.0               \n",
      "...                                                  ...               \n",
      "17755                                                0.0               \n",
      "17756                                          54.545455               \n",
      "17757                                                0.0               \n",
      "17758                                          13.636364               \n",
      "17759                                                0.0               \n",
      "\n",
      "       Driver Avg position (Last Year)  Constructor Avg position (Last Year)  \\\n",
      "0                                  NaN                              0.000000   \n",
      "1                                  NaN                              0.000000   \n",
      "2                                  NaN                              0.000000   \n",
      "3                                  NaN                              0.000000   \n",
      "4                                  NaN                              0.000000   \n",
      "...                                ...                                   ...   \n",
      "17755                        11.863636                             11.272727   \n",
      "17756                         5.863636                              3.568182   \n",
      "17757                        14.045455                             14.000000   \n",
      "17758                         8.090909                              7.136364   \n",
      "17759                        10.681818                             11.272727   \n",
      "\n",
      "      Driver Average Position (This Year till last race)  \\\n",
      "0                                                   <NA>   \n",
      "1                                                   <NA>   \n",
      "2                                                   <NA>   \n",
      "3                                                   <NA>   \n",
      "4                                                   <NA>   \n",
      "...                                                  ...   \n",
      "17755                                          13.181818   \n",
      "17756                                                7.0   \n",
      "17757                                          15.090909   \n",
      "17758                                           6.272727   \n",
      "17759                                          13.272727   \n",
      "\n",
      "      Constructor Average Position (This Year till last race)  \n",
      "0                                                    0.0       \n",
      "1                                                    0.0       \n",
      "2                                                    0.0       \n",
      "3                                                    0.0       \n",
      "4                                                    0.0       \n",
      "...                                                  ...       \n",
      "17755                                          13.227273       \n",
      "17756                                           5.272727       \n",
      "17757                                          15.545455       \n",
      "17758                                           6.863636       \n",
      "17759                                          13.227273       \n",
      "\n",
      "[17760 rows x 17 columns]\n",
      "Number of unique drivers: 756\n"
     ]
    }
   ],
   "source": [
    "# # Creating a column called Top 3 Finish, where position order is less than or equal to 3\n",
    "# df['Top 3 Finish'] = df['positionOrder'].le(3).astype(int)\n",
    "# print(df)\n",
    "\n",
    "# Creating a column for Top 3 Finish\n",
    "df['Top 3 Finish'] = df['positionOrder'].le(3).astype(int)\n",
    "\n",
    "# Display the first few rows to confirm the new column\n",
    "print(df)\n",
    "\n",
    "# To confirm we have the correct data\n",
    "numberRace = df[\"raceId\"].nunique()\n",
    "print(f\"Number of unique drivers: {numberRace}\")"
   ]
  },
  {
   "cell_type": "code",
   "execution_count": 96,
   "metadata": {},
   "outputs": [],
   "source": [
    "#drop raceId to prevent data leakage\n",
    "df_final = df.drop(labels=[\"raceId\"], axis=1)\n"
   ]
  },
  {
   "cell_type": "code",
   "execution_count": 97,
   "metadata": {},
   "outputs": [
    {
     "name": "stdout",
     "output_type": "stream",
     "text": [
      "Number of rows in total: 17760\n"
     ]
    }
   ],
   "source": [
    "#final shape\n",
    "print(\"Number of rows in total:\", df_final.shape[0])\n"
   ]
  },
  {
   "cell_type": "code",
   "execution_count": 98,
   "metadata": {},
   "outputs": [
    {
     "name": "stdout",
     "output_type": "stream",
     "text": [
      "17295\n"
     ]
    }
   ],
   "source": [
    "# Total rows where 'year' is not 1982 before dropping NaN values\n",
    "initial_count = len(df_final[df_final['year'] != 1982])\n",
    "print(initial_count)\n"
   ]
  },
  {
   "cell_type": "code",
   "execution_count": 99,
   "metadata": {},
   "outputs": [
    {
     "name": "stdout",
     "output_type": "stream",
     "text": [
      "13171\n"
     ]
    }
   ],
   "source": [
    "# Drop rows with NaN values\n",
    "df_final = df_final.dropna()\n",
    "# Total rows where 'year' is not 1982 after dropping NaN values\n",
    "final_count = len(df_final[df_final['year'] != 1982])\n",
    "print(final_count)"
   ]
  },
  {
   "cell_type": "code",
   "execution_count": 100,
   "metadata": {},
   "outputs": [
    {
     "name": "stdout",
     "output_type": "stream",
     "text": [
      "4124\n"
     ]
    }
   ],
   "source": [
    "#total number of rows dropped\n",
    "rows_dropped = initial_count - final_count\n",
    "print(rows_dropped)"
   ]
  },
  {
   "cell_type": "code",
   "execution_count": 101,
   "metadata": {},
   "outputs": [
    {
     "name": "stdout",
     "output_type": "stream",
     "text": [
      "       year  round  circuitId  driverId  constructorId  grid  Top 3 Finish  \\\n",
      "493    1983      2         43       187              1    22             1   \n",
      "494    1983      2         43       182              1    23             1   \n",
      "495    1983      2         43       163              6     2             1   \n",
      "496    1983      2         43       172              3     4             0   \n",
      "497    1983      2         43       176             21    16             0   \n",
      "...     ...    ...        ...       ...            ...   ...           ...   \n",
      "17755  2024     12          9       839            214    18             0   \n",
      "17756  2024     12          9       815              9     0             0   \n",
      "17757  2024     12          9       855             15    14             0   \n",
      "17758  2024     12          9       847            131     1             0   \n",
      "17759  2024     12          9       842            214    19             0   \n",
      "\n",
      "       Driver Top 3 Finish Percentage (Last Year)  \\\n",
      "493                                     33.333333   \n",
      "494                                     21.428571   \n",
      "495                                     25.000000   \n",
      "496                                      6.666667   \n",
      "497                                      0.000000   \n",
      "...                                           ...   \n",
      "17755                                    4.545455   \n",
      "17756                                   40.909091   \n",
      "17757                                    0.000000   \n",
      "17758                                    9.090909   \n",
      "17759                                    4.545455   \n",
      "\n",
      "       Constructor Top 3 Finish Percentage (Last Year)  \\\n",
      "493                                          27.380952   \n",
      "494                                          27.380952   \n",
      "495                                          31.250000   \n",
      "496                                          23.333333   \n",
      "497                                           0.000000   \n",
      "...                                                ...   \n",
      "17755                                         4.545455   \n",
      "17756                                        68.181818   \n",
      "17757                                         0.000000   \n",
      "17758                                        18.181818   \n",
      "17759                                         4.545455   \n",
      "\n",
      "      Driver Top 3 Finish Percentage (This Year till last race)  \\\n",
      "493                                                  0.0          \n",
      "494                                                100.0          \n",
      "495                                                  0.0          \n",
      "496                                                100.0          \n",
      "497                                                  0.0          \n",
      "...                                                  ...          \n",
      "17755                                                0.0          \n",
      "17756                                          36.363636          \n",
      "17757                                                0.0          \n",
      "17758                                          18.181818          \n",
      "17759                                                0.0          \n",
      "\n",
      "      Constructor Top 3 Finish Percentage (This Year till last race)  \\\n",
      "493                                                 50.0               \n",
      "494                                                 50.0               \n",
      "495                                                  0.0               \n",
      "496                                                 50.0               \n",
      "497                                                  0.0               \n",
      "...                                                  ...               \n",
      "17755                                                0.0               \n",
      "17756                                          54.545455               \n",
      "17757                                                0.0               \n",
      "17758                                          13.636364               \n",
      "17759                                                0.0               \n",
      "\n",
      "       Driver Avg position (Last Year)  Constructor Avg position (Last Year)  \\\n",
      "493                           8.333333                              8.845238   \n",
      "494                           9.357143                              8.845238   \n",
      "495                          14.062500                             11.593750   \n",
      "496                          16.466667                             11.233333   \n",
      "497                          10.166667                              5.083333   \n",
      "...                                ...                                   ...   \n",
      "17755                        11.863636                             11.272727   \n",
      "17756                         5.863636                              3.568182   \n",
      "17757                        14.045455                             14.000000   \n",
      "17758                         8.090909                              7.136364   \n",
      "17759                        10.681818                             11.272727   \n",
      "\n",
      "      Driver Average Position (This Year till last race)  \\\n",
      "493                                                 19.0   \n",
      "494                                                  2.0   \n",
      "495                                                  9.0   \n",
      "496                                                  3.0   \n",
      "497                                                  5.0   \n",
      "...                                                  ...   \n",
      "17755                                          13.181818   \n",
      "17756                                                7.0   \n",
      "17757                                          15.090909   \n",
      "17758                                           6.272727   \n",
      "17759                                          13.272727   \n",
      "\n",
      "      Constructor Average Position (This Year till last race)  \n",
      "493                                                 10.5       \n",
      "494                                                 10.5       \n",
      "495                                                  6.5       \n",
      "496                                                  9.0       \n",
      "497                                                  2.5       \n",
      "...                                                  ...       \n",
      "17755                                          13.227273       \n",
      "17756                                           5.272727       \n",
      "17757                                          15.545455       \n",
      "17758                                           6.863636       \n",
      "17759                                          13.227273       \n",
      "\n",
      "[13171 rows x 15 columns]\n"
     ]
    }
   ],
   "source": [
    "#storing data frame with positionOrder feature as a back up before dropping it\n",
    "df_final_keepPositionOrder = df_final.copy()\n",
    "#drop Position Order from data frame\n",
    "df_final = df_final.drop([\"positionOrder\"], axis = 1)\n",
    "print(df_final)"
   ]
  },
  {
   "cell_type": "markdown",
   "metadata": {},
   "source": [
    "Heatmap "
   ]
  },
  {
   "cell_type": "code",
   "execution_count": 102,
   "metadata": {},
   "outputs": [
    {
     "data": {
      "image/png": "[encoded data removed]",
      "text/plain": [
       "<Figure size 1000x700 with 2 Axes>"
      ]
     },
     "metadata": {},
     "output_type": "display_data"
    }
   ],
   "source": [
    "# heatmap\n",
    "plt.figure(figsize=(10,7))\n",
    "sns.heatmap(df_final.corr(), annot=True, mask = False, annot_kws={\"size\": 7})\n",
    "plt.show()"
   ]
  },
  {
   "cell_type": "markdown",
   "metadata": {},
   "source": [
    "in the above heatmap, we have strong correlation between 'Driver Top 3 finish percentages' of drivers and 'Constructor Top 3 finish percentages' of constructors with our target variable: 'Top 3 finish', whereas 'grid', 'Driver Average Position', 'Constructor Average Position' have negative correlations with our target variable."
   ]
  },
  {
   "cell_type": "markdown",
   "metadata": {},
   "source": [
    "Analyzing the heatmap to identify which features contribute the most to the \"Top 3 Finish\" target variable\n",
    "\n",
    "Observations from the Heatmap:\n",
    "\"Top 3 Finish\" (target variable) :\n",
    "Positive values (closer to 1) indicate a strong positive correlation.\n",
    "Negative values (closer to -1) indicate a strong negative correlation.\n",
    "Values near 0 indicate little to no correlation.\n",
    "\n",
    "*positive correlations*\n",
    "1.Driver Top 3 Finish Percentage (Last Year):\n",
    "Correlation ~ 0.46 (moderately strong positive).\n",
    "This suggests that past top 3 finishes by the driver have a significant impact on predicting future top 3 finishes.\n",
    "\n",
    "2.Constructor Top 3 Finish Percentage (Last Year):\n",
    "Correlation ~ 0.47 (moderately strong positive).\n",
    "Performance of the constructor last year is also an important predictor.\n",
    "\n",
    "3.Driver Top 3 Finish Percentage (This Year till last race):\n",
    "Correlation ~ 0.53 (strong positive).\n",
    "Recent driver performance this year is even more influential.\n",
    "\n",
    "4.Constructor Top 3 Finish Percentage (This Year till last race):\n",
    "Correlation ~ 0.53 (strong positive).\n",
    "Similar to driver performance, recent constructor success this year is important.\n",
    "\n",
    "*Negative correlations*\n",
    "1.Driver Average Position (Last Year):\n",
    "Correlation ~ -0.36.\n",
    "\n",
    "2.Constructor Average Position (Last Year):\n",
    "Correlation ~ -0.32 (negative correlation).\n",
    "\n",
    "3.Grid\n",
    "Correlation ~ -0.42"
   ]
  },
  {
   "cell_type": "code",
   "execution_count": 103,
   "metadata": {},
   "outputs": [
    {
     "name": "stdout",
     "output_type": "stream",
     "text": [
      "Top 3 Finish                                                      1.000000\n",
      "Constructor Top 3 Finish Percentage (This Year till last race)    0.531223\n",
      "Driver Top 3 Finish Percentage (This Year till last race)         0.523979\n",
      "Constructor Top 3 Finish Percentage (Last Year)                   0.465248\n",
      "Driver Top 3 Finish Percentage (Last Year)                        0.457875\n",
      "year                                                              0.053939\n",
      "round                                                             0.014848\n",
      "circuitId                                                         0.003733\n",
      "driverId                                                         -0.068275\n",
      "constructorId                                                    -0.070372\n",
      "Constructor Avg position (Last Year)                             -0.276158\n",
      "Driver Avg position (Last Year)                                  -0.340637\n",
      "Driver Average Position (This Year till last race)               -0.387256\n",
      "Constructor Average Position (This Year till last race)          -0.391792\n",
      "grid                                                             -0.423067\n",
      "Name: Top 3 Finish, dtype: float64\n"
     ]
    }
   ],
   "source": [
    "#tabular format\n",
    "correlations = df_final.corr()['Top 3 Finish'].sort_values(ascending=False)\n",
    "print(correlations)"
   ]
  },
  {
   "cell_type": "markdown",
   "metadata": {},
   "source": [
    "One Hot Encoding:for columns: circuitId, driverId, constructorId using pandas get_dummies method"
   ]
  },
  {
   "cell_type": "code",
   "execution_count": 104,
   "metadata": {},
   "outputs": [],
   "source": [
    "df_final_encoded = pd.get_dummies(df_final, columns=['circuitId', 'driverId', 'constructorId'])\n"
   ]
  },
  {
   "cell_type": "code",
   "execution_count": 105,
   "metadata": {},
   "outputs": [
    {
     "name": "stdout",
     "output_type": "stream",
     "text": [
      "['year', 'round', 'grid', 'Driver Top 3 Finish Percentage (Last Year)', 'Constructor Top 3 Finish Percentage (Last Year)', 'Driver Top 3 Finish Percentage (This Year till last race)', 'Constructor Top 3 Finish Percentage (This Year till last race)', 'Driver Avg position (Last Year)', 'Constructor Avg position (Last Year)', 'Driver Average Position (This Year till last race)', 'Constructor Average Position (This Year till last race)', 'circuitId_1', 'circuitId_2', 'circuitId_3', 'circuitId_4', 'circuitId_5', 'circuitId_6', 'circuitId_7', 'circuitId_8', 'circuitId_9', 'circuitId_10', 'circuitId_11', 'circuitId_12', 'circuitId_13', 'circuitId_14', 'circuitId_15', 'circuitId_16', 'circuitId_17', 'circuitId_18', 'circuitId_19', 'circuitId_20', 'circuitId_21', 'circuitId_22', 'circuitId_24', 'circuitId_25', 'circuitId_26', 'circuitId_27', 'circuitId_28', 'circuitId_29', 'circuitId_30', 'circuitId_31', 'circuitId_32', 'circuitId_33', 'circuitId_34', 'circuitId_35', 'circuitId_37', 'circuitId_38', 'circuitId_39', 'circuitId_40', 'circuitId_41', 'circuitId_42', 'circuitId_43', 'circuitId_68', 'circuitId_69', 'circuitId_70', 'circuitId_71', 'circuitId_73', 'circuitId_75', 'circuitId_76', 'circuitId_77', 'circuitId_78', 'circuitId_79', 'circuitId_80', 'driverId_1', 'driverId_2', 'driverId_3', 'driverId_4', 'driverId_5', 'driverId_6', 'driverId_7', 'driverId_8', 'driverId_9', 'driverId_10', 'driverId_11', 'driverId_12', 'driverId_13', 'driverId_14', 'driverId_15', 'driverId_16', 'driverId_17', 'driverId_18', 'driverId_19', 'driverId_20', 'driverId_21', 'driverId_22', 'driverId_23', 'driverId_24', 'driverId_25', 'driverId_26', 'driverId_27', 'driverId_29', 'driverId_30', 'driverId_31', 'driverId_32', 'driverId_33', 'driverId_35', 'driverId_37', 'driverId_38', 'driverId_39', 'driverId_41', 'driverId_42', 'driverId_43', 'driverId_44', 'driverId_47', 'driverId_48', 'driverId_49', 'driverId_50', 'driverId_54', 'driverId_55', 'driverId_56', 'driverId_57', 'driverId_58', 'driverId_59', 'driverId_60', 'driverId_62', 'driverId_63', 'driverId_64', 'driverId_65', 'driverId_67', 'driverId_68', 'driverId_69', 'driverId_70', 'driverId_71', 'driverId_73', 'driverId_75', 'driverId_76', 'driverId_77', 'driverId_78', 'driverId_79', 'driverId_81', 'driverId_83', 'driverId_84', 'driverId_85', 'driverId_86', 'driverId_87', 'driverId_88', 'driverId_89', 'driverId_90', 'driverId_91', 'driverId_92', 'driverId_93', 'driverId_94', 'driverId_95', 'driverId_98', 'driverId_99', 'driverId_100', 'driverId_102', 'driverId_103', 'driverId_104', 'driverId_105', 'driverId_109', 'driverId_110', 'driverId_111', 'driverId_112', 'driverId_114', 'driverId_117', 'driverId_118', 'driverId_119', 'driverId_122', 'driverId_123', 'driverId_127', 'driverId_128', 'driverId_129', 'driverId_131', 'driverId_133', 'driverId_137', 'driverId_138', 'driverId_139', 'driverId_140', 'driverId_145', 'driverId_146', 'driverId_147', 'driverId_148', 'driverId_151', 'driverId_152', 'driverId_153', 'driverId_154', 'driverId_155', 'driverId_156', 'driverId_157', 'driverId_158', 'driverId_159', 'driverId_160', 'driverId_162', 'driverId_163', 'driverId_165', 'driverId_166', 'driverId_167', 'driverId_170', 'driverId_172', 'driverId_173', 'driverId_175', 'driverId_176', 'driverId_177', 'driverId_178', 'driverId_179', 'driverId_181', 'driverId_182', 'driverId_183', 'driverId_184', 'driverId_185', 'driverId_187', 'driverId_188', 'driverId_190', 'driverId_192', 'driverId_194', 'driverId_195', 'driverId_196', 'driverId_197', 'driverId_807', 'driverId_808', 'driverId_811', 'driverId_813', 'driverId_814', 'driverId_815', 'driverId_817', 'driverId_818', 'driverId_819', 'driverId_820', 'driverId_821', 'driverId_822', 'driverId_824', 'driverId_825', 'driverId_826', 'driverId_828', 'driverId_829', 'driverId_830', 'driverId_831', 'driverId_832', 'driverId_835', 'driverId_836', 'driverId_838', 'driverId_839', 'driverId_840', 'driverId_841', 'driverId_842', 'driverId_843', 'driverId_844', 'driverId_846', 'driverId_847', 'driverId_848', 'driverId_849', 'driverId_852', 'driverId_854', 'driverId_855', 'driverId_856', 'driverId_857', 'driverId_858', 'constructorId_1', 'constructorId_2', 'constructorId_3', 'constructorId_4', 'constructorId_5', 'constructorId_6', 'constructorId_7', 'constructorId_8', 'constructorId_9', 'constructorId_10', 'constructorId_11', 'constructorId_12', 'constructorId_13', 'constructorId_14', 'constructorId_15', 'constructorId_16', 'constructorId_17', 'constructorId_18', 'constructorId_19', 'constructorId_20', 'constructorId_21', 'constructorId_22', 'constructorId_23', 'constructorId_24', 'constructorId_25', 'constructorId_26', 'constructorId_27', 'constructorId_28', 'constructorId_29', 'constructorId_30', 'constructorId_31', 'constructorId_32', 'constructorId_33', 'constructorId_34', 'constructorId_35', 'constructorId_36', 'constructorId_37', 'constructorId_38', 'constructorId_39', 'constructorId_40', 'constructorId_41', 'constructorId_42', 'constructorId_44', 'constructorId_45', 'constructorId_46', 'constructorId_48', 'constructorId_49', 'constructorId_50', 'constructorId_51', 'constructorId_52', 'constructorId_53', 'constructorId_54', 'constructorId_55', 'constructorId_117', 'constructorId_131', 'constructorId_164', 'constructorId_166', 'constructorId_205', 'constructorId_206', 'constructorId_207', 'constructorId_208', 'constructorId_209', 'constructorId_210', 'constructorId_211', 'constructorId_213', 'constructorId_214', 'constructorId_215']\n"
     ]
    }
   ],
   "source": [
    "# Create a list of columns excluding the one to append it at end as it is our target variable\n",
    "cols = [col for col in df_final_encoded.columns if col != 'Top 3 Finish']\n",
    "print(cols)"
   ]
  },
  {
   "cell_type": "code",
   "execution_count": 106,
   "metadata": {},
   "outputs": [],
   "source": [
    "# Append here to the end of the DataFrame\n",
    "df_final_encoded = df_final_encoded[cols + ['Top 3 Finish']]"
   ]
  },
  {
   "cell_type": "code",
   "execution_count": 107,
   "metadata": {},
   "outputs": [
    {
     "name": "stdout",
     "output_type": "stream",
     "text": [
      "['year', 'round', 'grid', 'Driver Top 3 Finish Percentage (Last Year)', 'Constructor Top 3 Finish Percentage (Last Year)', 'Driver Top 3 Finish Percentage (This Year till last race)', 'Constructor Top 3 Finish Percentage (This Year till last race)', 'Driver Avg position (Last Year)', 'Constructor Avg position (Last Year)', 'Driver Average Position (This Year till last race)', 'Constructor Average Position (This Year till last race)', 'circuitId_1', 'circuitId_2', 'circuitId_3', 'circuitId_4', 'circuitId_5', 'circuitId_6', 'circuitId_7', 'circuitId_8', 'circuitId_9', 'circuitId_10', 'circuitId_11', 'circuitId_12', 'circuitId_13', 'circuitId_14', 'circuitId_15', 'circuitId_16', 'circuitId_17', 'circuitId_18', 'circuitId_19', 'circuitId_20', 'circuitId_21', 'circuitId_22', 'circuitId_24', 'circuitId_25', 'circuitId_26', 'circuitId_27', 'circuitId_28', 'circuitId_29', 'circuitId_30', 'circuitId_31', 'circuitId_32', 'circuitId_33', 'circuitId_34', 'circuitId_35', 'circuitId_37', 'circuitId_38', 'circuitId_39', 'circuitId_40', 'circuitId_41', 'circuitId_42', 'circuitId_43', 'circuitId_68', 'circuitId_69', 'circuitId_70', 'circuitId_71', 'circuitId_73', 'circuitId_75', 'circuitId_76', 'circuitId_77', 'circuitId_78', 'circuitId_79', 'circuitId_80', 'driverId_1', 'driverId_2', 'driverId_3', 'driverId_4', 'driverId_5', 'driverId_6', 'driverId_7', 'driverId_8', 'driverId_9', 'driverId_10', 'driverId_11', 'driverId_12', 'driverId_13', 'driverId_14', 'driverId_15', 'driverId_16', 'driverId_17', 'driverId_18', 'driverId_19', 'driverId_20', 'driverId_21', 'driverId_22', 'driverId_23', 'driverId_24', 'driverId_25', 'driverId_26', 'driverId_27', 'driverId_29', 'driverId_30', 'driverId_31', 'driverId_32', 'driverId_33', 'driverId_35', 'driverId_37', 'driverId_38', 'driverId_39', 'driverId_41', 'driverId_42', 'driverId_43', 'driverId_44', 'driverId_47', 'driverId_48', 'driverId_49', 'driverId_50', 'driverId_54', 'driverId_55', 'driverId_56', 'driverId_57', 'driverId_58', 'driverId_59', 'driverId_60', 'driverId_62', 'driverId_63', 'driverId_64', 'driverId_65', 'driverId_67', 'driverId_68', 'driverId_69', 'driverId_70', 'driverId_71', 'driverId_73', 'driverId_75', 'driverId_76', 'driverId_77', 'driverId_78', 'driverId_79', 'driverId_81', 'driverId_83', 'driverId_84', 'driverId_85', 'driverId_86', 'driverId_87', 'driverId_88', 'driverId_89', 'driverId_90', 'driverId_91', 'driverId_92', 'driverId_93', 'driverId_94', 'driverId_95', 'driverId_98', 'driverId_99', 'driverId_100', 'driverId_102', 'driverId_103', 'driverId_104', 'driverId_105', 'driverId_109', 'driverId_110', 'driverId_111', 'driverId_112', 'driverId_114', 'driverId_117', 'driverId_118', 'driverId_119', 'driverId_122', 'driverId_123', 'driverId_127', 'driverId_128', 'driverId_129', 'driverId_131', 'driverId_133', 'driverId_137', 'driverId_138', 'driverId_139', 'driverId_140', 'driverId_145', 'driverId_146', 'driverId_147', 'driverId_148', 'driverId_151', 'driverId_152', 'driverId_153', 'driverId_154', 'driverId_155', 'driverId_156', 'driverId_157', 'driverId_158', 'driverId_159', 'driverId_160', 'driverId_162', 'driverId_163', 'driverId_165', 'driverId_166', 'driverId_167', 'driverId_170', 'driverId_172', 'driverId_173', 'driverId_175', 'driverId_176', 'driverId_177', 'driverId_178', 'driverId_179', 'driverId_181', 'driverId_182', 'driverId_183', 'driverId_184', 'driverId_185', 'driverId_187', 'driverId_188', 'driverId_190', 'driverId_192', 'driverId_194', 'driverId_195', 'driverId_196', 'driverId_197', 'driverId_807', 'driverId_808', 'driverId_811', 'driverId_813', 'driverId_814', 'driverId_815', 'driverId_817', 'driverId_818', 'driverId_819', 'driverId_820', 'driverId_821', 'driverId_822', 'driverId_824', 'driverId_825', 'driverId_826', 'driverId_828', 'driverId_829', 'driverId_830', 'driverId_831', 'driverId_832', 'driverId_835', 'driverId_836', 'driverId_838', 'driverId_839', 'driverId_840', 'driverId_841', 'driverId_842', 'driverId_843', 'driverId_844', 'driverId_846', 'driverId_847', 'driverId_848', 'driverId_849', 'driverId_852', 'driverId_854', 'driverId_855', 'driverId_856', 'driverId_857', 'driverId_858', 'constructorId_1', 'constructorId_2', 'constructorId_3', 'constructorId_4', 'constructorId_5', 'constructorId_6', 'constructorId_7', 'constructorId_8', 'constructorId_9', 'constructorId_10', 'constructorId_11', 'constructorId_12', 'constructorId_13', 'constructorId_14', 'constructorId_15', 'constructorId_16', 'constructorId_17', 'constructorId_18', 'constructorId_19', 'constructorId_20', 'constructorId_21', 'constructorId_22', 'constructorId_23', 'constructorId_24', 'constructorId_25', 'constructorId_26', 'constructorId_27', 'constructorId_28', 'constructorId_29', 'constructorId_30', 'constructorId_31', 'constructorId_32', 'constructorId_33', 'constructorId_34', 'constructorId_35', 'constructorId_36', 'constructorId_37', 'constructorId_38', 'constructorId_39', 'constructorId_40', 'constructorId_41', 'constructorId_42', 'constructorId_44', 'constructorId_45', 'constructorId_46', 'constructorId_48', 'constructorId_49', 'constructorId_50', 'constructorId_51', 'constructorId_52', 'constructorId_53', 'constructorId_54', 'constructorId_55', 'constructorId_117', 'constructorId_131', 'constructorId_164', 'constructorId_166', 'constructorId_205', 'constructorId_206', 'constructorId_207', 'constructorId_208', 'constructorId_209', 'constructorId_210', 'constructorId_211', 'constructorId_213', 'constructorId_214', 'constructorId_215', 'Top 3 Finish']\n"
     ]
    }
   ],
   "source": [
    "cols = [col for col in df_final_encoded.columns]\n",
    "print(cols)"
   ]
  },
  {
   "cell_type": "code",
   "execution_count": 108,
   "metadata": {},
   "outputs": [
    {
     "name": "stdout",
     "output_type": "stream",
     "text": [
      "       year  round  grid  Driver Top 3 Finish Percentage (Last Year)  \\\n",
      "493    1983      2    22                                   33.333333   \n",
      "494    1983      2    23                                   21.428571   \n",
      "495    1983      2     2                                   25.000000   \n",
      "496    1983      2     4                                    6.666667   \n",
      "497    1983      2    16                                    0.000000   \n",
      "...     ...    ...   ...                                         ...   \n",
      "17755  2024     12    18                                    4.545455   \n",
      "17756  2024     12     0                                   40.909091   \n",
      "17757  2024     12    14                                    0.000000   \n",
      "17758  2024     12     1                                    9.090909   \n",
      "17759  2024     12    19                                    4.545455   \n",
      "\n",
      "       Constructor Top 3 Finish Percentage (Last Year)  \\\n",
      "493                                          27.380952   \n",
      "494                                          27.380952   \n",
      "495                                          31.250000   \n",
      "496                                          23.333333   \n",
      "497                                           0.000000   \n",
      "...                                                ...   \n",
      "17755                                         4.545455   \n",
      "17756                                        68.181818   \n",
      "17757                                         0.000000   \n",
      "17758                                        18.181818   \n",
      "17759                                         4.545455   \n",
      "\n",
      "      Driver Top 3 Finish Percentage (This Year till last race)  \\\n",
      "493                                                  0.0          \n",
      "494                                                100.0          \n",
      "495                                                  0.0          \n",
      "496                                                100.0          \n",
      "497                                                  0.0          \n",
      "...                                                  ...          \n",
      "17755                                                0.0          \n",
      "17756                                          36.363636          \n",
      "17757                                                0.0          \n",
      "17758                                          18.181818          \n",
      "17759                                                0.0          \n",
      "\n",
      "      Constructor Top 3 Finish Percentage (This Year till last race)  \\\n",
      "493                                                 50.0               \n",
      "494                                                 50.0               \n",
      "495                                                  0.0               \n",
      "496                                                 50.0               \n",
      "497                                                  0.0               \n",
      "...                                                  ...               \n",
      "17755                                                0.0               \n",
      "17756                                          54.545455               \n",
      "17757                                                0.0               \n",
      "17758                                          13.636364               \n",
      "17759                                                0.0               \n",
      "\n",
      "       Driver Avg position (Last Year)  Constructor Avg position (Last Year)  \\\n",
      "493                           8.333333                              8.845238   \n",
      "494                           9.357143                              8.845238   \n",
      "495                          14.062500                             11.593750   \n",
      "496                          16.466667                             11.233333   \n",
      "497                          10.166667                              5.083333   \n",
      "...                                ...                                   ...   \n",
      "17755                        11.863636                             11.272727   \n",
      "17756                         5.863636                              3.568182   \n",
      "17757                        14.045455                             14.000000   \n",
      "17758                         8.090909                              7.136364   \n",
      "17759                        10.681818                             11.272727   \n",
      "\n",
      "      Driver Average Position (This Year till last race)  ...  \\\n",
      "493                                                 19.0  ...   \n",
      "494                                                  2.0  ...   \n",
      "495                                                  9.0  ...   \n",
      "496                                                  3.0  ...   \n",
      "497                                                  5.0  ...   \n",
      "...                                                  ...  ...   \n",
      "17755                                          13.181818  ...   \n",
      "17756                                                7.0  ...   \n",
      "17757                                          15.090909  ...   \n",
      "17758                                           6.272727  ...   \n",
      "17759                                          13.272727  ...   \n",
      "\n",
      "      constructorId_206  constructorId_207  constructorId_208  \\\n",
      "493               False              False              False   \n",
      "494               False              False              False   \n",
      "495               False              False              False   \n",
      "496               False              False              False   \n",
      "497               False              False              False   \n",
      "...                 ...                ...                ...   \n",
      "17755             False              False              False   \n",
      "17756             False              False              False   \n",
      "17757             False              False              False   \n",
      "17758             False              False              False   \n",
      "17759             False              False              False   \n",
      "\n",
      "       constructorId_209  constructorId_210  constructorId_211  \\\n",
      "493                False              False              False   \n",
      "494                False              False              False   \n",
      "495                False              False              False   \n",
      "496                False              False              False   \n",
      "497                False              False              False   \n",
      "...                  ...                ...                ...   \n",
      "17755              False              False              False   \n",
      "17756              False              False              False   \n",
      "17757              False              False              False   \n",
      "17758              False              False              False   \n",
      "17759              False              False              False   \n",
      "\n",
      "       constructorId_213  constructorId_214  constructorId_215  Top 3 Finish  \n",
      "493                False              False              False             1  \n",
      "494                False              False              False             1  \n",
      "495                False              False              False             1  \n",
      "496                False              False              False             0  \n",
      "497                False              False              False             0  \n",
      "...                  ...                ...                ...           ...  \n",
      "17755              False               True              False             0  \n",
      "17756              False              False              False             0  \n",
      "17757              False              False              False             0  \n",
      "17758              False              False              False             0  \n",
      "17759              False               True              False             0  \n",
      "\n",
      "[13171 rows x 316 columns]\n",
      "(13171, 316)\n"
     ]
    }
   ],
   "source": [
    "print(df_final_encoded)\n",
    "print(df_final_encoded.shape)\n"
   ]
  },
  {
   "cell_type": "code",
   "execution_count": 109,
   "metadata": {},
   "outputs": [
    {
     "name": "stdout",
     "output_type": "stream",
     "text": [
      "year                                                   1983\n",
      "round                                                     4\n",
      "grid                                                     15\n",
      "Driver Top 3 Finish Percentage (Last Year)         7.692308\n",
      "Constructor Top 3 Finish Percentage (Last Year)    7.179487\n",
      "                                                     ...   \n",
      "constructorId_211                                     False\n",
      "constructorId_213                                     False\n",
      "constructorId_214                                     False\n",
      "constructorId_215                                     False\n",
      "Top 3 Finish                                              0\n",
      "Name: 561, Length: 316, dtype: object\n"
     ]
    }
   ],
   "source": [
    "#display any row to see structure of data frame\n",
    "print(df_final_encoded.iloc[58])\n"
   ]
  },
  {
   "cell_type": "code",
   "execution_count": 110,
   "metadata": {},
   "outputs": [
    {
     "data": {
      "text/html": [
       "<div>\n",
       "<style scoped>\n",
       "    .dataframe tbody tr th:only-of-type {\n",
       "        vertical-align: middle;\n",
       "    }\n",
       "\n",
       "    .dataframe tbody tr th {\n",
       "        vertical-align: top;\n",
       "    }\n",
       "\n",
       "    .dataframe thead th {\n",
       "        text-align: right;\n",
       "    }\n",
       "</style>\n",
       "<table border=\"1\" class=\"dataframe\">\n",
       "  <thead>\n",
       "    <tr style=\"text-align: right;\">\n",
       "      <th></th>\n",
       "      <th>year</th>\n",
       "      <th>round</th>\n",
       "      <th>grid</th>\n",
       "      <th>Driver Top 3 Finish Percentage (Last Year)</th>\n",
       "      <th>Constructor Top 3 Finish Percentage (Last Year)</th>\n",
       "      <th>Driver Top 3 Finish Percentage (This Year till last race)</th>\n",
       "      <th>Constructor Top 3 Finish Percentage (This Year till last race)</th>\n",
       "      <th>Driver Avg position (Last Year)</th>\n",
       "      <th>Constructor Avg position (Last Year)</th>\n",
       "      <th>Driver Average Position (This Year till last race)</th>\n",
       "      <th>...</th>\n",
       "      <th>constructorId_206</th>\n",
       "      <th>constructorId_207</th>\n",
       "      <th>constructorId_208</th>\n",
       "      <th>constructorId_209</th>\n",
       "      <th>constructorId_210</th>\n",
       "      <th>constructorId_211</th>\n",
       "      <th>constructorId_213</th>\n",
       "      <th>constructorId_214</th>\n",
       "      <th>constructorId_215</th>\n",
       "      <th>Top 3 Finish</th>\n",
       "    </tr>\n",
       "  </thead>\n",
       "  <tbody>\n",
       "    <tr>\n",
       "      <th>493</th>\n",
       "      <td>1983</td>\n",
       "      <td>2</td>\n",
       "      <td>22</td>\n",
       "      <td>33.333333</td>\n",
       "      <td>27.380952</td>\n",
       "      <td>0.0</td>\n",
       "      <td>50.0</td>\n",
       "      <td>8.333333</td>\n",
       "      <td>8.845238</td>\n",
       "      <td>19.0</td>\n",
       "      <td>...</td>\n",
       "      <td>False</td>\n",
       "      <td>False</td>\n",
       "      <td>False</td>\n",
       "      <td>False</td>\n",
       "      <td>False</td>\n",
       "      <td>False</td>\n",
       "      <td>False</td>\n",
       "      <td>False</td>\n",
       "      <td>False</td>\n",
       "      <td>1</td>\n",
       "    </tr>\n",
       "    <tr>\n",
       "      <th>494</th>\n",
       "      <td>1983</td>\n",
       "      <td>2</td>\n",
       "      <td>23</td>\n",
       "      <td>21.428571</td>\n",
       "      <td>27.380952</td>\n",
       "      <td>100.0</td>\n",
       "      <td>50.0</td>\n",
       "      <td>9.357143</td>\n",
       "      <td>8.845238</td>\n",
       "      <td>2.0</td>\n",
       "      <td>...</td>\n",
       "      <td>False</td>\n",
       "      <td>False</td>\n",
       "      <td>False</td>\n",
       "      <td>False</td>\n",
       "      <td>False</td>\n",
       "      <td>False</td>\n",
       "      <td>False</td>\n",
       "      <td>False</td>\n",
       "      <td>False</td>\n",
       "      <td>1</td>\n",
       "    </tr>\n",
       "    <tr>\n",
       "      <th>495</th>\n",
       "      <td>1983</td>\n",
       "      <td>2</td>\n",
       "      <td>2</td>\n",
       "      <td>25.000000</td>\n",
       "      <td>31.250000</td>\n",
       "      <td>0.0</td>\n",
       "      <td>0.0</td>\n",
       "      <td>14.062500</td>\n",
       "      <td>11.593750</td>\n",
       "      <td>9.0</td>\n",
       "      <td>...</td>\n",
       "      <td>False</td>\n",
       "      <td>False</td>\n",
       "      <td>False</td>\n",
       "      <td>False</td>\n",
       "      <td>False</td>\n",
       "      <td>False</td>\n",
       "      <td>False</td>\n",
       "      <td>False</td>\n",
       "      <td>False</td>\n",
       "      <td>1</td>\n",
       "    </tr>\n",
       "    <tr>\n",
       "      <th>496</th>\n",
       "      <td>1983</td>\n",
       "      <td>2</td>\n",
       "      <td>4</td>\n",
       "      <td>6.666667</td>\n",
       "      <td>23.333333</td>\n",
       "      <td>100.0</td>\n",
       "      <td>50.0</td>\n",
       "      <td>16.466667</td>\n",
       "      <td>11.233333</td>\n",
       "      <td>3.0</td>\n",
       "      <td>...</td>\n",
       "      <td>False</td>\n",
       "      <td>False</td>\n",
       "      <td>False</td>\n",
       "      <td>False</td>\n",
       "      <td>False</td>\n",
       "      <td>False</td>\n",
       "      <td>False</td>\n",
       "      <td>False</td>\n",
       "      <td>False</td>\n",
       "      <td>0</td>\n",
       "    </tr>\n",
       "    <tr>\n",
       "      <th>497</th>\n",
       "      <td>1983</td>\n",
       "      <td>2</td>\n",
       "      <td>16</td>\n",
       "      <td>0.000000</td>\n",
       "      <td>0.000000</td>\n",
       "      <td>0.0</td>\n",
       "      <td>0.0</td>\n",
       "      <td>10.166667</td>\n",
       "      <td>5.083333</td>\n",
       "      <td>5.0</td>\n",
       "      <td>...</td>\n",
       "      <td>False</td>\n",
       "      <td>False</td>\n",
       "      <td>False</td>\n",
       "      <td>False</td>\n",
       "      <td>False</td>\n",
       "      <td>False</td>\n",
       "      <td>False</td>\n",
       "      <td>False</td>\n",
       "      <td>False</td>\n",
       "      <td>0</td>\n",
       "    </tr>\n",
       "    <tr>\n",
       "      <th>499</th>\n",
       "      <td>1983</td>\n",
       "      <td>2</td>\n",
       "      <td>26</td>\n",
       "      <td>0.000000</td>\n",
       "      <td>0.000000</td>\n",
       "      <td>0.0</td>\n",
       "      <td>0.0</td>\n",
       "      <td>20.866667</td>\n",
       "      <td>20.433333</td>\n",
       "      <td>20.0</td>\n",
       "      <td>...</td>\n",
       "      <td>False</td>\n",
       "      <td>False</td>\n",
       "      <td>False</td>\n",
       "      <td>False</td>\n",
       "      <td>False</td>\n",
       "      <td>False</td>\n",
       "      <td>False</td>\n",
       "      <td>False</td>\n",
       "      <td>False</td>\n",
       "      <td>0</td>\n",
       "    </tr>\n",
       "    <tr>\n",
       "      <th>501</th>\n",
       "      <td>1983</td>\n",
       "      <td>2</td>\n",
       "      <td>7</td>\n",
       "      <td>12.500000</td>\n",
       "      <td>6.250000</td>\n",
       "      <td>0.0</td>\n",
       "      <td>0.0</td>\n",
       "      <td>9.000000</td>\n",
       "      <td>4.500000</td>\n",
       "      <td>26.0</td>\n",
       "      <td>...</td>\n",
       "      <td>False</td>\n",
       "      <td>False</td>\n",
       "      <td>False</td>\n",
       "      <td>False</td>\n",
       "      <td>False</td>\n",
       "      <td>False</td>\n",
       "      <td>False</td>\n",
       "      <td>False</td>\n",
       "      <td>False</td>\n",
       "      <td>0</td>\n",
       "    </tr>\n",
       "    <tr>\n",
       "      <th>502</th>\n",
       "      <td>1983</td>\n",
       "      <td>2</td>\n",
       "      <td>11</td>\n",
       "      <td>20.000000</td>\n",
       "      <td>16.666667</td>\n",
       "      <td>0.0</td>\n",
       "      <td>50.0</td>\n",
       "      <td>14.666667</td>\n",
       "      <td>14.366667</td>\n",
       "      <td>23.0</td>\n",
       "      <td>...</td>\n",
       "      <td>False</td>\n",
       "      <td>False</td>\n",
       "      <td>False</td>\n",
       "      <td>False</td>\n",
       "      <td>False</td>\n",
       "      <td>False</td>\n",
       "      <td>False</td>\n",
       "      <td>False</td>\n",
       "      <td>False</td>\n",
       "      <td>0</td>\n",
       "    </tr>\n",
       "    <tr>\n",
       "      <th>503</th>\n",
       "      <td>1983</td>\n",
       "      <td>2</td>\n",
       "      <td>8</td>\n",
       "      <td>25.000000</td>\n",
       "      <td>22.500000</td>\n",
       "      <td>0.0</td>\n",
       "      <td>0.0</td>\n",
       "      <td>10.000000</td>\n",
       "      <td>11.900000</td>\n",
       "      <td>6.0</td>\n",
       "      <td>...</td>\n",
       "      <td>False</td>\n",
       "      <td>False</td>\n",
       "      <td>False</td>\n",
       "      <td>False</td>\n",
       "      <td>False</td>\n",
       "      <td>False</td>\n",
       "      <td>False</td>\n",
       "      <td>False</td>\n",
       "      <td>False</td>\n",
       "      <td>0</td>\n",
       "    </tr>\n",
       "    <tr>\n",
       "      <th>504</th>\n",
       "      <td>1983</td>\n",
       "      <td>2</td>\n",
       "      <td>13</td>\n",
       "      <td>7.692308</td>\n",
       "      <td>7.179487</td>\n",
       "      <td>0.0</td>\n",
       "      <td>0.0</td>\n",
       "      <td>13.692308</td>\n",
       "      <td>12.146154</td>\n",
       "      <td>11.0</td>\n",
       "      <td>...</td>\n",
       "      <td>False</td>\n",
       "      <td>False</td>\n",
       "      <td>False</td>\n",
       "      <td>False</td>\n",
       "      <td>False</td>\n",
       "      <td>False</td>\n",
       "      <td>False</td>\n",
       "      <td>False</td>\n",
       "      <td>False</td>\n",
       "      <td>0</td>\n",
       "    </tr>\n",
       "    <tr>\n",
       "      <th>505</th>\n",
       "      <td>1983</td>\n",
       "      <td>2</td>\n",
       "      <td>15</td>\n",
       "      <td>20.000000</td>\n",
       "      <td>22.500000</td>\n",
       "      <td>0.0</td>\n",
       "      <td>0.0</td>\n",
       "      <td>13.800000</td>\n",
       "      <td>11.900000</td>\n",
       "      <td>18.0</td>\n",
       "      <td>...</td>\n",
       "      <td>False</td>\n",
       "      <td>False</td>\n",
       "      <td>False</td>\n",
       "      <td>False</td>\n",
       "      <td>False</td>\n",
       "      <td>False</td>\n",
       "      <td>False</td>\n",
       "      <td>False</td>\n",
       "      <td>False</td>\n",
       "      <td>0</td>\n",
       "    </tr>\n",
       "    <tr>\n",
       "      <th>507</th>\n",
       "      <td>1983</td>\n",
       "      <td>2</td>\n",
       "      <td>20</td>\n",
       "      <td>13.333333</td>\n",
       "      <td>16.666667</td>\n",
       "      <td>100.0</td>\n",
       "      <td>50.0</td>\n",
       "      <td>14.066667</td>\n",
       "      <td>14.366667</td>\n",
       "      <td>1.0</td>\n",
       "      <td>...</td>\n",
       "      <td>False</td>\n",
       "      <td>False</td>\n",
       "      <td>False</td>\n",
       "      <td>False</td>\n",
       "      <td>False</td>\n",
       "      <td>False</td>\n",
       "      <td>False</td>\n",
       "      <td>False</td>\n",
       "      <td>False</td>\n",
       "      <td>0</td>\n",
       "    </tr>\n",
       "    <tr>\n",
       "      <th>508</th>\n",
       "      <td>1983</td>\n",
       "      <td>2</td>\n",
       "      <td>19</td>\n",
       "      <td>6.250000</td>\n",
       "      <td>3.125000</td>\n",
       "      <td>0.0</td>\n",
       "      <td>0.0</td>\n",
       "      <td>14.437500</td>\n",
       "      <td>15.685417</td>\n",
       "      <td>27.0</td>\n",
       "      <td>...</td>\n",
       "      <td>False</td>\n",
       "      <td>False</td>\n",
       "      <td>False</td>\n",
       "      <td>False</td>\n",
       "      <td>False</td>\n",
       "      <td>False</td>\n",
       "      <td>False</td>\n",
       "      <td>False</td>\n",
       "      <td>False</td>\n",
       "      <td>0</td>\n",
       "    </tr>\n",
       "    <tr>\n",
       "      <th>509</th>\n",
       "      <td>1983</td>\n",
       "      <td>2</td>\n",
       "      <td>5</td>\n",
       "      <td>6.666667</td>\n",
       "      <td>7.179487</td>\n",
       "      <td>0.0</td>\n",
       "      <td>0.0</td>\n",
       "      <td>10.600000</td>\n",
       "      <td>12.146154</td>\n",
       "      <td>16.0</td>\n",
       "      <td>...</td>\n",
       "      <td>False</td>\n",
       "      <td>False</td>\n",
       "      <td>False</td>\n",
       "      <td>False</td>\n",
       "      <td>False</td>\n",
       "      <td>False</td>\n",
       "      <td>False</td>\n",
       "      <td>False</td>\n",
       "      <td>False</td>\n",
       "      <td>0</td>\n",
       "    </tr>\n",
       "    <tr>\n",
       "      <th>510</th>\n",
       "      <td>1983</td>\n",
       "      <td>2</td>\n",
       "      <td>18</td>\n",
       "      <td>0.000000</td>\n",
       "      <td>0.000000</td>\n",
       "      <td>0.0</td>\n",
       "      <td>0.0</td>\n",
       "      <td>22.533333</td>\n",
       "      <td>11.266667</td>\n",
       "      <td>17.0</td>\n",
       "      <td>...</td>\n",
       "      <td>False</td>\n",
       "      <td>False</td>\n",
       "      <td>False</td>\n",
       "      <td>False</td>\n",
       "      <td>False</td>\n",
       "      <td>False</td>\n",
       "      <td>False</td>\n",
       "      <td>False</td>\n",
       "      <td>False</td>\n",
       "      <td>0</td>\n",
       "    </tr>\n",
       "    <tr>\n",
       "      <th>511</th>\n",
       "      <td>1983</td>\n",
       "      <td>2</td>\n",
       "      <td>10</td>\n",
       "      <td>0.000000</td>\n",
       "      <td>0.000000</td>\n",
       "      <td>0.0</td>\n",
       "      <td>0.0</td>\n",
       "      <td>20.000000</td>\n",
       "      <td>20.433333</td>\n",
       "      <td>22.0</td>\n",
       "      <td>...</td>\n",
       "      <td>False</td>\n",
       "      <td>False</td>\n",
       "      <td>False</td>\n",
       "      <td>False</td>\n",
       "      <td>False</td>\n",
       "      <td>False</td>\n",
       "      <td>False</td>\n",
       "      <td>False</td>\n",
       "      <td>False</td>\n",
       "      <td>0</td>\n",
       "    </tr>\n",
       "    <tr>\n",
       "      <th>512</th>\n",
       "      <td>1983</td>\n",
       "      <td>2</td>\n",
       "      <td>14</td>\n",
       "      <td>0.000000</td>\n",
       "      <td>0.000000</td>\n",
       "      <td>0.0</td>\n",
       "      <td>0.0</td>\n",
       "      <td>15.250000</td>\n",
       "      <td>17.982143</td>\n",
       "      <td>25.0</td>\n",
       "      <td>...</td>\n",
       "      <td>False</td>\n",
       "      <td>False</td>\n",
       "      <td>False</td>\n",
       "      <td>False</td>\n",
       "      <td>False</td>\n",
       "      <td>False</td>\n",
       "      <td>False</td>\n",
       "      <td>False</td>\n",
       "      <td>False</td>\n",
       "      <td>0</td>\n",
       "    </tr>\n",
       "    <tr>\n",
       "      <th>513</th>\n",
       "      <td>1983</td>\n",
       "      <td>2</td>\n",
       "      <td>21</td>\n",
       "      <td>0.000000</td>\n",
       "      <td>3.125000</td>\n",
       "      <td>0.0</td>\n",
       "      <td>0.0</td>\n",
       "      <td>16.933333</td>\n",
       "      <td>15.685417</td>\n",
       "      <td>21.0</td>\n",
       "      <td>...</td>\n",
       "      <td>False</td>\n",
       "      <td>False</td>\n",
       "      <td>False</td>\n",
       "      <td>False</td>\n",
       "      <td>False</td>\n",
       "      <td>False</td>\n",
       "      <td>False</td>\n",
       "      <td>False</td>\n",
       "      <td>False</td>\n",
       "      <td>0</td>\n",
       "    </tr>\n",
       "    <tr>\n",
       "      <th>514</th>\n",
       "      <td>1983</td>\n",
       "      <td>2</td>\n",
       "      <td>1</td>\n",
       "      <td>37.500000</td>\n",
       "      <td>31.250000</td>\n",
       "      <td>0.0</td>\n",
       "      <td>0.0</td>\n",
       "      <td>9.125000</td>\n",
       "      <td>11.593750</td>\n",
       "      <td>4.0</td>\n",
       "      <td>...</td>\n",
       "      <td>False</td>\n",
       "      <td>False</td>\n",
       "      <td>False</td>\n",
       "      <td>False</td>\n",
       "      <td>False</td>\n",
       "      <td>False</td>\n",
       "      <td>False</td>\n",
       "      <td>False</td>\n",
       "      <td>False</td>\n",
       "      <td>0</td>\n",
       "    </tr>\n",
       "    <tr>\n",
       "      <th>515</th>\n",
       "      <td>1983</td>\n",
       "      <td>2</td>\n",
       "      <td>3</td>\n",
       "      <td>40.000000</td>\n",
       "      <td>23.333333</td>\n",
       "      <td>0.0</td>\n",
       "      <td>50.0</td>\n",
       "      <td>6.000000</td>\n",
       "      <td>11.233333</td>\n",
       "      <td>15.0</td>\n",
       "      <td>...</td>\n",
       "      <td>False</td>\n",
       "      <td>False</td>\n",
       "      <td>False</td>\n",
       "      <td>False</td>\n",
       "      <td>False</td>\n",
       "      <td>False</td>\n",
       "      <td>False</td>\n",
       "      <td>False</td>\n",
       "      <td>False</td>\n",
       "      <td>0</td>\n",
       "    </tr>\n",
       "    <tr>\n",
       "      <th>516</th>\n",
       "      <td>1983</td>\n",
       "      <td>2</td>\n",
       "      <td>25</td>\n",
       "      <td>0.000000</td>\n",
       "      <td>0.000000</td>\n",
       "      <td>0.0</td>\n",
       "      <td>0.0</td>\n",
       "      <td>18.562500</td>\n",
       "      <td>9.281250</td>\n",
       "      <td>13.0</td>\n",
       "      <td>...</td>\n",
       "      <td>False</td>\n",
       "      <td>False</td>\n",
       "      <td>False</td>\n",
       "      <td>False</td>\n",
       "      <td>False</td>\n",
       "      <td>False</td>\n",
       "      <td>False</td>\n",
       "      <td>False</td>\n",
       "      <td>False</td>\n",
       "      <td>0</td>\n",
       "    </tr>\n",
       "    <tr>\n",
       "      <th>517</th>\n",
       "      <td>1983</td>\n",
       "      <td>2</td>\n",
       "      <td>6</td>\n",
       "      <td>0.000000</td>\n",
       "      <td>0.000000</td>\n",
       "      <td>0.0</td>\n",
       "      <td>0.0</td>\n",
       "      <td>20.714286</td>\n",
       "      <td>17.982143</td>\n",
       "      <td>7.0</td>\n",
       "      <td>...</td>\n",
       "      <td>False</td>\n",
       "      <td>False</td>\n",
       "      <td>False</td>\n",
       "      <td>False</td>\n",
       "      <td>False</td>\n",
       "      <td>False</td>\n",
       "      <td>False</td>\n",
       "      <td>False</td>\n",
       "      <td>False</td>\n",
       "      <td>0</td>\n",
       "    </tr>\n",
       "    <tr>\n",
       "      <th>518</th>\n",
       "      <td>1983</td>\n",
       "      <td>2</td>\n",
       "      <td>24</td>\n",
       "      <td>0.000000</td>\n",
       "      <td>0.000000</td>\n",
       "      <td>0.0</td>\n",
       "      <td>0.0</td>\n",
       "      <td>18.062500</td>\n",
       "      <td>9.031250</td>\n",
       "      <td>14.0</td>\n",
       "      <td>...</td>\n",
       "      <td>False</td>\n",
       "      <td>False</td>\n",
       "      <td>False</td>\n",
       "      <td>False</td>\n",
       "      <td>False</td>\n",
       "      <td>False</td>\n",
       "      <td>False</td>\n",
       "      <td>False</td>\n",
       "      <td>False</td>\n",
       "      <td>0</td>\n",
       "    </tr>\n",
       "    <tr>\n",
       "      <th>521</th>\n",
       "      <td>1983</td>\n",
       "      <td>3</td>\n",
       "      <td>1</td>\n",
       "      <td>25.000000</td>\n",
       "      <td>22.500000</td>\n",
       "      <td>0.0</td>\n",
       "      <td>0.0</td>\n",
       "      <td>10.000000</td>\n",
       "      <td>11.900000</td>\n",
       "      <td>8.5</td>\n",
       "      <td>...</td>\n",
       "      <td>False</td>\n",
       "      <td>False</td>\n",
       "      <td>False</td>\n",
       "      <td>False</td>\n",
       "      <td>False</td>\n",
       "      <td>False</td>\n",
       "      <td>False</td>\n",
       "      <td>False</td>\n",
       "      <td>False</td>\n",
       "      <td>1</td>\n",
       "    </tr>\n",
       "    <tr>\n",
       "      <th>522</th>\n",
       "      <td>1983</td>\n",
       "      <td>3</td>\n",
       "      <td>6</td>\n",
       "      <td>13.333333</td>\n",
       "      <td>16.666667</td>\n",
       "      <td>50.0</td>\n",
       "      <td>25.0</td>\n",
       "      <td>14.066667</td>\n",
       "      <td>14.366667</td>\n",
       "      <td>8.0</td>\n",
       "      <td>...</td>\n",
       "      <td>False</td>\n",
       "      <td>False</td>\n",
       "      <td>False</td>\n",
       "      <td>False</td>\n",
       "      <td>False</td>\n",
       "      <td>False</td>\n",
       "      <td>False</td>\n",
       "      <td>False</td>\n",
       "      <td>False</td>\n",
       "      <td>1</td>\n",
       "    </tr>\n",
       "  </tbody>\n",
       "</table>\n",
       "<p>25 rows × 316 columns</p>\n",
       "</div>"
      ],
      "text/plain": [
       "     year  round  grid  Driver Top 3 Finish Percentage (Last Year)  \\\n",
       "493  1983      2    22                                   33.333333   \n",
       "494  1983      2    23                                   21.428571   \n",
       "495  1983      2     2                                   25.000000   \n",
       "496  1983      2     4                                    6.666667   \n",
       "497  1983      2    16                                    0.000000   \n",
       "499  1983      2    26                                    0.000000   \n",
       "501  1983      2     7                                   12.500000   \n",
       "502  1983      2    11                                   20.000000   \n",
       "503  1983      2     8                                   25.000000   \n",
       "504  1983      2    13                                    7.692308   \n",
       "505  1983      2    15                                   20.000000   \n",
       "507  1983      2    20                                   13.333333   \n",
       "508  1983      2    19                                    6.250000   \n",
       "509  1983      2     5                                    6.666667   \n",
       "510  1983      2    18                                    0.000000   \n",
       "511  1983      2    10                                    0.000000   \n",
       "512  1983      2    14                                    0.000000   \n",
       "513  1983      2    21                                    0.000000   \n",
       "514  1983      2     1                                   37.500000   \n",
       "515  1983      2     3                                   40.000000   \n",
       "516  1983      2    25                                    0.000000   \n",
       "517  1983      2     6                                    0.000000   \n",
       "518  1983      2    24                                    0.000000   \n",
       "521  1983      3     1                                   25.000000   \n",
       "522  1983      3     6                                   13.333333   \n",
       "\n",
       "     Constructor Top 3 Finish Percentage (Last Year)  \\\n",
       "493                                        27.380952   \n",
       "494                                        27.380952   \n",
       "495                                        31.250000   \n",
       "496                                        23.333333   \n",
       "497                                         0.000000   \n",
       "499                                         0.000000   \n",
       "501                                         6.250000   \n",
       "502                                        16.666667   \n",
       "503                                        22.500000   \n",
       "504                                         7.179487   \n",
       "505                                        22.500000   \n",
       "507                                        16.666667   \n",
       "508                                         3.125000   \n",
       "509                                         7.179487   \n",
       "510                                         0.000000   \n",
       "511                                         0.000000   \n",
       "512                                         0.000000   \n",
       "513                                         3.125000   \n",
       "514                                        31.250000   \n",
       "515                                        23.333333   \n",
       "516                                         0.000000   \n",
       "517                                         0.000000   \n",
       "518                                         0.000000   \n",
       "521                                        22.500000   \n",
       "522                                        16.666667   \n",
       "\n",
       "    Driver Top 3 Finish Percentage (This Year till last race)  \\\n",
       "493                                                0.0          \n",
       "494                                              100.0          \n",
       "495                                                0.0          \n",
       "496                                              100.0          \n",
       "497                                                0.0          \n",
       "499                                                0.0          \n",
       "501                                                0.0          \n",
       "502                                                0.0          \n",
       "503                                                0.0          \n",
       "504                                                0.0          \n",
       "505                                                0.0          \n",
       "507                                              100.0          \n",
       "508                                                0.0          \n",
       "509                                                0.0          \n",
       "510                                                0.0          \n",
       "511                                                0.0          \n",
       "512                                                0.0          \n",
       "513                                                0.0          \n",
       "514                                                0.0          \n",
       "515                                                0.0          \n",
       "516                                                0.0          \n",
       "517                                                0.0          \n",
       "518                                                0.0          \n",
       "521                                                0.0          \n",
       "522                                               50.0          \n",
       "\n",
       "    Constructor Top 3 Finish Percentage (This Year till last race)  \\\n",
       "493                                               50.0               \n",
       "494                                               50.0               \n",
       "495                                                0.0               \n",
       "496                                               50.0               \n",
       "497                                                0.0               \n",
       "499                                                0.0               \n",
       "501                                                0.0               \n",
       "502                                               50.0               \n",
       "503                                                0.0               \n",
       "504                                                0.0               \n",
       "505                                                0.0               \n",
       "507                                               50.0               \n",
       "508                                                0.0               \n",
       "509                                                0.0               \n",
       "510                                                0.0               \n",
       "511                                                0.0               \n",
       "512                                                0.0               \n",
       "513                                                0.0               \n",
       "514                                                0.0               \n",
       "515                                               50.0               \n",
       "516                                                0.0               \n",
       "517                                                0.0               \n",
       "518                                                0.0               \n",
       "521                                                0.0               \n",
       "522                                               25.0               \n",
       "\n",
       "     Driver Avg position (Last Year)  Constructor Avg position (Last Year)  \\\n",
       "493                         8.333333                              8.845238   \n",
       "494                         9.357143                              8.845238   \n",
       "495                        14.062500                             11.593750   \n",
       "496                        16.466667                             11.233333   \n",
       "497                        10.166667                              5.083333   \n",
       "499                        20.866667                             20.433333   \n",
       "501                         9.000000                              4.500000   \n",
       "502                        14.666667                             14.366667   \n",
       "503                        10.000000                             11.900000   \n",
       "504                        13.692308                             12.146154   \n",
       "505                        13.800000                             11.900000   \n",
       "507                        14.066667                             14.366667   \n",
       "508                        14.437500                             15.685417   \n",
       "509                        10.600000                             12.146154   \n",
       "510                        22.533333                             11.266667   \n",
       "511                        20.000000                             20.433333   \n",
       "512                        15.250000                             17.982143   \n",
       "513                        16.933333                             15.685417   \n",
       "514                         9.125000                             11.593750   \n",
       "515                         6.000000                             11.233333   \n",
       "516                        18.562500                              9.281250   \n",
       "517                        20.714286                             17.982143   \n",
       "518                        18.062500                              9.031250   \n",
       "521                        10.000000                             11.900000   \n",
       "522                        14.066667                             14.366667   \n",
       "\n",
       "    Driver Average Position (This Year till last race)  ... constructorId_206  \\\n",
       "493                                               19.0  ...             False   \n",
       "494                                                2.0  ...             False   \n",
       "495                                                9.0  ...             False   \n",
       "496                                                3.0  ...             False   \n",
       "497                                                5.0  ...             False   \n",
       "499                                               20.0  ...             False   \n",
       "501                                               26.0  ...             False   \n",
       "502                                               23.0  ...             False   \n",
       "503                                                6.0  ...             False   \n",
       "504                                               11.0  ...             False   \n",
       "505                                               18.0  ...             False   \n",
       "507                                                1.0  ...             False   \n",
       "508                                               27.0  ...             False   \n",
       "509                                               16.0  ...             False   \n",
       "510                                               17.0  ...             False   \n",
       "511                                               22.0  ...             False   \n",
       "512                                               25.0  ...             False   \n",
       "513                                               21.0  ...             False   \n",
       "514                                                4.0  ...             False   \n",
       "515                                               15.0  ...             False   \n",
       "516                                               13.0  ...             False   \n",
       "517                                                7.0  ...             False   \n",
       "518                                               14.0  ...             False   \n",
       "521                                                8.5  ...             False   \n",
       "522                                                8.0  ...             False   \n",
       "\n",
       "     constructorId_207  constructorId_208  constructorId_209  \\\n",
       "493              False              False              False   \n",
       "494              False              False              False   \n",
       "495              False              False              False   \n",
       "496              False              False              False   \n",
       "497              False              False              False   \n",
       "499              False              False              False   \n",
       "501              False              False              False   \n",
       "502              False              False              False   \n",
       "503              False              False              False   \n",
       "504              False              False              False   \n",
       "505              False              False              False   \n",
       "507              False              False              False   \n",
       "508              False              False              False   \n",
       "509              False              False              False   \n",
       "510              False              False              False   \n",
       "511              False              False              False   \n",
       "512              False              False              False   \n",
       "513              False              False              False   \n",
       "514              False              False              False   \n",
       "515              False              False              False   \n",
       "516              False              False              False   \n",
       "517              False              False              False   \n",
       "518              False              False              False   \n",
       "521              False              False              False   \n",
       "522              False              False              False   \n",
       "\n",
       "     constructorId_210  constructorId_211  constructorId_213  \\\n",
       "493              False              False              False   \n",
       "494              False              False              False   \n",
       "495              False              False              False   \n",
       "496              False              False              False   \n",
       "497              False              False              False   \n",
       "499              False              False              False   \n",
       "501              False              False              False   \n",
       "502              False              False              False   \n",
       "503              False              False              False   \n",
       "504              False              False              False   \n",
       "505              False              False              False   \n",
       "507              False              False              False   \n",
       "508              False              False              False   \n",
       "509              False              False              False   \n",
       "510              False              False              False   \n",
       "511              False              False              False   \n",
       "512              False              False              False   \n",
       "513              False              False              False   \n",
       "514              False              False              False   \n",
       "515              False              False              False   \n",
       "516              False              False              False   \n",
       "517              False              False              False   \n",
       "518              False              False              False   \n",
       "521              False              False              False   \n",
       "522              False              False              False   \n",
       "\n",
       "     constructorId_214  constructorId_215  Top 3 Finish  \n",
       "493              False              False             1  \n",
       "494              False              False             1  \n",
       "495              False              False             1  \n",
       "496              False              False             0  \n",
       "497              False              False             0  \n",
       "499              False              False             0  \n",
       "501              False              False             0  \n",
       "502              False              False             0  \n",
       "503              False              False             0  \n",
       "504              False              False             0  \n",
       "505              False              False             0  \n",
       "507              False              False             0  \n",
       "508              False              False             0  \n",
       "509              False              False             0  \n",
       "510              False              False             0  \n",
       "511              False              False             0  \n",
       "512              False              False             0  \n",
       "513              False              False             0  \n",
       "514              False              False             0  \n",
       "515              False              False             0  \n",
       "516              False              False             0  \n",
       "517              False              False             0  \n",
       "518              False              False             0  \n",
       "521              False              False             1  \n",
       "522              False              False             1  \n",
       "\n",
       "[25 rows x 316 columns]"
      ]
     },
     "execution_count": 110,
     "metadata": {},
     "output_type": "execute_result"
    }
   ],
   "source": [
    "df_final_encoded.head(25)"
   ]
  },
  {
   "cell_type": "markdown",
   "metadata": {},
   "source": [
    "Data Modelling "
   ]
  },
  {
   "cell_type": "markdown",
   "metadata": {},
   "source": [
    "Model 1: Predicting F1 podiums without qualfying data:\n",
    "Trianing data: year 1983 - 2008\n",
    "\n",
    "Validation data: year 2009 - 2016\n",
    "\n",
    "Test data: year 2017 - 2023"
   ]
  },
  {
   "cell_type": "code",
   "execution_count": 111,
   "metadata": {},
   "outputs": [],
   "source": [
    "#features taken to train model: year, round, circuit, constructor, race,  percentages of finishing in top 3 for the past year for drivers,  percentages of finishing in top 3 for the past year for constructors\n",
    "# drop features detected in heatmap that dont correlate to top 3 finishes target variable\n",
    "df_new = df_final_encoded.drop([\"grid\", \"Driver Top 3 Finish Percentage (This Year till last race)\", \"Constructor Top 3 Finish Percentage (This Year till last race)\", \"Driver Average Position (This Year till last race)\", \"Constructor Average Position (This Year till last race)\", \"Driver Average Position (This Year till last race)\", \"Constructor Average Position (This Year till last race)\"], axis = 1) "
   ]
  },
  {
   "cell_type": "code",
   "execution_count": 112,
   "metadata": {},
   "outputs": [],
   "source": [
    "#splitting data into training, validation and testing data based on years\n",
    "train_df = df_new[(df_new[\"year\"] >= 1983) & (df_new[\"year\"] <= 2008)]\n",
    "val_df = df_new[(df_new[\"year\"] >= 2009) & (df_new[\"year\"] <= 2016)]\n",
    "test_df = df_new[(df_new[\"year\"] >= 2017) & (df_new[\"year\"] <= 2023)]\n",
    "\n",
    "X_train = train_df[train_df.columns.tolist()[:-1]].values\n",
    "y_train = train_df['Top 3 Finish'].values\n",
    "X_val = val_df[train_df.columns.tolist()[:-1]].values\n",
    "y_val = val_df['Top 3 Finish'].values\n",
    "X_test = test_df[train_df.columns.tolist()[:-1]].values\n",
    "y_test = test_df['Top 3 Finish'].values"
   ]
  },
  {
   "cell_type": "markdown",
   "metadata": {},
   "source": [
    "This code performs hyperparameter tuning, evaluation, and ROC curve plotting for three machine learning models:\n",
    "\n",
    "Logistic Regression\n",
    "Random Forest Classifier\n",
    "Decision Tree Classifier"
   ]
  },
  {
   "cell_type": "code",
   "execution_count": 113,
   "metadata": {},
   "outputs": [
    {
     "name": "stdout",
     "output_type": "stream",
     "text": [
      "Model: LogisticRegression\n",
      "Best parameters for LogisticRegression: {'C': 0.001, 'random_state': 42}\n",
      "Test AUC-ROC for LogisticRegression: 0.7933\n",
      "\n",
      "Model: RandomForestClassifier\n",
      "Best parameters for RandomForestClassifier: {'max_depth': 10, 'n_estimators': 100, 'random_state': 42}\n",
      "Test AUC-ROC for RandomForestClassifier: 0.8561\n",
      "\n",
      "Model: DecisionTreeClassifier\n",
      "Best parameters for DecisionTreeClassifier: {'max_depth': 5, 'random_state': 42}\n",
      "Test AUC-ROC for DecisionTreeClassifier: 0.6070\n",
      "\n",
      "Model: LogisticRegression, File: LogisticRegression_model_V1.joblib, Test AUC-ROC: 0.7933, Test Accuracy: 0.8178\n",
      "Model: RandomForestClassifier, File: RandomForestClassifier_model_V1.joblib, Test AUC-ROC: 0.8561, Test Accuracy: 0.8187\n",
      "Model: DecisionTreeClassifier, File: DecisionTreeClassifier_model_V1.joblib, Test AUC-ROC: 0.6070, Test Accuracy: 0.8217\n"
     ]
    },
    {
     "data": {
      "image/png": "[encoded data removed]",
      "text/plain": [
       "<Figure size 640x480 with 1 Axes>"
      ]
     },
     "metadata": {},
     "output_type": "display_data"
    }
   ],
   "source": [
    "# #In this scenario, there is an imbalance between the two classes:\n",
    "# Class 1: Drivers finishing in the top 3 (only 3 drivers).\n",
    "# Class 0: Drivers not finishing in the top 3 (more drivers).\n",
    "# This imbalance means that the majority of data belongs to the \"not in top 3\" class.\n",
    "# # Accuracy as a metric would measure the percentage of correct prediction.\n",
    "# # In class-imbalanced datasets, accuracy can be misleading because predicting the majority class(drivers not in top 3) often results in a high accuracy rate.\n",
    "# # Example: If the model always predicts \"not in top 3,\" accuracy might be 85%, but the model will fail to identify any driver in the top 3, which is our goal.\n",
    "#Therefore, we will use AUC-ROC Score will measure how well our model separates 2 classes\n",
    "\n",
    "\n",
    "# Dictionary to store the best model and test accuracy for each algorithm\n",
    "model_accuracy_info = {}\n",
    "\n",
    "# Define the hyperparameter grid for each model\n",
    "param_grid = {\n",
    "    'LogisticRegression': {'C': [0.001, 0.01, 0.1, 1, 10, 100], 'random_state': [42]}, #C:Controls regularization strength.\n",
    "    'RandomForestClassifier': {'n_estimators': [10, 50, 100], 'max_depth': [None, 10, 20, 30], 'random_state': [42]}, #n_estimators: Number of trees in the forest\n",
    "    'DecisionTreeClassifier': {'max_depth': [None, 5, 10, 20], 'random_state': [42]} #max_depth: Maximum depth of trees for Decision Tree and Random Forest.\n",
    "}\n",
    "\n",
    "# Initialize models\n",
    "models = {\n",
    "    'LogisticRegression': LogisticRegression(),\n",
    "    'RandomForestClassifier': RandomForestClassifier(),\n",
    "    'DecisionTreeClassifier': DecisionTreeClassifier()\n",
    "}\n",
    "\n",
    "# Ignore convergence and future warnings\n",
    "\n",
    "simplefilter(\"ignore\", category=ConvergenceWarning)\n",
    "simplefilter(\"ignore\", category=FutureWarning)\n",
    "\n",
    "# Function to manually tune hyperparameters\n",
    "def tune_hyperparameters(model, params, X_train, y_train, X_val, y_val):\n",
    "    best_model = None\n",
    "    best_params = {}\n",
    "    best_auc = 0  # Use AUC-ROC instead of F1 score\n",
    "    for param in ParameterGrid(params):\n",
    "        model.set_params(**param)\n",
    "        model.fit(X_train, y_train)\n",
    "        probabilities = model.predict_proba(X_val) #returns the probability estimates for each class, class 0 and 1\n",
    "        auc = roc_auc_score(y_val, probabilities[:, 1])  # Calculate AUC-ROC, which measures the model’s ability to distinguish between the two classes\n",
    "        if auc > best_auc:\n",
    "            best_auc = auc\n",
    "            best_model = model\n",
    "            best_params = param\n",
    "    return best_model, best_params\n",
    "\n",
    "# Perform hyperparameter tuning and evaluation\n",
    "for name, model in models.items():\n",
    "    print(f\"Model: {name}\")\n",
    "    if name in param_grid:\n",
    "        # Tune hyperparameters\n",
    "        best_model, best_params = tune_hyperparameters(model, param_grid[name], X_train, y_train, X_val, y_val)\n",
    "        print(f\"Best parameters for {name}: {best_params}\")\n",
    "        model = best_model\n",
    "\n",
    "    # Predict and evaluate on test data using AUC-ROC\n",
    "    pred_test = model.predict_proba(X_test)\n",
    "    auc_test = roc_auc_score(y_test, pred_test[:, 1])  # Calculate AUC-ROC\n",
    "    accuracy_test = accuracy_score(y_test, pred_test[:, 1] >= 0.5)  # Calculate accuracy\n",
    "\n",
    "    print(f\"Test AUC-ROC for {name}: {auc_test:.4f}\\n\")\n",
    "    model_filename = f\"{name}_model_V1.joblib\"\n",
    "    joblib.dump(model, model_filename)\n",
    "    model_accuracy_info[name] = {\n",
    "        'model': model_filename,\n",
    "        'auc_roc': auc_test,  # Store AUC-ROC\n",
    "        'accuracy': accuracy_test\n",
    "    }\n",
    "\n",
    "    # Calculate ROC curve and AUC for each model\n",
    "    fpr, tpr, thresholds = roc_curve(y_test, pred_test[:, 1])\n",
    "    roc_auc = auc(fpr, tpr)\n",
    "\n",
    "    # Plot the ROC curve\n",
    "    plt.plot(fpr, tpr, label=f'{name} (area = {roc_auc:.2f})')\n",
    "\n",
    "    # Print model and F1 score info\n",
    "for model_name, info in model_accuracy_info.items():\n",
    "    print(f\"Model: {model_name}, File: {info['model']}, Test AUC-ROC: {info['auc_roc']:.4f}, Test Accuracy: {info['accuracy']:.4f}\")\n",
    "\n",
    "plt.plot([0, 1], [0, 1], 'k--')  # Add a diagonal dashed line\n",
    "plt.xlim([0.0, 1.0])\n",
    "plt.ylim([0.0, 1.05])\n",
    "plt.xlabel('False Positive Rate')\n",
    "plt.ylabel('True Positive Rate')\n",
    "plt.title('Receiver Operating Characteristic (ROC) Curves')\n",
    "plt.legend(loc=\"lower right\")\n",
    "plt.show()"
   ]
  },
  {
   "cell_type": "markdown",
   "metadata": {},
   "source": [
    "Class Imbalance: The dataset is imbalanced, where most drivers do not finish in the top 3.\n",
    "AUC-ROC Score: Measures the model's ability to distinguish between classes (drivers in the top 3 vs. not in the top 3). A higher AUC means better performance."
   ]
  },
  {
   "cell_type": "markdown",
   "metadata": {},
   "source": [
    "Therefore, we will use AUC-ROC Score will measure how well our model separates 2 classes"
   ]
  },
  {
   "cell_type": "markdown",
   "metadata": {},
   "source": [
    "Model 2: Predicting F1 podiums without qualifying data and adding features\n"
   ]
  },
  {
   "cell_type": "code",
   "execution_count": 114,
   "metadata": {},
   "outputs": [],
   "source": [
    "#adding feature: 1.Percentages of finishing in top 3 in drivers 2.Percentages of finishing in constructors\n",
    "df_new = df_final_encoded.drop([\"grid\", \"Driver Average Position (This Year till last race)\", \"Constructor Average Position (This Year till last race)\", \"Driver Average Position (This Year till last race)\", \"Constructor Average Position (This Year till last race)\"], axis = 1)\n",
    "train_df = df_new[(df_new[\"year\"] >= 1983) & (df_new[\"year\"] <= 2008)]\n",
    "val_df = df_new[(df_new[\"year\"] >= 2009) & (df_new[\"year\"] <= 2016)]\n",
    "test_df = df_new[(df_new[\"year\"] >= 2017) & (df_new[\"year\"] <= 2023)]\n",
    "\n",
    "X_train = train_df[train_df.columns.tolist()[:-1]].values\n",
    "y_train = train_df['Top 3 Finish'].values\n",
    "X_val = val_df[train_df.columns.tolist()[:-1]].values\n",
    "y_val = val_df['Top 3 Finish'].values\n",
    "X_test = test_df[train_df.columns.tolist()[:-1]].values\n",
    "y_test = test_df['Top 3 Finish'].values"
   ]
  },
  {
   "cell_type": "code",
   "execution_count": 115,
   "metadata": {},
   "outputs": [
    {
     "name": "stdout",
     "output_type": "stream",
     "text": [
      "Model: LogisticRegression\n",
      "Best parameters for LogisticRegression: {'C': 10, 'random_state': 42}\n",
      "Test AUC-ROC for LogisticRegression: 0.9032\n",
      "\n",
      "Model: RandomForestClassifier\n",
      "Best parameters for RandomForestClassifier: {'max_depth': 10, 'n_estimators': 10, 'random_state': 42}\n",
      "Test AUC-ROC for RandomForestClassifier: 0.8795\n",
      "\n",
      "Model: DecisionTreeClassifier\n",
      "Best parameters for DecisionTreeClassifier: {'max_depth': 5, 'random_state': 42}\n",
      "Test AUC-ROC for DecisionTreeClassifier: 0.5362\n",
      "\n",
      "Model: LogisticRegression, File: LogisticRegression_model_V1.joblib, Test AUC-ROC: 0.9032, Test Accuracy: 0.8641\n",
      "Model: RandomForestClassifier, File: RandomForestClassifier_model_V1.joblib, Test AUC-ROC: 0.8795, Test Accuracy: 0.8315\n",
      "Model: DecisionTreeClassifier, File: DecisionTreeClassifier_model_V1.joblib, Test AUC-ROC: 0.5362, Test Accuracy: 0.8118\n"
     ]
    },
    {
     "data": {
      "image/png": "[encoded data removed]",
      "text/plain": [
       "<Figure size 640x480 with 1 Axes>"
      ]
     },
     "metadata": {},
     "output_type": "display_data"
    }
   ],
   "source": [
    "#Dictionary to store the best model and test accuracy for each algorithm\n",
    "model_accuracy_info = {}\n",
    "\n",
    "# Define the hyperparameter grid for each model\n",
    "param_grid = {\n",
    "    'LogisticRegression': {'C': [0.001, 0.01, 0.1, 1, 10, 100], 'random_state': [42]},\n",
    "    'RandomForestClassifier': {'n_estimators': [10, 50, 100], 'max_depth': [None, 10, 20, 30], 'random_state': [42]},\n",
    "    'DecisionTreeClassifier': {'max_depth': [None, 5, 10, 20], 'random_state': [42]}\n",
    "}\n",
    "\n",
    "# Initialize models\n",
    "models = {\n",
    "    'LogisticRegression': LogisticRegression(),\n",
    "    'RandomForestClassifier': RandomForestClassifier(),\n",
    "    'DecisionTreeClassifier': DecisionTreeClassifier()\n",
    "}\n",
    "\n",
    "# Ignore convergence and future warnings\n",
    "simplefilter(\"ignore\", category=ConvergenceWarning)\n",
    "simplefilter(\"ignore\", category=FutureWarning)\n",
    "\n",
    "# Function to manually tune hyperparameters\n",
    "def tune_hyperparameters(model, params, X_train, y_train, X_val, y_val):\n",
    "    best_model = None\n",
    "    best_params = {}\n",
    "    best_auc = 0  # Use AUC-ROC instead of F1 score\n",
    "    for param in ParameterGrid(params):\n",
    "        model.set_params(**param)\n",
    "        model.fit(X_train, y_train)\n",
    "        probabilities = model.predict_proba(X_val)\n",
    "        auc = roc_auc_score(y_val, probabilities[:, 1])  # Calculate AUC-ROC\n",
    "        if auc > best_auc:\n",
    "            best_auc = auc\n",
    "            best_model = model\n",
    "            best_params = param\n",
    "    return best_model, best_params\n",
    "\n",
    "# Perform hyperparameter tuning and evaluation\n",
    "for name, model in models.items():\n",
    "    print(f\"Model: {name}\")\n",
    "    if name in param_grid:\n",
    "        # Tune hyperparameters\n",
    "        best_model, best_params = tune_hyperparameters(model, param_grid[name], X_train, y_train, X_val, y_val)\n",
    "        print(f\"Best parameters for {name}: {best_params}\")\n",
    "        model = best_model\n",
    "\n",
    "    # Predict and evaluate on test data using AUC-ROC\n",
    "    pred_test = model.predict_proba(X_test)\n",
    "    auc_test = roc_auc_score(y_test, pred_test[:, 1])  # Calculate AUC-ROC\n",
    "    accuracy_test = accuracy_score(y_test, pred_test[:, 1] >= 0.5)  # Calculate accuracy\n",
    "\n",
    "    print(f\"Test AUC-ROC for {name}: {auc_test:.4f}\\n\")\n",
    "    model_filename = f\"{name}_model_V1.joblib\"\n",
    "    joblib.dump(model, model_filename)\n",
    "    model_accuracy_info[name] = {\n",
    "        'model': model_filename,\n",
    "        'auc_roc': auc_test,  # Store AUC-ROC\n",
    "        'accuracy': accuracy_test\n",
    "    }\n",
    "\n",
    "    # Calculate ROC curve and AUC for each model\n",
    "    fpr, tpr, thresholds = roc_curve(y_test, pred_test[:, 1])\n",
    "    roc_auc = auc(fpr, tpr)\n",
    "\n",
    "    # Plot the ROC curve\n",
    "    plt.plot(fpr, tpr, label=f'{name} (area = {roc_auc:.2f})')\n",
    "\n",
    "    # Print model and F1 score info\n",
    "for model_name, info in model_accuracy_info.items():\n",
    "    print(f\"Model: {model_name}, File: {info['model']}, Test AUC-ROC: {info['auc_roc']:.4f}, Test Accuracy: {info['accuracy']:.4f}\")\n",
    "\n",
    "plt.plot([0, 1], [0, 1], 'k--')  # Add a diagonal dashed line\n",
    "plt.xlim([0.0, 1.0])\n",
    "plt.ylim([0.0, 1.05])\n",
    "plt.xlabel('False Positive Rate')\n",
    "plt.ylabel('True Positive Rate')\n",
    "plt.title('Receiver Operating Characteristic (ROC) Curves')\n",
    "plt.legend(loc=\"lower right\")\n",
    "plt.show()"
   ]
  },
  {
   "cell_type": "markdown",
   "metadata": {},
   "source": [
    "Model 3: Predicting F1 podiums with qualifying data\n"
   ]
  },
  {
   "cell_type": "code",
   "execution_count": 116,
   "metadata": {},
   "outputs": [],
   "source": [
    "df_with_qualifying = df_final_encoded\n",
    "train_df = df_with_qualifying[(df_with_qualifying[\"year\"] >= 1983) & (df_with_qualifying[\"year\"] <= 2008)]\n",
    "val_df = df_with_qualifying[(df_with_qualifying[\"year\"] >= 2009) & (df_with_qualifying[\"year\"] <= 2016)]\n",
    "test_df = df_with_qualifying[(df_with_qualifying[\"year\"] >= 2017) & (df_with_qualifying[\"year\"] <= 2023)]\n",
    "\n",
    "X_train = train_df[train_df.columns.tolist()[:-1]].values\n",
    "y_train = train_df['Top 3 Finish'].values\n",
    "X_val = val_df[train_df.columns.tolist()[:-1]].values\n",
    "y_val = val_df['Top 3 Finish'].values\n",
    "X_test = test_df[train_df.columns.tolist()[:-1]].values\n",
    "y_test = test_df['Top 3 Finish'].values"
   ]
  },
  {
   "cell_type": "code",
   "execution_count": 117,
   "metadata": {},
   "outputs": [
    {
     "name": "stdout",
     "output_type": "stream",
     "text": [
      "Model: LogisticRegression\n",
      "Best parameters for LogisticRegression: {'C': 10, 'random_state': 42}\n",
      "Test AUC-ROC for LogisticRegression: 0.9220\n",
      "\n",
      "Model: RandomForestClassifier\n",
      "Best parameters for RandomForestClassifier: {'max_depth': 30, 'n_estimators': 100, 'random_state': 42}\n",
      "Test AUC-ROC for RandomForestClassifier: 0.9167\n",
      "\n",
      "Model: DecisionTreeClassifier\n",
      "Best parameters for DecisionTreeClassifier: {'max_depth': 5, 'random_state': 42}\n",
      "Test AUC-ROC for DecisionTreeClassifier: 0.7125\n",
      "\n",
      "Model: LogisticRegression, File: LogisticRegression_model_V1.joblib, Test AUC-ROC: 0.9220, Test Accuracy: 0.8791\n",
      "Model: RandomForestClassifier, File: RandomForestClassifier_model_V1.joblib, Test AUC-ROC: 0.9167, Test Accuracy: 0.8714\n",
      "Model: DecisionTreeClassifier, File: DecisionTreeClassifier_model_V1.joblib, Test AUC-ROC: 0.7125, Test Accuracy: 0.8440\n"
     ]
    },
    {
     "data": {
      "image/png": "[encoded data removed]",
      "text/plain": [
       "<Figure size 640x480 with 1 Axes>"
      ]
     },
     "metadata": {},
     "output_type": "display_data"
    }
   ],
   "source": [
    "#Dictionary to store the best model and test accuracy for each algorithm\n",
    "model_accuracy_info = {}\n",
    "\n",
    "# Define the hyperparameter grid for each model\n",
    "param_grid = {\n",
    "    'LogisticRegression': {'C': [0.001, 0.01, 0.1, 1, 10, 100], 'random_state': [42]},\n",
    "    'RandomForestClassifier': {'n_estimators': [10, 50, 100], 'max_depth': [None, 10, 20, 30], 'random_state': [42]},\n",
    "    'DecisionTreeClassifier': {'max_depth': [None, 5, 10, 20], 'random_state': [42]}\n",
    "}\n",
    "\n",
    "# Initialize models\n",
    "models = {\n",
    "    'LogisticRegression': LogisticRegression(),\n",
    "    'RandomForestClassifier': RandomForestClassifier(),\n",
    "    'DecisionTreeClassifier': DecisionTreeClassifier()\n",
    "}\n",
    "\n",
    "# Ignore convergence and future warnings\n",
    "simplefilter(\"ignore\", category=ConvergenceWarning)\n",
    "simplefilter(\"ignore\", category=FutureWarning)\n",
    "\n",
    "# Function to manually tune hyperparameters\n",
    "def tune_hyperparameters(model, params, X_train, y_train, X_val, y_val):\n",
    "    best_model = None\n",
    "    best_params = {}\n",
    "    best_auc = 0  # Use AUC-ROC instead of F1 score\n",
    "    for param in ParameterGrid(params):\n",
    "        model.set_params(**param)\n",
    "        model.fit(X_train, y_train)\n",
    "        probabilities = model.predict_proba(X_val)\n",
    "        auc = roc_auc_score(y_val, probabilities[:, 1])  # Calculate AUC-ROC\n",
    "        if auc > best_auc:\n",
    "            best_auc = auc\n",
    "            best_model = model\n",
    "            best_params = param\n",
    "    return best_model, best_params\n",
    "\n",
    "# Perform hyperparameter tuning and evaluation\n",
    "for name, model in models.items():\n",
    "    print(f\"Model: {name}\")\n",
    "    if name in param_grid:\n",
    "        # Tune hyperparameters\n",
    "        best_model, best_params = tune_hyperparameters(model, param_grid[name], X_train, y_train, X_val, y_val)\n",
    "        print(f\"Best parameters for {name}: {best_params}\")\n",
    "        model = best_model\n",
    "\n",
    "    # Predict and evaluate on test data using AUC-ROC\n",
    "    pred_test = model.predict_proba(X_test)\n",
    "    auc_test = roc_auc_score(y_test, pred_test[:, 1])  # Calculate AUC-ROC\n",
    "    accuracy_test = accuracy_score(y_test, pred_test[:, 1] >= 0.5)  # Calculate accuracy\n",
    "\n",
    "    print(f\"Test AUC-ROC for {name}: {auc_test:.4f}\\n\")\n",
    "    model_filename = f\"{name}_model_V1.joblib\"\n",
    "    joblib.dump(model, model_filename)\n",
    "    model_accuracy_info[name] = {\n",
    "        'model': model_filename,\n",
    "        'auc_roc': auc_test,  # Store AUC-ROC\n",
    "        'accuracy': accuracy_test\n",
    "    }\n",
    "\n",
    "    # Calculate ROC curve and AUC for each model\n",
    "    fpr, tpr, thresholds = roc_curve(y_test, pred_test[:, 1])\n",
    "    roc_auc = auc(fpr, tpr)\n",
    "\n",
    "    # Plot the ROC curve\n",
    "    plt.plot(fpr, tpr, label=f'{name} (area = {roc_auc:.2f})')\n",
    "\n",
    "    # Print model and F1 score info\n",
    "for model_name, info in model_accuracy_info.items():\n",
    "    print(f\"Model: {model_name}, File: {info['model']}, Test AUC-ROC: {info['auc_roc']:.4f}, Test Accuracy: {info['accuracy']:.4f}\")\n",
    "\n",
    "plt.plot([0, 1], [0, 1], 'k--')  # Add a diagonal dashed line\n",
    "plt.xlim([0.0, 1.0])\n",
    "plt.ylim([0.0, 1.05])\n",
    "plt.xlabel('False Positive Rate')\n",
    "plt.ylabel('True Positive Rate')\n",
    "plt.title('Receiver Operating Characteristic (ROC) Curves')\n",
    "plt.legend(loc=\"lower right\")\n",
    "plt.show()"
   ]
  },
  {
   "cell_type": "markdown",
   "metadata": {},
   "source": [
    "\n",
    "Model Interpretation"
   ]
  },
  {
   "cell_type": "code",
   "execution_count": 118,
   "metadata": {},
   "outputs": [
    {
     "name": "stdout",
     "output_type": "stream",
     "text": [
      "                                              Feature  Importance\n",
      "5   Driver Top 3 Finish Percentage (This Year till...    0.276352\n",
      "2                                                grid    0.112342\n",
      "9   Driver Average Position (This Year till last r...    0.077744\n",
      "10  Constructor Average Position (This Year till l...    0.072488\n",
      "6   Constructor Top 3 Finish Percentage (This Year...    0.054995\n",
      "4     Constructor Top 3 Finish Percentage (Last Year)    0.053466\n",
      "1                                               round    0.047024\n",
      "7                     Driver Avg position (Last Year)    0.029446\n",
      "0                                                year    0.024211\n",
      "3          Driver Top 3 Finish Percentage (Last Year)    0.021446\n"
     ]
    },
    {
     "data": {
      "text/plain": [
       "<Figure size 7000x2000 with 0 Axes>"
      ]
     },
     "metadata": {},
     "output_type": "display_data"
    }
   ],
   "source": [
    "max_depth = 2 # Adjust this value to control the number of levels shown\n",
    "\n",
    "dt_model = joblib.load(\"DecisionTreeClassifier_model_V1.joblib\")\n",
    "\n",
    "# Set the size of the plot\n",
    "plt.figure(figsize=(70, 20))\n",
    "\n",
    "\n",
    "dt_feature_importances = dt_model.feature_importances_\n",
    "\n",
    "# Create a DataFrame from the feature names and their importances\n",
    "dt_importances_df = pd.DataFrame({\n",
    "    'Feature': train_df.columns[:-1],  # Ensure this matches your feature set\n",
    "    'Importance': dt_feature_importances\n",
    "})\n",
    "\n",
    "# Sort the DataFrame by the importances\n",
    "dt_importances_df.sort_values(by='Importance', ascending=False, inplace=True)\n",
    "\n",
    "# Print the sorted DataFrame\n",
    "print(dt_importances_df.head(10))"
   ]
  },
  {
   "cell_type": "code",
   "execution_count": 119,
   "metadata": {},
   "outputs": [
    {
     "name": "stdout",
     "output_type": "stream",
     "text": [
      "                                              Feature  Importance\n",
      "2                                                grid    0.109818\n",
      "5   Driver Top 3 Finish Percentage (This Year till...    0.103322\n",
      "6   Constructor Top 3 Finish Percentage (This Year...    0.093360\n",
      "9   Driver Average Position (This Year till last r...    0.085857\n",
      "10  Constructor Average Position (This Year till l...    0.080808\n",
      "3          Driver Top 3 Finish Percentage (Last Year)    0.054307\n",
      "1                                               round    0.049677\n",
      "4     Constructor Top 3 Finish Percentage (Last Year)    0.048401\n",
      "7                     Driver Avg position (Last Year)    0.046987\n",
      "8                Constructor Avg position (Last Year)    0.035372\n",
      "{'bootstrap': True, 'ccp_alpha': 0.0, 'class_weight': None, 'criterion': 'gini', 'max_depth': 30, 'max_features': 'sqrt', 'max_leaf_nodes': None, 'max_samples': None, 'min_impurity_decrease': 0.0, 'min_samples_leaf': 1, 'min_samples_split': 2, 'min_weight_fraction_leaf': 0.0, 'monotonic_cst': None, 'n_estimators': 100, 'n_jobs': None, 'oob_score': False, 'random_state': 42, 'verbose': 0, 'warm_start': False}\n"
     ]
    }
   ],
   "source": [
    "model = joblib.load(\"RandomForestClassifier_model_V1.joblib\")\n",
    "importances = model.feature_importances_\n",
    "\n",
    "# Create a DataFrame for visualization\n",
    "importances_df = pd.DataFrame({'Feature': df_with_qualifying.columns[:-1], 'Importance': importances})\n",
    "\n",
    "# Sort the DataFrame\n",
    "importances_df.sort_values(by='Importance', ascending=False, inplace=True)\n",
    "\n",
    "# Display the feature importances\n",
    "print(importances_df.head(10))\n",
    "\n",
    "print(model.get_params(deep = True))"
   ]
  },
  {
   "cell_type": "code",
   "execution_count": 120,
   "metadata": {},
   "outputs": [
    {
     "name": "stdout",
     "output_type": "stream",
     "text": [
      "Optimal Threshold for F1 Score: 0.359\n"
     ]
    },
    {
     "data": {
      "image/png": "[encoded data removed]",
      "text/plain": [
       "<Figure size 640x480 with 2 Axes>"
      ]
     },
     "metadata": {},
     "output_type": "display_data"
    },
    {
     "name": "stdout",
     "output_type": "stream",
     "text": [
      "Accuracy of the model: 0.876\n",
      "F1 Score of the model: 0.685\n"
     ]
    },
    {
     "data": {
      "text/plain": [
       "['RandomForestClassifier_model_V4_with_threshold.joblib']"
      ]
     },
     "execution_count": 120,
     "metadata": {},
     "output_type": "execute_result"
    }
   ],
   "source": [
    "from sklearn.metrics import precision_recall_curve, f1_score, ConfusionMatrixDisplay\n",
    "# Load the model\n",
    "model = joblib.load(\"RandomForestClassifier_model_V1.joblib\")\n",
    "\n",
    "# Predict probabilities on new data\n",
    "data_prob = model.predict_proba(X_test)[:, 1]\n",
    "\n",
    "# Compute Precision-Recall curve\n",
    "precision, recall, thresholds = precision_recall_curve(y_test, data_prob)\n",
    "f1_scores = 2 * recall * precision / (recall + precision + 1e-10)\n",
    "\n",
    "# Find the optimal threshold on f1 since using the default threshold of 0.5 can often lead to misleading results\n",
    "optimal_idx = np.nanargmax(f1_scores)  # Using nanargmax to ignore NaN values\n",
    "optimal_threshold = thresholds[optimal_idx]\n",
    "print(f\"Optimal Threshold for F1 Score: {optimal_threshold:.3f}\")\n",
    "\n",
    "# Apply the new threshold to make class predictions\n",
    "pred_test = (data_prob >= optimal_threshold).astype(int)\n",
    "\n",
    "# Display the Confusion Matrix\n",
    "ConfusionMatrixDisplay.from_predictions(y_test, pred_test, display_labels=['Class 0', 'Class 1'])\n",
    "plt.title(\"Confusion Matrix for Random Forest Classifier on Test Data\")\n",
    "plt.show()\n",
    "\n",
    "# Calculate and print the accuracy\n",
    "accuracy = accuracy_score(y_test, pred_test)\n",
    "print(f\"Accuracy of the model: {accuracy:.3f}\")\n",
    "\n",
    "# Calculate and print the F1 score\n",
    "f1 = f1_score(y_test, pred_test)\n",
    "print(f\"F1 Score of the model: {f1:.3f}\")\n",
    "\n",
    "# Create a dictionary to hold the model and the threshold\n",
    "model_data = {\n",
    "    \"model\": model,\n",
    "    \"threshold\": optimal_threshold\n",
    "}\n",
    "\n",
    "# Save the dictionary\n",
    "model_filename = \"RandomForestClassifier_model_V4_with_threshold.joblib\"\n",
    "joblib.dump(model_data, model_filename)\n",
    "\n",
    "#Precision tells you how many of the instances classified as Class 1 are actually correct.\n",
    "#Recall tells you how many of the actual Class 1 instances were correctly classified.\n",
    "#F1 score is the harmonic mean of precision and recall, providing a balanced measure of model performance."
   ]
  },
  {
   "cell_type": "markdown",
   "metadata": {},
   "source": [
    "Confusion matrix analysis:\n",
    "True Negatives (TN): 1728\n",
    "This represents the number of times the model correctly predicted Class 0 (i.e., drivers who did not finish in the top 3).\n",
    "\n",
    "False Positives (FP): 197\n",
    "These are the times the model incorrectly predicted Class 1 (drivers in the top 3) when they were actually Class 0.\n",
    "\n",
    "False Negatives (FN): 93\n",
    "These are the times the model incorrectly predicted Class 0 when the actual class was Class 1 (i.e., it missed predicting the top 3 finishers).\n",
    "\n",
    "True Positives (TP): 315\n",
    "This is the number of times the model correctly predicted Class 1 (drivers who finished in the top 3).\n",
    "\n",
    "Readings:\n",
    "The model has a high accuracy (87.6%), but its performance on Class 1 (drivers in the top 3) could be improved, as seen from the 93 False Negatives and 197 False Positives.\n",
    "The Precision for Class 1 is 0.615, meaning that out of all instances predicted as top 3, 61.5% were actually correct.\n",
    "The Recall for Class 1 is 0.773, indicating that 77.3% of the actual top 3 finishers were identified by the model.\n",
    "\n"
   ]
  },
  {
   "cell_type": "markdown",
   "metadata": {},
   "source": [
    "F1 podium prediction example: 2023 Spanish Grand Prix (Round 7)\n"
   ]
  },
  {
   "cell_type": "code",
   "execution_count": 121,
   "metadata": {},
   "outputs": [
    {
     "name": "stdout",
     "output_type": "stream",
     "text": [
      "       year  round    driverId   constructorId  grid  Top 3 Finish  \\\n",
      "17201  2023      7  Verstappen        Red Bull     1             1   \n",
      "17202  2023      7    Hamilton        Mercedes     4             1   \n",
      "17203  2023      7     Russell        Mercedes    12             1   \n",
      "17204  2023      7       Pérez        Red Bull    11             0   \n",
      "17205  2023      7       Sainz         Ferrari     2             0   \n",
      "17206  2023      7      Stroll    Aston Martin     5             0   \n",
      "17207  2023      7      Alonso    Aston Martin     8             0   \n",
      "17208  2023      7        Ocon  Alpine F1 Team     6             0   \n",
      "17209  2023      7        Zhou      Alfa Romeo    13             0   \n",
      "17210  2023      7       Gasly  Alpine F1 Team    10             0   \n",
      "17211  2023      7     Leclerc         Ferrari    19             0   \n",
      "17212  2023      7     Tsunoda      AlphaTauri    15             0   \n",
      "17214  2023      7    de Vries      AlphaTauri    14             0   \n",
      "17215  2023      7  Hülkenberg    Haas F1 Team     7             0   \n",
      "17216  2023      7       Albon        Williams    18             0   \n",
      "17217  2023      7      Norris         McLaren     3             0   \n",
      "17218  2023      7   Magnussen    Haas F1 Team    17             0   \n",
      "17219  2023      7      Bottas      Alfa Romeo    16             0   \n",
      "\n",
      "       Top_3_Finish_Prediction  \n",
      "17201                        1  \n",
      "17202                        1  \n",
      "17203                        0  \n",
      "17204                        1  \n",
      "17205                        1  \n",
      "17206                        0  \n",
      "17207                        0  \n",
      "17208                        0  \n",
      "17209                        0  \n",
      "17210                        0  \n",
      "17211                        0  \n",
      "17212                        0  \n",
      "17214                        0  \n",
      "17215                        0  \n",
      "17216                        0  \n",
      "17217                        0  \n",
      "17218                        0  \n",
      "17219                        0  \n"
     ]
    }
   ],
   "source": [
    "\n",
    "\n",
    "round = 7\n",
    "\n",
    "# Load the model and threshold\n",
    "model_data = joblib.load(\"RandomForestClassifier_model_V4_with_threshold.joblib\")\n",
    "model = model_data[\"model\"]\n",
    "optimal_threshold = model_data[\"threshold\"]\n",
    "\n",
    "# Filter the DataFrame for the year 2023 and round 7 (Spanish Grand Prix)\n",
    "df_2023 = df_with_qualifying[(df_with_qualifying[\"year\"] == 2023) & (df_with_qualifying[\"round\"] == round)]\n",
    "\n",
    "# Prepare the feature matrix for prediction\n",
    "X_2023 = df_2023[df_2023.columns.tolist()[:-1]].values\n",
    "\n",
    "# Compute probabilities using the model\n",
    "probabilities = model.predict_proba(X_2023)\n",
    "\n",
    "# Apply the threshold to make class predictions\n",
    "pred_test = (probabilities[:, 1] >= optimal_threshold).astype(int)  # Assuming the second column represents the probability of top 3 finish\n",
    "\n",
    "# Selecting relevant columns and filtering for year 2023 and round 7\n",
    "df_predict2023 = df_final[[\"year\", \"round\", \"driverId\", \"constructorId\", \"grid\", \"Top 3 Finish\"]]\n",
    "df_predict2023 = df_predict2023[(df_predict2023[\"year\"] == 2023) & (df_predict2023[\"round\"] == round)]\n",
    "\n",
    "\n",
    "\n",
    "# Create a dictionary to map 'driverId' to 'surname'\n",
    "driver_name_dict = pd.Series(drivers_df.surname.values, index=drivers_df.driverId).to_dict()\n",
    "\n",
    "# Replace 'driverId' with corresponding 'surname' in df_predict2023\n",
    "df_predict2023['driverId'] = df_predict2023['driverId'].map(driver_name_dict)\n",
    "\n",
    "# Append the predictions to the DataFrame\n",
    "df_predict2023['Top_3_Finish_Prediction'] = pred_test\n",
    "\n",
    "\n",
    "# Create a dictionary to map 'constructorId' to 'name'\n",
    "constructor_name_dict = pd.Series(constructors_df.name.values, index=constructors_df.constructorId).to_dict()\n",
    "\n",
    "# Replace 'constructorId' with corresponding 'name' in df_predict2023\n",
    "df_predict2023['constructorId'] = df_predict2023['constructorId'].map(constructor_name_dict)\n",
    "\n",
    "# Append the predictions to the DataFrame\n",
    "df_predict2023['Top_3_Finish_Prediction'] = pred_test\n",
    "\n",
    "\n",
    "# Print the DataFrame with predictions\n",
    "print(df_predict2023)"
   ]
  },
  {
   "cell_type": "markdown",
   "metadata": {},
   "source": [
    "F1 podium prediction example: 2024 Italian Grand Prix (Round 7)\n"
   ]
  },
  {
   "cell_type": "code",
   "execution_count": 122,
   "metadata": {},
   "outputs": [
    {
     "name": "stdout",
     "output_type": "stream",
     "text": [
      "       year  round    driverId   constructorId  grid  Top 3 Finish  \\\n",
      "17640  2024      7  Verstappen        Red Bull     1             1   \n",
      "17641  2024      7      Norris         McLaren     2             1   \n",
      "17642  2024      7     Leclerc         Ferrari     3             1   \n",
      "17643  2024      7     Piastri         McLaren     5             0   \n",
      "17644  2024      7       Sainz         Ferrari     4             0   \n",
      "17645  2024      7    Hamilton        Mercedes     8             0   \n",
      "17646  2024      7     Russell        Mercedes     6             0   \n",
      "17647  2024      7       Pérez        Red Bull    11             0   \n",
      "17648  2024      7      Stroll    Aston Martin    13             0   \n",
      "17649  2024      7     Tsunoda      RB F1 Team     7             0   \n",
      "17650  2024      7  Hülkenberg    Haas F1 Team    10             0   \n",
      "17651  2024      7   Magnussen    Haas F1 Team    18             0   \n",
      "17652  2024      7   Ricciardo      RB F1 Team     9             0   \n",
      "17653  2024      7        Ocon  Alpine F1 Team    12             0   \n",
      "17654  2024      7        Zhou          Sauber    17             0   \n",
      "17655  2024      7       Gasly  Alpine F1 Team    15             0   \n",
      "17656  2024      7    Sargeant        Williams    19             0   \n",
      "17657  2024      7      Bottas          Sauber    16             0   \n",
      "17658  2024      7      Alonso    Aston Martin    20             0   \n",
      "17659  2024      7       Albon        Williams    14             0   \n",
      "\n",
      "       Top_3_Finish_Prediction  \n",
      "17640                        1  \n",
      "17641                        1  \n",
      "17642                        1  \n",
      "17643                        0  \n",
      "17644                        1  \n",
      "17645                        0  \n",
      "17646                        0  \n",
      "17647                        1  \n",
      "17648                        0  \n",
      "17649                        0  \n",
      "17650                        0  \n",
      "17651                        0  \n",
      "17652                        0  \n",
      "17653                        0  \n",
      "17654                        0  \n",
      "17655                        0  \n",
      "17656                        0  \n",
      "17657                        0  \n",
      "17658                        0  \n",
      "17659                        0  \n"
     ]
    }
   ],
   "source": [
    "\n",
    "\n",
    "round = 7\n",
    "\n",
    "# Load the model and threshold\n",
    "model_data = joblib.load(\"RandomForestClassifier_model_V4_with_threshold.joblib\")\n",
    "model = model_data[\"model\"]\n",
    "optimal_threshold = model_data[\"threshold\"]\n",
    "\n",
    "# Filter the DataFrame for the year 2023 and round 7 (Spanish Grand Prix)\n",
    "df_2024 = df_with_qualifying[(df_with_qualifying[\"year\"] == 2024) & (df_with_qualifying[\"round\"] == round)]\n",
    "\n",
    "# Prepare the feature matrix for prediction\n",
    "X_2024 = df_2024[df_2024.columns.tolist()[:-1]].values\n",
    "\n",
    "# Compute probabilities using the model\n",
    "probabilities = model.predict_proba(X_2024)\n",
    "\n",
    "# Apply the threshold to make class predictions\n",
    "pred_test = (probabilities[:, 1] >= optimal_threshold).astype(int)  # Assuming the second column represents the probability of top 3 finish\n",
    "\n",
    "# Selecting relevant columns and filtering for year 2024 and round 7\n",
    "df_predict2024 = df_final[[\"year\", \"round\", \"driverId\", \"constructorId\", \"grid\", \"Top 3 Finish\"]]\n",
    "df_predict2024 = df_predict2024[(df_predict2024[\"year\"] == 2024) & (df_predict2024[\"round\"] == round)]\n",
    "\n",
    "\n",
    "\n",
    "# Create a dictionary to map 'driverId' to 'surname'\n",
    "driver_name_dict = pd.Series(drivers_df.surname.values, index=drivers_df.driverId).to_dict()\n",
    "\n",
    "# Replace 'driverId' with corresponding 'surname' in df_predict2023\n",
    "df_predict2024['driverId'] = df_predict2024['driverId'].map(driver_name_dict)\n",
    "\n",
    "# Append the predictions to the DataFrame\n",
    "df_predict2024['Top_3_Finish_Prediction'] = pred_test\n",
    "\n",
    "\n",
    "# Create a dictionary to map 'constructorId' to 'name'\n",
    "constructor_name_dict = pd.Series(constructors_df.name.values, index=constructors_df.constructorId).to_dict()\n",
    "\n",
    "# Replace 'constructorId' with corresponding 'name' in df_predict2023\n",
    "df_predict2024['constructorId'] = df_predict2024['constructorId'].map(constructor_name_dict)\n",
    "\n",
    "# Append the predictions to the DataFrame\n",
    "df_predict2024['Top_3_Finish_Prediction'] = pred_test\n",
    "\n",
    "\n",
    "# Print the DataFrame with predictions\n",
    "print(df_predict2024)"
   ]
  }
 ],
 "metadata": {
  "kernelspec": {
   "display_name": "Python 3 (ipykernel)",
   "language": "python",
   "name": "python3"
  },
  "language_info": {
   "codemirror_mode": {
    "name": "ipython",
    "version": 3
   },
   "file_extension": ".py",
   "mimetype": "text/x-python",
   "name": "python",
   "nbconvert_exporter": "python",
   "pygments_lexer": "ipython3",
   "version": "3.12.7"
  }
 },
 "nbformat": 4,
 "nbformat_minor": 4
}
